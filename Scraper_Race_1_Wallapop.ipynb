{
  "nbformat": 4,
  "nbformat_minor": 0,
  "metadata": {
    "colab": {
      "provenance": [],
      "include_colab_link": true
    },
    "kernelspec": {
      "name": "python3",
      "display_name": "Python 3"
    },
    "language_info": {
      "name": "python"
    }
  },
  "cells": [
    {
      "cell_type": "markdown",
      "metadata": {
        "id": "view-in-github",
        "colab_type": "text"
      },
      "source": [
        "<a href=\"https://colab.research.google.com/github/rishabh135/2015/blob/master/Scraper_Race_1_Wallapop.ipynb\" target=\"_parent\"><img src=\"https://colab.research.google.com/assets/colab-badge.svg\" alt=\"Open In Colab\"/></a>"
      ]
    },
    {
      "cell_type": "markdown",
      "source": [
        "## What's the fastest scraper?\n",
        "\n",
        "# Race 1: [Wallapop](https://wallapop.com)\n",
        "\n",
        "Say you want to corner the used car market in Spain and you decide to track wallapop.\n",
        "\n",
        "#### Which scraper should you use?\n",
        "\n",
        "Here we'll explore [Puppeteer JS](https://pptr.dev/), [Playwright Python](https://playwright.dev/python/docs/intro) and [Selenium Python](https://selenium-python.readthedocs.io/index.html) as they all can handle the JS loaded content of this website.\n",
        "\n",
        "\n",
        "### Scraping strategy\n",
        "\n",
        "When scraping a website, I first identify the data source. If the webpage uses server-side rendering, it delivers data in HTML, making it easier to scrape with tools like Scrapy. However, this requires pinpointing relevant CSS classes. Alternatively, if the data comes via an API request, a more advanced scraper that can do the client side rendering is needed. In this race, we'll extract the data from the API responses by intercepting these.\n",
        "\n",
        "\n",
        "_Results at the very bottom_"
      ],
      "metadata": {
        "id": "F1l5fc4F-gCL"
      }
    },
    {
      "cell_type": "code",
      "source": [
        "# This is the URL we'll be scraping:\n",
        "URL = 'https://es.wallapop.com/app/search?category_ids=100&filters_source=search_box&longitude=-3.69196&latitude=40.41956'\n",
        "\n",
        "# ... and this is the API request path we'll be capturing:\n",
        "API_URL = 'api/v3/cars/search'"
      ],
      "metadata": {
        "id": "YAIV1cMzXfIM"
      },
      "execution_count": null,
      "outputs": []
    },
    {
      "cell_type": "markdown",
      "source": [
        "## Puppeteer JS\n"
      ],
      "metadata": {
        "id": "v2De2xK1WXM4"
      }
    },
    {
      "cell_type": "markdown",
      "source": [
        "### Preparation\n",
        "\n",
        "Here we'll install NodeJS and Puppeteer, start a Node JS script and control its runtime with telekinesis."
      ],
      "metadata": {
        "id": "UfN2HUHn-ztT"
      }
    },
    {
      "cell_type": "code",
      "source": [
        "%%bash\n",
        "# Most of this is to install NodeJS\n",
        "sudo apt-get update\n",
        "sudo apt-get install -y ca-certificates curl gnupg\n",
        "sudo mkdir -p /etc/apt/keyrings\n",
        "curl -fsSL https://deb.nodesource.com/gpgkey/nodesource-repo.gpg.key | sudo gpg --dearmor -o /etc/apt/keyrings/nodesource.gpg\n",
        "\n",
        "NODE_MAJOR=18\n",
        "echo \"deb [signed-by=/etc/apt/keyrings/nodesource.gpg] https://deb.nodesource.com/node_$NODE_MAJOR.x nodistro main\" | sudo tee /etc/apt/sources.list.d/nodesource.list\n",
        "\n",
        "sudo apt-get update\n",
        "sudo apt-get install nodejs -y\n",
        "\n",
        "npm install telekinesis-js puppeteer\n",
        "pip install telekinesis"
      ],
      "metadata": {
        "colab": {
          "base_uri": "https://localhost:8080/"
        },
        "collapsed": true,
        "id": "KhslLr6r_471",
        "outputId": "c35d94ed-073b-4b0b-8830-908cf3b889fb"
      },
      "execution_count": null,
      "outputs": [
        {
          "output_type": "stream",
          "name": "stdout",
          "text": [
            "Get:1 https://cloud.r-project.org/bin/linux/ubuntu jammy-cran40/ InRelease [3,626 B]\n",
            "Hit:2 https://developer.download.nvidia.com/compute/cuda/repos/ubuntu2204/x86_64  InRelease\n",
            "Get:3 http://security.ubuntu.com/ubuntu jammy-security InRelease [110 kB]\n",
            "Hit:4 http://archive.ubuntu.com/ubuntu jammy InRelease\n",
            "Get:5 http://archive.ubuntu.com/ubuntu jammy-updates InRelease [119 kB]\n",
            "Hit:6 https://ppa.launchpadcontent.net/c2d4u.team/c2d4u4.0+/ubuntu jammy InRelease\n",
            "Get:7 http://security.ubuntu.com/ubuntu jammy-security/main amd64 Packages [962 kB]\n",
            "Get:8 http://archive.ubuntu.com/ubuntu jammy-backports InRelease [109 kB]\n",
            "Get:9 http://archive.ubuntu.com/ubuntu jammy-updates/universe amd64 Packages [1,254 kB]\n",
            "Hit:10 https://ppa.launchpadcontent.net/deadsnakes/ppa/ubuntu jammy InRelease\n",
            "Get:11 http://security.ubuntu.com/ubuntu jammy-security/restricted amd64 Packages [1,059 kB]\n",
            "Get:12 http://archive.ubuntu.com/ubuntu jammy-updates/main amd64 Packages [1,230 kB]\n",
            "Get:13 http://archive.ubuntu.com/ubuntu jammy-updates/restricted amd64 Packages [1,079 kB]\n",
            "Hit:14 https://ppa.launchpadcontent.net/graphics-drivers/ppa/ubuntu jammy InRelease\n",
            "Hit:15 https://ppa.launchpadcontent.net/ubuntugis/ppa/ubuntu jammy InRelease\n",
            "Fetched 5,926 kB in 4s (1,566 kB/s)\n",
            "Reading package lists...\n",
            "Reading package lists...\n",
            "Building dependency tree...\n",
            "Reading state information...\n",
            "ca-certificates is already the newest version (20230311ubuntu0.22.04.1).\n",
            "curl is already the newest version (7.81.0-1ubuntu1.13).\n",
            "gnupg is already the newest version (2.2.27-3ubuntu2.1).\n",
            "gnupg set to manually installed.\n",
            "0 upgraded, 0 newly installed, 0 to remove and 16 not upgraded.\n",
            "deb [signed-by=/etc/apt/keyrings/nodesource.gpg] https://deb.nodesource.com/node_18.x nodistro main\n",
            "Hit:1 https://cloud.r-project.org/bin/linux/ubuntu jammy-cran40/ InRelease\n",
            "Get:2 https://deb.nodesource.com/node_18.x nodistro InRelease [12.1 kB]\n",
            "Hit:3 https://developer.download.nvidia.com/compute/cuda/repos/ubuntu2204/x86_64  InRelease\n",
            "Hit:4 http://security.ubuntu.com/ubuntu jammy-security InRelease\n",
            "Get:5 https://deb.nodesource.com/node_18.x nodistro/main amd64 Packages [4,853 B]\n",
            "Hit:6 http://archive.ubuntu.com/ubuntu jammy InRelease\n",
            "Hit:7 http://archive.ubuntu.com/ubuntu jammy-updates InRelease\n",
            "Hit:8 https://ppa.launchpadcontent.net/c2d4u.team/c2d4u4.0+/ubuntu jammy InRelease\n",
            "Hit:9 http://archive.ubuntu.com/ubuntu jammy-backports InRelease\n",
            "Hit:10 https://ppa.launchpadcontent.net/deadsnakes/ppa/ubuntu jammy InRelease\n",
            "Hit:11 https://ppa.launchpadcontent.net/graphics-drivers/ppa/ubuntu jammy InRelease\n",
            "Hit:12 https://ppa.launchpadcontent.net/ubuntugis/ppa/ubuntu jammy InRelease\n",
            "Fetched 17.0 kB in 4s (4,835 B/s)\n",
            "Reading package lists...\n",
            "Reading package lists...\n",
            "Building dependency tree...\n",
            "Reading state information...\n",
            "The following NEW packages will be installed:\n",
            "  nodejs\n",
            "0 upgraded, 1 newly installed, 0 to remove and 16 not upgraded.\n",
            "Need to get 29.4 MB of archives.\n",
            "After this operation, 188 MB of additional disk space will be used.\n",
            "Get:1 https://deb.nodesource.com/node_18.x nodistro/main amd64 nodejs amd64 18.17.1-1nodesource1 [29.4 MB]\n",
            "Fetched 29.4 MB in 1s (53.2 MB/s)\n",
            "Selecting previously unselected package nodejs.\r\n",
            "(Reading database ... \r(Reading database ... 5%\r(Reading database ... 10%\r(Reading database ... 15%\r(Reading database ... 20%\r(Reading database ... 25%\r(Reading database ... 30%\r(Reading database ... 35%\r(Reading database ... 40%\r(Reading database ... 45%\r(Reading database ... 50%\r(Reading database ... 55%\r(Reading database ... 60%\r(Reading database ... 65%\r(Reading database ... 70%\r(Reading database ... 75%\r(Reading database ... 80%\r(Reading database ... 85%\r(Reading database ... 90%\r(Reading database ... 95%\r(Reading database ... 100%\r(Reading database ... 120901 files and directories currently installed.)\r\n",
            "Preparing to unpack .../nodejs_18.17.1-1nodesource1_amd64.deb ...\r\n",
            "Unpacking nodejs (18.17.1-1nodesource1) ...\r\n",
            "Setting up nodejs (18.17.1-1nodesource1) ...\r\n",
            "Processing triggers for man-db (2.10.2-1) ...\r\n",
            "\n",
            "added 114 packages in 24s\n",
            "\n",
            "9 packages are looking for funding\n",
            "  run `npm fund` for details\n",
            "Collecting telekinesis\n",
            "  Downloading telekinesis-0.1.86-py3-none-any.whl (27 kB)\n",
            "Collecting websockets (from telekinesis)\n",
            "  Downloading websockets-11.0.3-cp310-cp310-manylinux_2_5_x86_64.manylinux1_x86_64.manylinux_2_17_x86_64.manylinux2014_x86_64.whl (129 kB)\n",
            "     ━━━━━━━━━━━━━━━━━━━━━━━━━━━━━━━━━━━━━━━ 129.9/129.9 kB 4.5 MB/s eta 0:00:00\n",
            "Requirement already satisfied: cryptography in /usr/local/lib/python3.10/dist-packages (from telekinesis) (41.0.3)\n",
            "Collecting bson (from telekinesis)\n",
            "  Downloading bson-0.5.10.tar.gz (10 kB)\n",
            "  Preparing metadata (setup.py): started\n",
            "  Preparing metadata (setup.py): finished with status 'done'\n",
            "Collecting ujson (from telekinesis)\n",
            "  Downloading ujson-5.8.0-cp310-cp310-manylinux_2_17_x86_64.manylinux2014_x86_64.whl (53 kB)\n",
            "     ━━━━━━━━━━━━━━━━━━━━━━━━━━━━━━━━━━━━━━━━ 53.9/53.9 kB 4.8 MB/s eta 0:00:00\n",
            "Requirement already satisfied: packaging in /usr/local/lib/python3.10/dist-packages (from telekinesis) (23.1)\n",
            "Requirement already satisfied: python-dateutil>=2.4.0 in /usr/local/lib/python3.10/dist-packages (from bson->telekinesis) (2.8.2)\n",
            "Requirement already satisfied: six>=1.9.0 in /usr/local/lib/python3.10/dist-packages (from bson->telekinesis) (1.16.0)\n",
            "Requirement already satisfied: cffi>=1.12 in /usr/local/lib/python3.10/dist-packages (from cryptography->telekinesis) (1.15.1)\n",
            "Requirement already satisfied: pycparser in /usr/local/lib/python3.10/dist-packages (from cffi>=1.12->cryptography->telekinesis) (2.21)\n",
            "Building wheels for collected packages: bson\n",
            "  Building wheel for bson (setup.py): started\n",
            "  Building wheel for bson (setup.py): finished with status 'done'\n",
            "  Created wheel for bson: filename=bson-0.5.10-py3-none-any.whl size=11978 sha256=483a64a995473e2efec50e60e4ba4a5ef16942a11547ee641881b3c24610afed\n",
            "  Stored in directory: /root/.cache/pip/wheels/36/49/3b/8b33954dfae7a176009c4d721a45af56c8a9c1cdc3ee947945\n",
            "Successfully built bson\n",
            "Installing collected packages: websockets, ujson, bson, telekinesis\n",
            "Successfully installed bson-0.5.10 telekinesis-0.1.86 ujson-5.8.0 websockets-11.0.3\n"
          ]
        },
        {
          "output_type": "stream",
          "name": "stderr",
          "text": [
            "debconf: unable to initialize frontend: Dialog\n",
            "debconf: (No usable dialog-like program is installed, so the dialog based frontend cannot be used. at /usr/share/perl5/Debconf/FrontEnd/Dialog.pm line 78, <> line 1.)\n",
            "debconf: falling back to frontend: Readline\n",
            "debconf: unable to initialize frontend: Readline\n",
            "debconf: (This frontend requires a controlling tty.)\n",
            "debconf: falling back to frontend: Teletype\n",
            "dpkg-preconfigure: unable to re-open stdin: \n",
            "npm notice \n",
            "npm notice New major version of npm available! 9.6.7 -> 10.1.0\n",
            "npm notice Changelog: <https://github.com/npm/cli/releases/tag/v10.1.0>\n",
            "npm notice Run `npm install -g npm@10.1.0` to update!\n",
            "npm notice \n"
          ]
        }
      ]
    },
    {
      "cell_type": "code",
      "source": [
        "import asyncio\n",
        "import telekinesis as tk\n",
        "import time\n",
        "\n",
        "pods = []\n",
        "\n",
        "broker = await tk.Broker().serve()\n",
        "broker.entrypoint, _ = await tk.create_entrypoint(lambda pod: pods.append(pod))"
      ],
      "metadata": {
        "id": "Vj8ck_xIEJPx"
      },
      "execution_count": null,
      "outputs": []
    },
    {
      "cell_type": "code",
      "source": [
        "jsScript = \"\"\"\n",
        "const vm = require('vm');\n",
        "const tk = require('telekinesis-js');\n",
        "const process = require('process');\n",
        "\n",
        "class Pod {\n",
        "  start() {return new Promise(async resolve => {\n",
        "    this.uncaughtExceptions = [];\n",
        "    this.unhandledRejections = [];\n",
        "    this.stop = resolve;\n",
        "    await new tk.Entrypoint()(this)\n",
        "    process.on('unhandledRejection', this.unhandledRejections.push)\n",
        "    process.on('uncaughtException', this.uncaughtExceptions.push)\n",
        "  })}\n",
        "  async execute(code, inputs) {\n",
        "    const prefix ='(async () => {' ;\n",
        "    const suffix = '});'\n",
        "\n",
        "    inputs = {...inputs} || {};\n",
        "    inputs.require = require;\n",
        "    inputs.setTimeout = setTimeout;\n",
        "    let context = vm.createContext(inputs);\n",
        "    const content = prefix + code + suffix;\n",
        "    return await vm.runInContext(content, context)();\n",
        "  }\n",
        "}\n",
        "\n",
        "new Pod().start()\n",
        "\"\"\"\n",
        "with open('script.js', 'w') as f:\n",
        "  f.write(jsScript)\n"
      ],
      "metadata": {
        "id": "n-Jm3yS9_6uH"
      },
      "execution_count": null,
      "outputs": []
    },
    {
      "cell_type": "code",
      "source": [
        "p = await asyncio.create_subprocess_shell(\n",
        "    'node script.js', stderr=asyncio.subprocess.PIPE, stdout=asyncio.subprocess.PIPE)"
      ],
      "metadata": {
        "id": "wMgt-LUhDRzQ"
      },
      "execution_count": null,
      "outputs": []
    },
    {
      "cell_type": "code",
      "source": [
        "# print(p.stderr.read())\n",
        "puppeteerPod = pods[-1]\n",
        "\n",
        "# Shameless plug: you can get a similar pod in 2 lines of code using PayPerRun, and it would cost you under 0.06/hr\n",
        "\n",
        "# node = await tk.authenticate('wss://payper.run')\n",
        "# puppeteerPod = await node.get('/>/market')().get('/>/compute/puppeteerjs')(cpus=0.8)"
      ],
      "metadata": {
        "id": "aa2aL8SMHOtW"
      },
      "execution_count": null,
      "outputs": []
    },
    {
      "cell_type": "markdown",
      "source": [
        "### Build Scraper"
      ],
      "metadata": {
        "id": "dCTIViK-IPgP"
      }
    },
    {
      "cell_type": "code",
      "source": [
        "browser = await puppeteerPod.execute(\"\"\"\n",
        "  const puppeteer = require('puppeteer');\n",
        "  return await puppeteer.launch({args: ['--no-sandbox'], headless: true});\n",
        "\"\"\")"
      ],
      "metadata": {
        "id": "m8dcuJSJJCC1"
      },
      "execution_count": null,
      "outputs": []
    },
    {
      "cell_type": "code",
      "source": [
        "page = await browser.newPage()\n",
        "await page.goto(URL)\n"
      ],
      "metadata": {
        "colab": {
          "base_uri": "https://localhost:8080/"
        },
        "id": "vsmoFxwKJZpM",
        "outputId": "e9ebba79-4c34-4add-f89e-5689d273a497"
      },
      "execution_count": null,
      "outputs": [
        {
          "output_type": "execute_result",
          "data": {
            "text/plain": [
              "\u001b[92m≈\u001b[0m [object Object]"
            ]
          },
          "metadata": {},
          "execution_count": 8
        }
      ]
    },
    {
      "cell_type": "code",
      "source": [
        "print((await page.evaluate('document.body.innerText'))[:200])"
      ],
      "metadata": {
        "colab": {
          "base_uri": "https://localhost:8080/"
        },
        "id": "bbxWy7boLp_L",
        "outputId": "1e7c2f81-e41e-4a35-c872-8b05f6225a87"
      },
      "execution_count": null,
      "outputs": [
        {
          "output_type": "stream",
          "name": "stdout",
          "text": [
            "Filtros\n",
            "Coches\n",
            "España, Madrid\n",
            "Precio\n",
            "Sólo profesionales\n",
            "Marca y modelo\n",
            "Año\n",
            "Km\n",
            "Ordenar por:\n",
            "Relevancia\n",
            "\n",
            "Copyright © 2023 Wallapop © de sus respectivos propietarios\n",
            "\n",
            "Wallapop\n",
            "Quiénes somos\n",
            "Cómo funciona\n"
          ]
        }
      ]
    },
    {
      "cell_type": "code",
      "source": [
        "# Sometimes, I also create a short script on my browser that fetches some data and then I compare results\n",
        "\n",
        "await page.evaluate(\"Array.from(document.querySelectorAll('.ItemCardWide__title')).map(x => x.innerText).slice(0, 10)\")"
      ],
      "metadata": {
        "colab": {
          "base_uri": "https://localhost:8080/"
        },
        "id": "MJbjD9smJzpL",
        "outputId": "2f25422e-8152-4419-a84f-5a25854087b5"
      },
      "execution_count": null,
      "outputs": [
        {
          "output_type": "execute_result",
          "data": {
            "text/plain": [
              "['Audi Q5 S line 40 TDI quattro 140 kW (190 CV) S tronic',\n",
              " 'Audi A3 Sportback S Line edition 2.0 TFSI quattro 140 kW (190 CV) S tronic',\n",
              " 'Volkswagen Beetle Cabrio Design 1.4 TSI 110 kW (150 CV) DSG',\n",
              " 'Audi Q7 3.0 TDI e-tron quattro 275 kW (373 CV) tiptronic',\n",
              " 'Ford C-Max 1.0 EcoBoost Titanium 92 kW (125 CV)',\n",
              " 'Volkswagen Up Move up! 1.0 44 kW (60 CV)',\n",
              " 'MINI MINI 5 Puertas Cooper 100 kW (136 CV)',\n",
              " 'Fiat 500X 1.6 MultiJet Lounge 4x2 88 kW (120 CV)',\n",
              " 'Volkswagen T-Roc Advance 1.6 TDI 85 kW (115 CV)',\n",
              " 'Volkswagen Tiguan Sport 2.0 TDI BMT 4Motion 140 kW (190 CV) DSG']"
            ]
          },
          "metadata": {},
          "execution_count": 10
        }
      ]
    },
    {
      "cell_type": "markdown",
      "source": [
        "so far, so good...\n",
        "\n",
        "In this benchmark, we'll intercept API data for clean JSON output. Specifically, a network request to /api/v3/cars/search provides the data. This can be found in the browser's Developer Tools under the Network tab, filtered by XHR and sorted by size.\n",
        "\n",
        "While reverse engineering the API could save scraper time, we'll navigate the site and collect responses. Using Puppeteer, we'll set up event listeners for responses from specific URLs, effectively creating a response interceptor.\n",
        "\n",
        "Let's do this!"
      ],
      "metadata": {
        "id": "lyXBYLKjJ6RW"
      }
    },
    {
      "cell_type": "code",
      "source": [
        "# telekinesis provides a _register_method that makes it easier to push code to pods like the one we're using\n",
        "puppeteerPod._register_magic(get_ipython())"
      ],
      "metadata": {
        "id": "RA1IVfkbKCu7"
      },
      "execution_count": null,
      "outputs": []
    },
    {
      "cell_type": "code",
      "source": [
        "%%puppeteerPod .execute\n",
        "const puppeteer = require('puppeteer');\n",
        "class Interceptor {\n",
        "  async start(apiUrl) {\n",
        "    this.browser = await puppeteer.launch({args: ['--no-sandbox'], headless: true});\n",
        "    this.page = await this.browser.newPage()\n",
        "    this.responses = [];\n",
        "    this.page.on(\"response\", async (r) => {\n",
        "      if (r.url().includes(apiUrl)) {\n",
        "        this.responses.push(await r.json());\n",
        "      }\n",
        "    });\n",
        "    return this;\n",
        "  }\n",
        "}\n",
        "return new Interceptor();"
      ],
      "metadata": {
        "id": "J8_J8wOKKipA"
      },
      "execution_count": null,
      "outputs": []
    },
    {
      "cell_type": "code",
      "source": [
        "# the ._last_magic captures the output of the cell magic we just performed\n",
        "interceptor = await puppeteerPod._last_magic\n",
        "await interceptor.start(API_URL)"
      ],
      "metadata": {
        "colab": {
          "base_uri": "https://localhost:8080/"
        },
        "id": "KPKboE94KsKY",
        "outputId": "8ff48092-4a45-4488-ae7e-ee4080d50949"
      },
      "execution_count": null,
      "outputs": [
        {
          "output_type": "execute_result",
          "data": {
            "text/plain": [
              "\u001b[92m≈\u001b[0m [object Object]"
            ]
          },
          "metadata": {},
          "execution_count": 13
        }
      ]
    },
    {
      "cell_type": "code",
      "source": [
        "# Now let's try this interceptor out...\n",
        "\n",
        "await interceptor.page.goto(URL)"
      ],
      "metadata": {
        "colab": {
          "base_uri": "https://localhost:8080/"
        },
        "id": "8cxUzHrcLJ9c",
        "outputId": "0e04c11a-7b94-4d33-a6a4-d36dd74b7da3"
      },
      "execution_count": null,
      "outputs": [
        {
          "output_type": "execute_result",
          "data": {
            "text/plain": [
              "\u001b[92m≈\u001b[0m [object Object]"
            ]
          },
          "metadata": {},
          "execution_count": 14
        }
      ]
    },
    {
      "cell_type": "code",
      "source": [
        "# await interceptor.responses # we can see the responses, but each response is a pretty big dict to print nicely here\n",
        "await interceptor.responses.length"
      ],
      "metadata": {
        "colab": {
          "base_uri": "https://localhost:8080/"
        },
        "id": "l9en4WZ-LLkW",
        "outputId": "2287ff4c-4bf6-4ffb-b53d-41dc7eede3d6"
      },
      "execution_count": null,
      "outputs": [
        {
          "output_type": "execute_result",
          "data": {
            "text/plain": [
              "0"
            ]
          },
          "metadata": {},
          "execution_count": 15
        }
      ]
    },
    {
      "cell_type": "markdown",
      "source": [
        "Wallapop is not paginated, instead, it uses an infinite scroll that is activated by a \"ver más productos\" button"
      ],
      "metadata": {
        "id": "5NHEcxJMNRqx"
      }
    },
    {
      "cell_type": "code",
      "source": [
        "# Let's click this button!\n",
        "\n",
        "await interceptor.page.evaluate('document.querySelector(\"#btn-load-more\").click()')"
      ],
      "metadata": {
        "id": "BmB9GM6QM9KT"
      },
      "execution_count": null,
      "outputs": []
    },
    {
      "cell_type": "code",
      "source": [
        "# Now lets see if we have more responses (we had only 1 before)\n",
        "\n",
        "await interceptor.responses.length"
      ],
      "metadata": {
        "colab": {
          "base_uri": "https://localhost:8080/"
        },
        "id": "l1I2yzyWNvkh",
        "outputId": "8cbb5d6f-a4dd-4552-c184-2ad647ad6276"
      },
      "execution_count": null,
      "outputs": [
        {
          "output_type": "execute_result",
          "data": {
            "text/plain": [
              "0"
            ]
          },
          "metadata": {},
          "execution_count": 17
        }
      ]
    },
    {
      "cell_type": "code",
      "source": [
        "# Now let's scroll to the bottom, see if we get more responses\n",
        "\n",
        "clientHeight = await interceptor.page.evaluate('document.body.clientHeight')\n",
        "print(clientHeight)\n",
        "await interceptor.page.mouse.wheel({'deltaY': clientHeight})"
      ],
      "metadata": {
        "colab": {
          "base_uri": "https://localhost:8080/"
        },
        "id": "QzGHQOFxN1nD",
        "outputId": "65264149-4dee-4273-9a10-ac2ddf31b432"
      },
      "execution_count": null,
      "outputs": [
        {
          "output_type": "stream",
          "name": "stdout",
          "text": [
            "18049\n"
          ]
        }
      ]
    },
    {
      "cell_type": "code",
      "source": [
        "# Now let's see if we have more responses (we can repeat the last two steps a few times to check it keeps working)\n",
        "\n",
        "await interceptor.responses.length"
      ],
      "metadata": {
        "colab": {
          "base_uri": "https://localhost:8080/"
        },
        "id": "OB2r7vccN-Ar",
        "outputId": "fc7d4a34-0987-4a46-c3a5-05631163dabe"
      },
      "execution_count": null,
      "outputs": [
        {
          "output_type": "execute_result",
          "data": {
            "text/plain": [
              "3"
            ]
          },
          "metadata": {},
          "execution_count": 19
        }
      ]
    },
    {
      "cell_type": "markdown",
      "source": [
        "For this scrape, we have all the essentials. Time to construct a scraper that loads a specified number of items!"
      ],
      "metadata": {
        "id": "jFUVnCWpOCK9"
      }
    },
    {
      "cell_type": "markdown",
      "source": [
        "### Race"
      ],
      "metadata": {
        "id": "lf8QZRWban8I"
      }
    },
    {
      "cell_type": "code",
      "source": [
        "%%puppeteerPod .execute\n",
        "const puppeteer = require('puppeteer');\n",
        "\n",
        "class WallapopScraper {\n",
        "  async prepare(apiUrl) {\n",
        "    this.browser = await puppeteer.launch({args: ['--no-sandbox'], headless: true});\n",
        "    this.page = await this.browser.newPage();\n",
        "    this.data = [];\n",
        "    this.errors = [];\n",
        "    this.page.on(\"response\", async (r) => {\n",
        "      if (r.url().includes(apiUrl)) {\n",
        "        try {\n",
        "          this.data.push(...(await r.json()).search_objects);\n",
        "        } catch (e) {\n",
        "          this.errors.push(e.message);\n",
        "        }\n",
        "      }\n",
        "    });\n",
        "    return this;\n",
        "  }\n",
        "  async start(url, items=200) {\n",
        "    await this.page.goto(url);\n",
        "\n",
        "    while (true) {\n",
        "      if (this.data.length >= items) {\n",
        "        return this.data.length;\n",
        "      }\n",
        "      let clientHeight = await this.page.evaluate('document.body.clientHeight')\n",
        "      await this.page.mouse.wheel({deltaY: clientHeight})\n",
        "      await this.page.evaluate('document.querySelector(\"#btn-load-more\")?.click()')\n",
        "      await new Promise(r => setTimeout(r, 500));\n",
        "    }\n",
        "  }\n",
        "}\n",
        "return new WallapopScraper();"
      ],
      "metadata": {
        "id": "VZp5YOUbOFEs"
      },
      "execution_count": null,
      "outputs": []
    },
    {
      "cell_type": "code",
      "source": [
        "scraper = await puppeteerPod._last_magic\n",
        "await scraper.prepare(API_URL)"
      ],
      "metadata": {
        "colab": {
          "base_uri": "https://localhost:8080/"
        },
        "id": "yiM2WwKtOQ6i",
        "outputId": "3d53e0bb-e21c-488f-bc2e-579ae37be588"
      },
      "execution_count": null,
      "outputs": [
        {
          "output_type": "execute_result",
          "data": {
            "text/plain": [
              "\u001b[92m≈\u001b[0m [object Object]"
            ]
          },
          "metadata": {},
          "execution_count": 21
        }
      ]
    },
    {
      "cell_type": "code",
      "source": [
        "t0 = time.time()\n",
        "\n",
        "task = asyncio.create_task(scraper.start(URL, 2000)._execute())\n",
        "\n",
        "while True:\n",
        "  done, pending = await asyncio.wait({task}, timeout=5, return_when=asyncio.FIRST_COMPLETED)\n",
        "  if task in done:\n",
        "    print(time.time()-t0, task.result())\n",
        "    break\n",
        "  else:\n",
        "    print(time.time()-t0, await scraper.data.length)"
      ],
      "metadata": {
        "colab": {
          "base_uri": "https://localhost:8080/"
        },
        "id": "UnHzoFw9OXv4",
        "outputId": "84320a2d-f771-4812-da39-6ada29597c38"
      },
      "execution_count": null,
      "outputs": [
        {
          "output_type": "stream",
          "name": "stdout",
          "text": [
            "5.004951000213623 0\n",
            "10.078546524047852 80\n",
            "15.146006107330322 160\n",
            "20.27302122116089 320\n",
            "25.328995943069458 440\n",
            "30.366957902908325 560\n",
            "35.4189248085022 720\n",
            "40.47896361351013 880\n",
            "45.52199149131775 1000\n",
            "50.60562586784363 1080\n",
            "55.66694164276123 1160\n",
            "60.721099615097046 1280\n",
            "65.78897905349731 1360\n",
            "70.86098313331604 1440\n",
            "75.93797755241394 1520\n",
            "81.01298332214355 1600\n",
            "86.05596733093262 1680\n",
            "91.1039776802063 1760\n",
            "96.17195439338684 1840\n",
            "101.21795463562012 1960\n",
            "106.2649438381195 2000\n",
            "106.92452836036682 2000\n"
          ]
        }
      ]
    },
    {
      "cell_type": "markdown",
      "source": [
        "Took 107 seconds to scrape the first 2000 Wallapop posts using Puppeteer in Google Colab."
      ],
      "metadata": {
        "id": "EerzUAFoOssg"
      }
    },
    {
      "cell_type": "markdown",
      "source": [
        "## Playwright - Python\n",
        "\n",
        "One good thing about Playwright and Puppeteer is that they share a lot of their API, making it very easy to convert one into the other.\n",
        "\n",
        "Another great thing about playwright is that it takes only two lines to get started"
      ],
      "metadata": {
        "id": "5CYhxKDqSMX8"
      }
    },
    {
      "cell_type": "code",
      "source": [
        "!pip install playwright\n",
        "!playwright install"
      ],
      "metadata": {
        "colab": {
          "base_uri": "https://localhost:8080/"
        },
        "id": "6sFYjZkvSwIt",
        "outputId": "a4230261-e329-41f6-cca4-2711534b95e7"
      },
      "execution_count": null,
      "outputs": [
        {
          "output_type": "stream",
          "name": "stdout",
          "text": [
            "Collecting playwright\n",
            "  Downloading playwright-1.37.0-py3-none-manylinux1_x86_64.whl (35.7 MB)\n",
            "\u001b[2K     \u001b[90m━━━━━━━━━━━━━━━━━━━━━━━━━━━━━━━━━━━━━━━━\u001b[0m \u001b[32m35.7/35.7 MB\u001b[0m \u001b[31m34.4 MB/s\u001b[0m eta \u001b[36m0:00:00\u001b[0m\n",
            "\u001b[?25hRequirement already satisfied: greenlet==2.0.2 in /usr/local/lib/python3.10/dist-packages (from playwright) (2.0.2)\n",
            "Collecting pyee==9.0.4 (from playwright)\n",
            "  Downloading pyee-9.0.4-py2.py3-none-any.whl (14 kB)\n",
            "Requirement already satisfied: typing-extensions in /usr/local/lib/python3.10/dist-packages (from pyee==9.0.4->playwright) (4.5.0)\n",
            "Installing collected packages: pyee, playwright\n",
            "Successfully installed playwright-1.37.0 pyee-9.0.4\n",
            "Downloading Chromium 116.0.5845.82 (playwright build v1076)\u001b[2m from https://playwright.azureedge.net/builds/chromium/1076/chromium-linux.zip\u001b[22m\n",
            "\u001b[1G148.1 Mb [] 0% 0.0s\u001b[0K\u001b[1G148.1 Mb [] 0% 28.6s\u001b[0K\u001b[1G148.1 Mb [] 0% 17.2s\u001b[0K\u001b[1G148.1 Mb [] 0% 8.1s\u001b[0K\u001b[1G148.1 Mb [] 1% 4.7s\u001b[0K\u001b[1G148.1 Mb [] 2% 3.6s\u001b[0K\u001b[1G148.1 Mb [] 2% 3.8s\u001b[0K\u001b[1G148.1 Mb [] 3% 3.4s\u001b[0K\u001b[1G148.1 Mb [] 4% 3.2s\u001b[0K\u001b[1G148.1 Mb [] 5% 2.9s\u001b[0K\u001b[1G148.1 Mb [] 7% 2.4s\u001b[0K\u001b[1G148.1 Mb [] 8% 2.2s\u001b[0K\u001b[1G148.1 Mb [] 9% 2.0s\u001b[0K\u001b[1G148.1 Mb [] 10% 2.1s\u001b[0K\u001b[1G148.1 Mb [] 11% 2.0s\u001b[0K\u001b[1G148.1 Mb [] 12% 1.9s\u001b[0K\u001b[1G148.1 Mb [] 13% 1.8s\u001b[0K\u001b[1G148.1 Mb [] 14% 1.8s\u001b[0K\u001b[1G148.1 Mb [] 15% 1.7s\u001b[0K\u001b[1G148.1 Mb [] 16% 1.7s\u001b[0K\u001b[1G148.1 Mb [] 18% 1.6s\u001b[0K\u001b[1G148.1 Mb [] 19% 1.5s\u001b[0K\u001b[1G148.1 Mb [] 20% 1.5s\u001b[0K\u001b[1G148.1 Mb [] 21% 1.5s\u001b[0K\u001b[1G148.1 Mb [] 23% 1.4s\u001b[0K\u001b[1G148.1 Mb [] 24% 1.4s\u001b[0K\u001b[1G148.1 Mb [] 25% 1.4s\u001b[0K\u001b[1G148.1 Mb [] 27% 1.3s\u001b[0K\u001b[1G148.1 Mb [] 28% 1.3s\u001b[0K\u001b[1G148.1 Mb [] 30% 1.2s\u001b[0K\u001b[1G148.1 Mb [] 31% 1.2s\u001b[0K\u001b[1G148.1 Mb [] 32% 1.2s\u001b[0K\u001b[1G148.1 Mb [] 33% 1.1s\u001b[0K\u001b[1G148.1 Mb [] 35% 1.1s\u001b[0K\u001b[1G148.1 Mb [] 36% 1.1s\u001b[0K\u001b[1G148.1 Mb [] 37% 1.1s\u001b[0K\u001b[1G148.1 Mb [] 38% 1.0s\u001b[0K\u001b[1G148.1 Mb [] 39% 1.0s\u001b[0K\u001b[1G148.1 Mb [] 41% 1.0s\u001b[0K\u001b[1G148.1 Mb [] 42% 1.0s\u001b[0K\u001b[1G148.1 Mb [] 44% 0.9s\u001b[0K\u001b[1G148.1 Mb [] 45% 0.9s\u001b[0K\u001b[1G148.1 Mb [] 46% 0.9s\u001b[0K\u001b[1G148.1 Mb [] 47% 0.9s\u001b[0K\u001b[1G148.1 Mb [] 48% 0.8s\u001b[0K\u001b[1G148.1 Mb [] 50% 0.8s\u001b[0K\u001b[1G148.1 Mb [] 51% 0.8s\u001b[0K\u001b[1G148.1 Mb [] 53% 0.7s\u001b[0K\u001b[1G148.1 Mb [] 54% 0.7s\u001b[0K\u001b[1G148.1 Mb [] 55% 0.7s\u001b[0K\u001b[1G148.1 Mb [] 56% 0.7s\u001b[0K\u001b[1G148.1 Mb [] 58% 0.7s\u001b[0K\u001b[1G148.1 Mb [] 59% 0.6s\u001b[0K\u001b[1G148.1 Mb [] 61% 0.6s\u001b[0K\u001b[1G148.1 Mb [] 63% 0.6s\u001b[0K\u001b[1G148.1 Mb [] 64% 0.5s\u001b[0K\u001b[1G148.1 Mb [] 65% 0.5s\u001b[0K\u001b[1G148.1 Mb [] 66% 0.5s\u001b[0K\u001b[1G148.1 Mb [] 67% 0.5s\u001b[0K\u001b[1G148.1 Mb [] 68% 0.5s\u001b[0K\u001b[1G148.1 Mb [] 69% 0.5s\u001b[0K\u001b[1G148.1 Mb [] 70% 0.5s\u001b[0K\u001b[1G148.1 Mb [] 71% 0.5s\u001b[0K\u001b[1G148.1 Mb [] 72% 0.5s\u001b[0K\u001b[1G148.1 Mb [] 73% 0.5s\u001b[0K\u001b[1G148.1 Mb [] 74% 0.5s\u001b[0K\u001b[1G148.1 Mb [] 75% 0.5s\u001b[0K\u001b[1G148.1 Mb [] 76% 0.4s\u001b[0K\u001b[1G148.1 Mb [] 78% 0.4s\u001b[0K\u001b[1G148.1 Mb [] 79% 0.4s\u001b[0K\u001b[1G148.1 Mb [] 80% 0.4s\u001b[0K\u001b[1G148.1 Mb [] 82% 0.3s\u001b[0K\u001b[1G148.1 Mb [] 83% 0.3s\u001b[0K\u001b[1G148.1 Mb [] 85% 0.3s\u001b[0K\u001b[1G148.1 Mb [] 86% 0.3s\u001b[0K\u001b[1G148.1 Mb [] 87% 0.2s\u001b[0K\u001b[1G148.1 Mb [] 88% 0.2s\u001b[0K\u001b[1G148.1 Mb [] 89% 0.2s\u001b[0K\u001b[1G148.1 Mb [] 90% 0.2s\u001b[0K\u001b[1G148.1 Mb [] 91% 0.2s\u001b[0K\u001b[1G148.1 Mb [] 93% 0.1s\u001b[0K\u001b[1G148.1 Mb [] 94% 0.1s\u001b[0K\u001b[1G148.1 Mb [] 95% 0.1s\u001b[0K\u001b[1G148.1 Mb [] 96% 0.1s\u001b[0K\u001b[1G148.1 Mb [] 97% 0.0s\u001b[0K\u001b[1G148.1 Mb [] 98% 0.0s\u001b[0K\u001b[1G148.1 Mb [] 100% 0.0s\u001b[0K\n",
            "Chromium 116.0.5845.82 (playwright build v1076) downloaded to /root/.cache/ms-playwright/chromium-1076\n",
            "Downloading FFMPEG playwright build v1009\u001b[2m from https://playwright.azureedge.net/builds/ffmpeg/1009/ffmpeg-linux.zip\u001b[22m\n",
            "\u001b[1G2.6 Mb [] 0% 0.2s\u001b[0K\u001b[1G2.6 Mb [] 3% 0.5s\u001b[0K\u001b[1G2.6 Mb [] 14% 0.2s\u001b[0K\u001b[1G2.6 Mb [] 32% 0.1s\u001b[0K\u001b[1G2.6 Mb [] 78% 0.0s\u001b[0K\u001b[1G2.6 Mb [] 100% 0.0s\u001b[0K\n",
            "FFMPEG playwright build v1009 downloaded to /root/.cache/ms-playwright/ffmpeg-1009\n",
            "Downloading Firefox 115.0 (playwright build v1422)\u001b[2m from https://playwright.azureedge.net/builds/firefox/1422/firefox-ubuntu-22.04.zip\u001b[22m\n",
            "\u001b[1G79.1 Mb [] 0% 0.0s\u001b[0K\u001b[1G79.1 Mb [] 0% 14.4s\u001b[0K\u001b[1G79.1 Mb [] 0% 8.7s\u001b[0K\u001b[1G79.1 Mb [] 1% 4.7s\u001b[0K\u001b[1G79.1 Mb [] 2% 2.6s\u001b[0K\u001b[1G79.1 Mb [] 4% 2.0s\u001b[0K\u001b[1G79.1 Mb [] 5% 1.8s\u001b[0K\u001b[1G79.1 Mb [] 6% 1.7s\u001b[0K\u001b[1G79.1 Mb [] 7% 1.6s\u001b[0K\u001b[1G79.1 Mb [] 9% 1.5s\u001b[0K\u001b[1G79.1 Mb [] 11% 1.3s\u001b[0K\u001b[1G79.1 Mb [] 13% 1.2s\u001b[0K\u001b[1G79.1 Mb [] 15% 1.1s\u001b[0K\u001b[1G79.1 Mb [] 17% 1.0s\u001b[0K\u001b[1G79.1 Mb [] 17% 1.1s\u001b[0K\u001b[1G79.1 Mb [] 19% 1.0s\u001b[0K\u001b[1G79.1 Mb [] 22% 0.9s\u001b[0K\u001b[1G79.1 Mb [] 23% 0.9s\u001b[0K\u001b[1G79.1 Mb [] 24% 0.9s\u001b[0K\u001b[1G79.1 Mb [] 26% 0.8s\u001b[0K\u001b[1G79.1 Mb [] 29% 0.8s\u001b[0K\u001b[1G79.1 Mb [] 31% 0.8s\u001b[0K\u001b[1G79.1 Mb [] 33% 0.7s\u001b[0K\u001b[1G79.1 Mb [] 34% 0.7s\u001b[0K\u001b[1G79.1 Mb [] 36% 0.7s\u001b[0K\u001b[1G79.1 Mb [] 38% 0.7s\u001b[0K\u001b[1G79.1 Mb [] 39% 0.7s\u001b[0K\u001b[1G79.1 Mb [] 41% 0.6s\u001b[0K\u001b[1G79.1 Mb [] 43% 0.6s\u001b[0K\u001b[1G79.1 Mb [] 45% 0.6s\u001b[0K\u001b[1G79.1 Mb [] 47% 0.6s\u001b[0K\u001b[1G79.1 Mb [] 51% 0.5s\u001b[0K\u001b[1G79.1 Mb [] 53% 0.5s\u001b[0K\u001b[1G79.1 Mb [] 54% 0.5s\u001b[0K\u001b[1G79.1 Mb [] 55% 0.5s\u001b[0K\u001b[1G79.1 Mb [] 58% 0.4s\u001b[0K\u001b[1G79.1 Mb [] 60% 0.4s\u001b[0K\u001b[1G79.1 Mb [] 62% 0.4s\u001b[0K\u001b[1G79.1 Mb [] 65% 0.3s\u001b[0K\u001b[1G79.1 Mb [] 68% 0.3s\u001b[0K\u001b[1G79.1 Mb [] 71% 0.3s\u001b[0K\u001b[1G79.1 Mb [] 74% 0.2s\u001b[0K\u001b[1G79.1 Mb [] 77% 0.2s\u001b[0K\u001b[1G79.1 Mb [] 78% 0.2s\u001b[0K\u001b[1G79.1 Mb [] 81% 0.2s\u001b[0K\u001b[1G79.1 Mb [] 84% 0.1s\u001b[0K\u001b[1G79.1 Mb [] 86% 0.1s\u001b[0K\u001b[1G79.1 Mb [] 87% 0.1s\u001b[0K\u001b[1G79.1 Mb [] 89% 0.1s\u001b[0K\u001b[1G79.1 Mb [] 93% 0.1s\u001b[0K\u001b[1G79.1 Mb [] 95% 0.0s\u001b[0K\u001b[1G79.1 Mb [] 99% 0.0s\u001b[0K\u001b[1G79.1 Mb [] 100% 0.0s\u001b[0K\n",
            "Firefox 115.0 (playwright build v1422) downloaded to /root/.cache/ms-playwright/firefox-1422\n",
            "Downloading Webkit 17.0 (playwright build v1883)\u001b[2m from https://playwright.azureedge.net/builds/webkit/1883/webkit-ubuntu-22.04.zip\u001b[22m\n",
            "\u001b[1G82.2 Mb [] 0% 0.0s\u001b[0K\u001b[1G82.2 Mb [] 0% 15.8s\u001b[0K\u001b[1G82.2 Mb [] 0% 8.4s\u001b[0K\u001b[1G82.2 Mb [] 1% 3.8s\u001b[0K\u001b[1G82.2 Mb [] 2% 2.4s\u001b[0K\u001b[1G82.2 Mb [] 4% 1.9s\u001b[0K\u001b[1G82.2 Mb [] 5% 1.7s\u001b[0K\u001b[1G82.2 Mb [] 7% 1.5s\u001b[0K\u001b[1G82.2 Mb [] 8% 1.5s\u001b[0K\u001b[1G82.2 Mb [] 9% 1.4s\u001b[0K\u001b[1G82.2 Mb [] 11% 1.3s\u001b[0K\u001b[1G82.2 Mb [] 12% 1.3s\u001b[0K\u001b[1G82.2 Mb [] 14% 1.2s\u001b[0K\u001b[1G82.2 Mb [] 15% 1.2s\u001b[0K\u001b[1G82.2 Mb [] 16% 1.2s\u001b[0K\u001b[1G82.2 Mb [] 17% 1.2s\u001b[0K\u001b[1G82.2 Mb [] 19% 1.1s\u001b[0K\u001b[1G82.2 Mb [] 20% 1.1s\u001b[0K\u001b[1G82.2 Mb [] 23% 1.0s\u001b[0K\u001b[1G82.2 Mb [] 24% 1.0s\u001b[0K\u001b[1G82.2 Mb [] 26% 0.9s\u001b[0K\u001b[1G82.2 Mb [] 29% 0.9s\u001b[0K\u001b[1G82.2 Mb [] 30% 0.8s\u001b[0K\u001b[1G82.2 Mb [] 32% 0.8s\u001b[0K\u001b[1G82.2 Mb [] 33% 0.8s\u001b[0K\u001b[1G82.2 Mb [] 35% 0.8s\u001b[0K\u001b[1G82.2 Mb [] 37% 0.7s\u001b[0K\u001b[1G82.2 Mb [] 39% 0.7s\u001b[0K\u001b[1G82.2 Mb [] 41% 0.6s\u001b[0K\u001b[1G82.2 Mb [] 44% 0.6s\u001b[0K\u001b[1G82.2 Mb [] 46% 0.6s\u001b[0K\u001b[1G82.2 Mb [] 48% 0.5s\u001b[0K\u001b[1G82.2 Mb [] 49% 0.5s\u001b[0K\u001b[1G82.2 Mb [] 51% 0.5s\u001b[0K\u001b[1G82.2 Mb [] 52% 0.5s\u001b[0K\u001b[1G82.2 Mb [] 54% 0.5s\u001b[0K\u001b[1G82.2 Mb [] 57% 0.4s\u001b[0K\u001b[1G82.2 Mb [] 59% 0.4s\u001b[0K\u001b[1G82.2 Mb [] 61% 0.4s\u001b[0K\u001b[1G82.2 Mb [] 63% 0.4s\u001b[0K\u001b[1G82.2 Mb [] 66% 0.3s\u001b[0K\u001b[1G82.2 Mb [] 67% 0.3s\u001b[0K\u001b[1G82.2 Mb [] 68% 0.3s\u001b[0K\u001b[1G82.2 Mb [] 70% 0.3s\u001b[0K\u001b[1G82.2 Mb [] 72% 0.3s\u001b[0K\u001b[1G82.2 Mb [] 74% 0.3s\u001b[0K\u001b[1G82.2 Mb [] 76% 0.2s\u001b[0K\u001b[1G82.2 Mb [] 78% 0.2s\u001b[0K\u001b[1G82.2 Mb [] 79% 0.2s\u001b[0K\u001b[1G82.2 Mb [] 82% 0.2s\u001b[0K\u001b[1G82.2 Mb [] 83% 0.2s\u001b[0K\u001b[1G82.2 Mb [] 84% 0.2s\u001b[0K\u001b[1G82.2 Mb [] 87% 0.1s\u001b[0K\u001b[1G82.2 Mb [] 90% 0.1s\u001b[0K\u001b[1G82.2 Mb [] 92% 0.1s\u001b[0K\u001b[1G82.2 Mb [] 94% 0.1s\u001b[0K\u001b[1G82.2 Mb [] 97% 0.0s\u001b[0K\u001b[1G82.2 Mb [] 99% 0.0s\u001b[0K\u001b[1G82.2 Mb [] 100% 0.0s\u001b[0K\n",
            "Webkit 17.0 (playwright build v1883) downloaded to /root/.cache/ms-playwright/webkit-1883\n"
          ]
        }
      ]
    },
    {
      "cell_type": "code",
      "source": [
        "from playwright.async_api import async_playwright\n",
        "\n",
        "class WallapopScraper:\n",
        "  def __init__(self):\n",
        "    self.data = []\n",
        "    self.tasks = []\n",
        "\n",
        "  async def prepare(self, api_url):\n",
        "    self.api_url = api_url\n",
        "    async with async_playwright() as playwright:\n",
        "      browser = await playwright.chromium.launch()\n",
        "      self.page = await browser.new_page()\n",
        "      return self\n",
        "\n",
        "  async def start(self, url, items=200):\n",
        "    async with async_playwright() as playwright:\n",
        "      browser = await playwright.chromium.launch()\n",
        "      self.page = await browser.new_page()\n",
        "\n",
        "      self.page.on('response', self._handle_response_task)\n",
        "\n",
        "      await self.page.goto(url)\n",
        "\n",
        "      while True:\n",
        "        if self.data_length >= items:\n",
        "          return self.data_length\n",
        "\n",
        "        client_height = await self.page.evaluate('document.body.clientHeight')\n",
        "        await self.page.mouse.wheel(0, client_height)\n",
        "        await self.page.evaluate('document.querySelector(\"#btn-load-more\")?.click()')\n",
        "        await self.page.wait_for_timeout(500)\n",
        "\n",
        "  def _handle_response_task(self, response):\n",
        "    if self.api_url in response.url:\n",
        "      self.tasks.append(asyncio.create_task(self._handle_response(response)))\n",
        "\n",
        "  async def _handle_response(self, response):\n",
        "    self.data.extend((await response.json())['search_objects'])\n",
        "\n",
        "  @property\n",
        "  def data_length(self):\n",
        "    return len(self.data)\n",
        "\n",
        "scraper = await WallapopScraper().prepare(API_URL)"
      ],
      "metadata": {
        "id": "79QKVBrbTNur"
      },
      "execution_count": null,
      "outputs": []
    },
    {
      "cell_type": "code",
      "source": [
        "t0 = time.time()\n",
        "\n",
        "task = asyncio.create_task(scraper.start(URL, 2000))\n",
        "\n",
        "while True:\n",
        "  done, pending = await asyncio.wait({task}, timeout=5, return_when=asyncio.FIRST_COMPLETED)\n",
        "  if task in done:\n",
        "    print(time.time()-t0, task.result())\n",
        "    break\n",
        "  else:\n",
        "    print(time.time()-t0, scraper.data_length) # Small change here data.length -> data_length"
      ],
      "metadata": {
        "colab": {
          "base_uri": "https://localhost:8080/"
        },
        "id": "oLZ6s47UTXDB",
        "outputId": "9f4204a4-2dee-4669-dddf-adfaa34d676b"
      },
      "execution_count": null,
      "outputs": [
        {
          "output_type": "stream",
          "name": "stdout",
          "text": [
            "5.002890110015869 0\n",
            "10.003755331039429 0\n",
            "15.004281044006348 80\n",
            "20.00675082206726 160\n",
            "25.00812864303589 280\n",
            "30.01045870780945 400\n",
            "35.011797189712524 520\n",
            "40.014413595199585 600\n",
            "45.02244019508362 720\n",
            "50.024412870407104 800\n",
            "55.02506422996521 920\n",
            "60.02603006362915 1000\n",
            "65.02709293365479 1080\n",
            "70.02847170829773 1160\n",
            "75.02938604354858 1200\n",
            "80.03241968154907 1280\n",
            "85.03357410430908 1360\n",
            "90.03441548347473 1400\n",
            "95.03514885902405 1480\n",
            "100.04125618934631 1520\n",
            "105.04241251945496 1600\n",
            "110.07725548744202 1640\n",
            "115.08814287185669 1720\n",
            "120.09092426300049 1760\n",
            "125.09193539619446 1800\n",
            "130.0953938961029 1840\n",
            "135.09872007369995 1880\n",
            "140.10433650016785 1920\n",
            "145.10545134544373 1960\n",
            "148.48783564567566 2000\n"
          ]
        }
      ]
    },
    {
      "cell_type": "markdown",
      "source": [
        "Guess it took quite a bit longer, 148s is 38% over the Puppeteer JS one! Let's look at Selenium now"
      ],
      "metadata": {
        "id": "uIr4WqNvTnb7"
      }
    },
    {
      "cell_type": "markdown",
      "source": [
        "## Selenium (Python)\n",
        "\n",
        "To intercept the network requests with selenium, we need a proxy. Luckly the 'selenium_wire' library takes care of it, making this pretty easy. Sure, a bit more cumbersome than the other tools, but no big deal."
      ],
      "metadata": {
        "id": "CdAFSb45VIDU"
      }
    },
    {
      "cell_type": "markdown",
      "source": [
        "### Preparation\n",
        "\n",
        "To use selenium we need to install chrome and the chrome driver first"
      ],
      "metadata": {
        "id": "2zD8xy2-V9xO"
      }
    },
    {
      "cell_type": "code",
      "source": [
        "%%shell\n",
        "apt update\n",
        "apt install -y wget git curl gnupg unzip libgconf-2-4\n",
        "wget -q -O - https://dl-ssl.google.com/linux/linux_signing_key.pub | apt-key add -\n",
        "sh -c 'echo \"deb [arch=amd64] http://dl.google.com/linux/chrome/deb/ stable main\" >> /etc/apt/sources.list.d/google-chrome.list'\n",
        "apt-get -y update\n",
        "apt-get install -y google-chrome-stable\n",
        "wget -O /tmp/chromedriver-linux64.zip https://edgedl.me.gvt1.com/edgedl/chrome/chrome-for-testing/`curl -sS https://googlechromelabs.github.io/chrome-for-testing/LATEST_RELEASE_STABLE`/linux64/chromedriver-linux64.zip\n",
        "\n",
        "unzip /tmp/chromedriver-linux64.zip chromedriver-linux64/chromedriver -d /usr/local/bin/\n",
        "\n",
        "pip install selenium selenium_wire"
      ],
      "metadata": {
        "colab": {
          "base_uri": "https://localhost:8080/"
        },
        "collapsed": true,
        "id": "yFrW63-1VdsN",
        "outputId": "245084c5-a020-4807-c9b1-17ea06426448"
      },
      "execution_count": null,
      "outputs": [
        {
          "output_type": "stream",
          "name": "stdout",
          "text": [
            "\u001b[33m\r0% [Working]\u001b[0m\r            \rHit:1 https://developer.download.nvidia.com/compute/cuda/repos/ubuntu2204/x86_64  InRelease\n",
            "Hit:2 https://deb.nodesource.com/node_18.x nodistro InRelease\n",
            "Get:3 http://security.ubuntu.com/ubuntu jammy-security InRelease [110 kB]\n",
            "Hit:4 http://archive.ubuntu.com/ubuntu jammy InRelease\n",
            "Hit:5 http://archive.ubuntu.com/ubuntu jammy-updates InRelease\n",
            "Hit:6 https://cloud.r-project.org/bin/linux/ubuntu jammy-cran40/ InRelease\n",
            "Hit:7 http://archive.ubuntu.com/ubuntu jammy-backports InRelease\n",
            "Hit:8 https://ppa.launchpadcontent.net/c2d4u.team/c2d4u4.0+/ubuntu jammy InRelease\n",
            "Hit:9 https://ppa.launchpadcontent.net/deadsnakes/ppa/ubuntu jammy InRelease\n",
            "Hit:10 https://ppa.launchpadcontent.net/graphics-drivers/ppa/ubuntu jammy InRelease\n",
            "Hit:11 https://ppa.launchpadcontent.net/ubuntugis/ppa/ubuntu jammy InRelease\n",
            "Fetched 110 kB in 4s (29.2 kB/s)\n",
            "Reading package lists... Done\n",
            "Building dependency tree... Done\n",
            "Reading state information... Done\n",
            "16 packages can be upgraded. Run 'apt list --upgradable' to see them.\n",
            "Reading package lists... Done\n",
            "Building dependency tree... Done\n",
            "Reading state information... Done\n",
            "wget is already the newest version (1.21.2-2ubuntu1).\n",
            "curl is already the newest version (7.81.0-1ubuntu1.13).\n",
            "git is already the newest version (1:2.34.1-1ubuntu1.10).\n",
            "gnupg is already the newest version (2.2.27-3ubuntu2.1).\n",
            "unzip is already the newest version (6.0-26ubuntu3.1).\n",
            "The following additional packages will be installed:\n",
            "  gconf-service gconf-service-backend gconf2-common libdbus-glib-1-2\n",
            "The following NEW packages will be installed:\n",
            "  gconf-service gconf-service-backend gconf2-common libdbus-glib-1-2\n",
            "  libgconf-2-4\n",
            "0 upgraded, 5 newly installed, 0 to remove and 16 not upgraded.\n",
            "Need to get 926 kB of archives.\n",
            "After this operation, 8,309 kB of additional disk space will be used.\n",
            "Get:1 http://archive.ubuntu.com/ubuntu jammy/main amd64 libdbus-glib-1-2 amd64 0.112-2build1 [65.4 kB]\n",
            "Get:2 http://archive.ubuntu.com/ubuntu jammy/universe amd64 gconf2-common all 3.2.6-7ubuntu2 [698 kB]\n",
            "Get:3 http://archive.ubuntu.com/ubuntu jammy/universe amd64 libgconf-2-4 amd64 3.2.6-7ubuntu2 [86.0 kB]\n",
            "Get:4 http://archive.ubuntu.com/ubuntu jammy/universe amd64 gconf-service-backend amd64 3.2.6-7ubuntu2 [59.3 kB]\n",
            "Get:5 http://archive.ubuntu.com/ubuntu jammy/universe amd64 gconf-service amd64 3.2.6-7ubuntu2 [17.4 kB]\n",
            "Fetched 926 kB in 2s (494 kB/s)\n",
            "Selecting previously unselected package libdbus-glib-1-2:amd64.\n",
            "(Reading database ... 126591 files and directories currently installed.)\n",
            "Preparing to unpack .../libdbus-glib-1-2_0.112-2build1_amd64.deb ...\n",
            "Unpacking libdbus-glib-1-2:amd64 (0.112-2build1) ...\n",
            "Selecting previously unselected package gconf2-common.\n",
            "Preparing to unpack .../gconf2-common_3.2.6-7ubuntu2_all.deb ...\n",
            "Unpacking gconf2-common (3.2.6-7ubuntu2) ...\n",
            "Selecting previously unselected package libgconf-2-4:amd64.\n",
            "Preparing to unpack .../libgconf-2-4_3.2.6-7ubuntu2_amd64.deb ...\n",
            "Unpacking libgconf-2-4:amd64 (3.2.6-7ubuntu2) ...\n",
            "Selecting previously unselected package gconf-service-backend.\n",
            "Preparing to unpack .../gconf-service-backend_3.2.6-7ubuntu2_amd64.deb ...\n",
            "Unpacking gconf-service-backend (3.2.6-7ubuntu2) ...\n",
            "Selecting previously unselected package gconf-service.\n",
            "Preparing to unpack .../gconf-service_3.2.6-7ubuntu2_amd64.deb ...\n",
            "Unpacking gconf-service (3.2.6-7ubuntu2) ...\n",
            "Setting up gconf2-common (3.2.6-7ubuntu2) ...\n",
            "\n",
            "Creating config file /etc/gconf/2/path with new version\n",
            "Setting up libdbus-glib-1-2:amd64 (0.112-2build1) ...\n",
            "Setting up libgconf-2-4:amd64 (3.2.6-7ubuntu2) ...\n",
            "Setting up gconf-service (3.2.6-7ubuntu2) ...\n",
            "Setting up gconf-service-backend (3.2.6-7ubuntu2) ...\n",
            "Processing triggers for libc-bin (2.35-0ubuntu3.1) ...\n",
            "/sbin/ldconfig.real: /usr/local/lib/libtbbmalloc_proxy.so.2 is not a symbolic link\n",
            "\n",
            "/sbin/ldconfig.real: /usr/local/lib/libtbbmalloc.so.2 is not a symbolic link\n",
            "\n",
            "/sbin/ldconfig.real: /usr/local/lib/libtbbbind.so.3 is not a symbolic link\n",
            "\n",
            "/sbin/ldconfig.real: /usr/local/lib/libtbbbind_2_5.so.3 is not a symbolic link\n",
            "\n",
            "/sbin/ldconfig.real: /usr/local/lib/libtbbbind_2_0.so.3 is not a symbolic link\n",
            "\n",
            "/sbin/ldconfig.real: /usr/local/lib/libtbb.so.12 is not a symbolic link\n",
            "\n",
            "Warning: apt-key is deprecated. Manage keyring files in trusted.gpg.d instead (see apt-key(8)).\n",
            "OK\n",
            "Get:1 http://dl.google.com/linux/chrome/deb stable InRelease [1,825 B]\n",
            "Hit:2 https://cloud.r-project.org/bin/linux/ubuntu jammy-cran40/ InRelease\n",
            "Hit:3 https://developer.download.nvidia.com/compute/cuda/repos/ubuntu2204/x86_64  InRelease\n",
            "Hit:4 https://deb.nodesource.com/node_18.x nodistro InRelease\n",
            "Hit:5 http://archive.ubuntu.com/ubuntu jammy InRelease\n",
            "Get:6 http://dl.google.com/linux/chrome/deb stable/main amd64 Packages [1,085 B]\n",
            "Hit:7 http://archive.ubuntu.com/ubuntu jammy-updates InRelease\n",
            "Hit:8 http://security.ubuntu.com/ubuntu jammy-security InRelease\n",
            "Hit:9 http://archive.ubuntu.com/ubuntu jammy-backports InRelease\n",
            "Hit:10 https://ppa.launchpadcontent.net/c2d4u.team/c2d4u4.0+/ubuntu jammy InRelease\n",
            "Hit:11 https://ppa.launchpadcontent.net/deadsnakes/ppa/ubuntu jammy InRelease\n",
            "Hit:12 https://ppa.launchpadcontent.net/graphics-drivers/ppa/ubuntu jammy InRelease\n",
            "Hit:13 https://ppa.launchpadcontent.net/ubuntugis/ppa/ubuntu jammy InRelease\n",
            "Fetched 2,910 B in 4s (790 B/s)\n",
            "Reading package lists... Done\n",
            "W: http://dl.google.com/linux/chrome/deb/dists/stable/InRelease: Key is stored in legacy trusted.gpg keyring (/etc/apt/trusted.gpg), see the DEPRECATION section in apt-key(8) for details.\n",
            "Reading package lists... Done\n",
            "Building dependency tree... Done\n",
            "Reading state information... Done\n",
            "The following additional packages will be installed:\n",
            "  libu2f-udev libvulkan1 mesa-vulkan-drivers systemd-hwe-hwdb udev\n",
            "The following NEW packages will be installed:\n",
            "  google-chrome-stable libu2f-udev libvulkan1 mesa-vulkan-drivers\n",
            "  systemd-hwe-hwdb udev\n",
            "0 upgraded, 6 newly installed, 0 to remove and 16 not upgraded.\n",
            "Need to get 108 MB of archives.\n",
            "After this operation, 384 MB of additional disk space will be used.\n",
            "Get:1 http://dl.google.com/linux/chrome/deb stable/main amd64 google-chrome-stable amd64 116.0.5845.179-1 [96.7 MB]\n",
            "Get:2 http://archive.ubuntu.com/ubuntu jammy-updates/main amd64 udev amd64 249.11-0ubuntu3.9 [1,557 kB]\n",
            "Get:3 http://archive.ubuntu.com/ubuntu jammy/main amd64 libu2f-udev all 1.1.10-3build2 [4,190 B]\n",
            "Get:4 http://archive.ubuntu.com/ubuntu jammy/main amd64 libvulkan1 amd64 1.3.204.1-2 [128 kB]\n",
            "Get:5 http://archive.ubuntu.com/ubuntu jammy-updates/main amd64 mesa-vulkan-drivers amd64 23.0.4-0ubuntu1~22.04.1 [9,521 kB]\n",
            "Get:6 http://archive.ubuntu.com/ubuntu jammy-updates/main amd64 systemd-hwe-hwdb all 249.11.3 [2,908 B]\n",
            "Fetched 108 MB in 3s (40.0 MB/s)\n",
            "Selecting previously unselected package udev.\n",
            "(Reading database ... 126754 files and directories currently installed.)\n",
            "Preparing to unpack .../0-udev_249.11-0ubuntu3.9_amd64.deb ...\n",
            "Unpacking udev (249.11-0ubuntu3.9) ...\n",
            "Selecting previously unselected package libu2f-udev.\n",
            "Preparing to unpack .../1-libu2f-udev_1.1.10-3build2_all.deb ...\n",
            "Unpacking libu2f-udev (1.1.10-3build2) ...\n",
            "Selecting previously unselected package libvulkan1:amd64.\n",
            "Preparing to unpack .../2-libvulkan1_1.3.204.1-2_amd64.deb ...\n",
            "Unpacking libvulkan1:amd64 (1.3.204.1-2) ...\n",
            "Selecting previously unselected package google-chrome-stable.\n",
            "Preparing to unpack .../3-google-chrome-stable_116.0.5845.179-1_amd64.deb ...\n",
            "Unpacking google-chrome-stable (116.0.5845.179-1) ...\n",
            "Selecting previously unselected package mesa-vulkan-drivers:amd64.\n",
            "Preparing to unpack .../4-mesa-vulkan-drivers_23.0.4-0ubuntu1~22.04.1_amd64.deb ...\n",
            "Unpacking mesa-vulkan-drivers:amd64 (23.0.4-0ubuntu1~22.04.1) ...\n",
            "Selecting previously unselected package systemd-hwe-hwdb.\n",
            "Preparing to unpack .../5-systemd-hwe-hwdb_249.11.3_all.deb ...\n",
            "Unpacking systemd-hwe-hwdb (249.11.3) ...\n",
            "Setting up udev (249.11-0ubuntu3.9) ...\n",
            "invoke-rc.d: could not determine current runlevel\n",
            "invoke-rc.d: policy-rc.d denied execution of start.\n",
            "Setting up libvulkan1:amd64 (1.3.204.1-2) ...\n",
            "Setting up systemd-hwe-hwdb (249.11.3) ...\n",
            "Setting up mesa-vulkan-drivers:amd64 (23.0.4-0ubuntu1~22.04.1) ...\n",
            "Setting up libu2f-udev (1.1.10-3build2) ...\n",
            "Setting up google-chrome-stable (116.0.5845.179-1) ...\n",
            "update-alternatives: using /usr/bin/google-chrome-stable to provide /usr/bin/x-www-browser (x-www-browser) in auto mode\n",
            "update-alternatives: using /usr/bin/google-chrome-stable to provide /usr/bin/gnome-www-browser (gnome-www-browser) in auto mode\n",
            "update-alternatives: using /usr/bin/google-chrome-stable to provide /usr/bin/google-chrome (google-chrome) in auto mode\n",
            "Processing triggers for man-db (2.10.2-1) ...\n",
            "Processing triggers for libc-bin (2.35-0ubuntu3.1) ...\n",
            "/sbin/ldconfig.real: /usr/local/lib/libtbbmalloc_proxy.so.2 is not a symbolic link\n",
            "\n",
            "/sbin/ldconfig.real: /usr/local/lib/libtbbmalloc.so.2 is not a symbolic link\n",
            "\n",
            "/sbin/ldconfig.real: /usr/local/lib/libtbbbind.so.3 is not a symbolic link\n",
            "\n",
            "/sbin/ldconfig.real: /usr/local/lib/libtbbbind_2_5.so.3 is not a symbolic link\n",
            "\n",
            "/sbin/ldconfig.real: /usr/local/lib/libtbbbind_2_0.so.3 is not a symbolic link\n",
            "\n",
            "/sbin/ldconfig.real: /usr/local/lib/libtbb.so.12 is not a symbolic link\n",
            "\n",
            "--2023-09-09 10:21:24--  https://edgedl.me.gvt1.com/edgedl/chrome/chrome-for-testing/116.0.5845.96/linux64/chromedriver-linux64.zip\n",
            "Resolving edgedl.me.gvt1.com (edgedl.me.gvt1.com)... 34.104.35.123, 2600:1900:4110:86f::\n",
            "Connecting to edgedl.me.gvt1.com (edgedl.me.gvt1.com)|34.104.35.123|:443... connected.\n",
            "HTTP request sent, awaiting response... 200 OK\n",
            "Length: 7271942 (6.9M) [application/octet-stream]\n",
            "Saving to: ‘/tmp/chromedriver-linux64.zip’\n",
            "\n",
            "/tmp/chromedriver-l 100%[===================>]   6.93M  43.3MB/s    in 0.2s    \n",
            "\n",
            "2023-09-09 10:21:24 (43.3 MB/s) - ‘/tmp/chromedriver-linux64.zip’ saved [7271942/7271942]\n",
            "\n",
            "Archive:  /tmp/chromedriver-linux64.zip\n",
            "  inflating: /usr/local/bin/chromedriver-linux64/chromedriver  \n",
            "Collecting selenium\n",
            "  Downloading selenium-4.12.0-py3-none-any.whl (9.4 MB)\n",
            "\u001b[2K     \u001b[90m━━━━━━━━━━━━━━━━━━━━━━━━━━━━━━━━━━━━━━━━\u001b[0m \u001b[32m9.4/9.4 MB\u001b[0m \u001b[31m30.5 MB/s\u001b[0m eta \u001b[36m0:00:00\u001b[0m\n",
            "\u001b[?25hCollecting selenium_wire\n",
            "  Downloading selenium_wire-5.1.0-py3-none-any.whl (239 kB)\n",
            "\u001b[2K     \u001b[90m━━━━━━━━━━━━━━━━━━━━━━━━━━━━━━━━━━━━━━\u001b[0m \u001b[32m239.6/239.6 kB\u001b[0m \u001b[31m14.1 MB/s\u001b[0m eta \u001b[36m0:00:00\u001b[0m\n",
            "\u001b[?25hRequirement already satisfied: urllib3[socks]<3,>=1.26 in /usr/local/lib/python3.10/dist-packages (from selenium) (2.0.4)\n",
            "Collecting trio~=0.17 (from selenium)\n",
            "  Downloading trio-0.22.2-py3-none-any.whl (400 kB)\n",
            "\u001b[2K     \u001b[90m━━━━━━━━━━━━━━━━━━━━━━━━━━━━━━━━━━━━━━\u001b[0m \u001b[32m400.2/400.2 kB\u001b[0m \u001b[31m20.5 MB/s\u001b[0m eta \u001b[36m0:00:00\u001b[0m\n",
            "\u001b[?25hCollecting trio-websocket~=0.9 (from selenium)\n",
            "  Downloading trio_websocket-0.10.4-py3-none-any.whl (17 kB)\n",
            "Requirement already satisfied: certifi>=2021.10.8 in /usr/local/lib/python3.10/dist-packages (from selenium) (2023.7.22)\n",
            "Requirement already satisfied: blinker>=1.4 in /usr/lib/python3/dist-packages (from selenium_wire) (1.4)\n",
            "Collecting brotli>=1.0.9 (from selenium_wire)\n",
            "  Downloading Brotli-1.1.0-cp310-cp310-manylinux_2_5_x86_64.manylinux1_x86_64.manylinux_2_12_x86_64.manylinux2010_x86_64.whl (3.0 MB)\n",
            "\u001b[2K     \u001b[90m━━━━━━━━━━━━━━━━━━━━━━━━━━━━━━━━━━━━━━━━\u001b[0m \u001b[32m3.0/3.0 MB\u001b[0m \u001b[31m36.0 MB/s\u001b[0m eta \u001b[36m0:00:00\u001b[0m\n",
            "\u001b[?25hCollecting kaitaistruct>=0.7 (from selenium_wire)\n",
            "  Downloading kaitaistruct-0.10-py2.py3-none-any.whl (7.0 kB)\n",
            "Requirement already satisfied: pyasn1>=0.3.1 in /usr/local/lib/python3.10/dist-packages (from selenium_wire) (0.5.0)\n",
            "Requirement already satisfied: pyOpenSSL>=22.0.0 in /usr/local/lib/python3.10/dist-packages (from selenium_wire) (23.2.0)\n",
            "Requirement already satisfied: pyparsing>=2.4.2 in /usr/local/lib/python3.10/dist-packages (from selenium_wire) (3.1.1)\n",
            "Requirement already satisfied: pysocks>=1.7.1 in /usr/local/lib/python3.10/dist-packages (from selenium_wire) (1.7.1)\n",
            "Collecting wsproto>=0.14 (from selenium_wire)\n",
            "  Downloading wsproto-1.2.0-py3-none-any.whl (24 kB)\n",
            "Collecting zstandard>=0.14.1 (from selenium_wire)\n",
            "  Downloading zstandard-0.21.0-cp310-cp310-manylinux_2_17_x86_64.manylinux2014_x86_64.whl (2.7 MB)\n",
            "\u001b[2K     \u001b[90m━━━━━━━━━━━━━━━━━━━━━━━━━━━━━━━━━━━━━━━━\u001b[0m \u001b[32m2.7/2.7 MB\u001b[0m \u001b[31m46.5 MB/s\u001b[0m eta \u001b[36m0:00:00\u001b[0m\n",
            "\u001b[?25hCollecting h2>=4.0 (from selenium_wire)\n",
            "  Downloading h2-4.1.0-py3-none-any.whl (57 kB)\n",
            "\u001b[2K     \u001b[90m━━━━━━━━━━━━━━━━━━━━━━━━━━━━━━━━━━━━━━━━\u001b[0m \u001b[32m57.5/57.5 kB\u001b[0m \u001b[31m5.3 MB/s\u001b[0m eta \u001b[36m0:00:00\u001b[0m\n",
            "\u001b[?25hCollecting hyperframe>=6.0 (from selenium_wire)\n",
            "  Downloading hyperframe-6.0.1-py3-none-any.whl (12 kB)\n",
            "Collecting hpack<5,>=4.0 (from h2>=4.0->selenium_wire)\n",
            "  Downloading hpack-4.0.0-py3-none-any.whl (32 kB)\n",
            "Requirement already satisfied: cryptography!=40.0.0,!=40.0.1,<42,>=38.0.0 in /usr/local/lib/python3.10/dist-packages (from pyOpenSSL>=22.0.0->selenium_wire) (41.0.3)\n",
            "Requirement already satisfied: attrs>=20.1.0 in /usr/local/lib/python3.10/dist-packages (from trio~=0.17->selenium) (23.1.0)\n",
            "Requirement already satisfied: sortedcontainers in /usr/local/lib/python3.10/dist-packages (from trio~=0.17->selenium) (2.4.0)\n",
            "Requirement already satisfied: idna in /usr/local/lib/python3.10/dist-packages (from trio~=0.17->selenium) (3.4)\n",
            "Collecting outcome (from trio~=0.17->selenium)\n",
            "  Downloading outcome-1.2.0-py2.py3-none-any.whl (9.7 kB)\n",
            "Requirement already satisfied: sniffio in /usr/local/lib/python3.10/dist-packages (from trio~=0.17->selenium) (1.3.0)\n",
            "Requirement already satisfied: exceptiongroup>=1.0.0rc9 in /usr/local/lib/python3.10/dist-packages (from trio~=0.17->selenium) (1.1.3)\n",
            "Collecting h11<1,>=0.9.0 (from wsproto>=0.14->selenium_wire)\n",
            "  Downloading h11-0.14.0-py3-none-any.whl (58 kB)\n",
            "\u001b[2K     \u001b[90m━━━━━━━━━━━━━━━━━━━━━━━━━━━━━━━━━━━━━━━━\u001b[0m \u001b[32m58.3/58.3 kB\u001b[0m \u001b[31m4.8 MB/s\u001b[0m eta \u001b[36m0:00:00\u001b[0m\n",
            "\u001b[?25hRequirement already satisfied: cffi>=1.12 in /usr/local/lib/python3.10/dist-packages (from cryptography!=40.0.0,!=40.0.1,<42,>=38.0.0->pyOpenSSL>=22.0.0->selenium_wire) (1.15.1)\n",
            "Requirement already satisfied: pycparser in /usr/local/lib/python3.10/dist-packages (from cffi>=1.12->cryptography!=40.0.0,!=40.0.1,<42,>=38.0.0->pyOpenSSL>=22.0.0->selenium_wire) (2.21)\n",
            "Installing collected packages: brotli, zstandard, outcome, kaitaistruct, hyperframe, hpack, h11, wsproto, trio, h2, trio-websocket, selenium, selenium_wire\n",
            "Successfully installed brotli-1.1.0 h11-0.14.0 h2-4.1.0 hpack-4.0.0 hyperframe-6.0.1 kaitaistruct-0.10 outcome-1.2.0 selenium-4.12.0 selenium_wire-5.1.0 trio-0.22.2 trio-websocket-0.10.4 wsproto-1.2.0 zstandard-0.21.0\n"
          ]
        },
        {
          "output_type": "execute_result",
          "data": {
            "text/plain": []
          },
          "metadata": {},
          "execution_count": 27
        }
      ]
    },
    {
      "cell_type": "markdown",
      "source": [
        "### Build Scraper"
      ],
      "metadata": {
        "id": "yGzarO6AVw72"
      }
    },
    {
      "cell_type": "code",
      "source": [
        "from seleniumwire import webdriver    # We replace selenium with seleniumwire\n",
        "\n",
        "options = webdriver.ChromeOptions() # If you don't use selenium wire, this would be webdriver.chrome.options.Options()\n",
        "options.add_argument(\"--headless\")\n",
        "options.add_argument(\"--no-sandbox\")\n",
        "options.add_argument(\"--disable-dev-shm-usage\")\n",
        "driver = webdriver.Chrome(options=options)"
      ],
      "metadata": {
        "id": "VLAqRms_Wpm8"
      },
      "execution_count": null,
      "outputs": []
    },
    {
      "cell_type": "code",
      "source": [
        "# Let's intercept those nice API requests\n",
        "\n",
        "driver.scopes = [\n",
        "  API_URL\n",
        "]"
      ],
      "metadata": {
        "id": "bJ2ITwbqXH4V"
      },
      "execution_count": null,
      "outputs": []
    },
    {
      "cell_type": "code",
      "source": [
        "# selenium uses 'get' instead of 'goto'\n",
        "\n",
        "driver.get(URL)"
      ],
      "metadata": {
        "id": "wop2e_63YGE9"
      },
      "execution_count": null,
      "outputs": []
    },
    {
      "cell_type": "code",
      "source": [
        "# After a couple seconds we should see a request captured:\n",
        "\n",
        "len(driver.requests)"
      ],
      "metadata": {
        "colab": {
          "base_uri": "https://localhost:8080/"
        },
        "id": "9Ox4-tX4YQln",
        "outputId": "e8dcf381-a14e-4b45-d0d8-83c9309250ac"
      },
      "execution_count": null,
      "outputs": [
        {
          "output_type": "execute_result",
          "data": {
            "text/plain": [
              "1"
            ]
          },
          "metadata": {},
          "execution_count": 32
        }
      ]
    },
    {
      "cell_type": "code",
      "source": [
        "# So far so good... now let's decode the response (which is a little more involved here)\n",
        "\n",
        "from seleniumwire.utils import decode\n",
        "import json\n",
        "\n",
        "response = driver.requests[-1].response\n",
        "\n",
        "results = json.loads(decode(response.body, response.headers.get('Content-Encoding', 'identity')).decode())"
      ],
      "metadata": {
        "id": "6NdVaaCOYdSb"
      },
      "execution_count": null,
      "outputs": []
    },
    {
      "cell_type": "code",
      "source": [
        "results.keys()"
      ],
      "metadata": {
        "colab": {
          "base_uri": "https://localhost:8080/"
        },
        "id": "X0i16rpCYUiu",
        "outputId": "a824d51d-2817-4bd3-ac0c-ef01733ceaa2"
      },
      "execution_count": null,
      "outputs": [
        {
          "output_type": "execute_result",
          "data": {
            "text/plain": [
              "dict_keys(['search_objects', 'from', 'to', 'distance_ordered', 'search_point'])"
            ]
          },
          "metadata": {},
          "execution_count": 34
        }
      ]
    },
    {
      "cell_type": "code",
      "source": [
        "# let's spot-check the objects returned\n",
        "\n",
        "results['search_objects'][30]"
      ],
      "metadata": {
        "colab": {
          "base_uri": "https://localhost:8080/"
        },
        "id": "Dg7eKWrhYtfh",
        "outputId": "e75c435d-7ddb-45cf-fca4-8709165d7188"
      },
      "execution_count": null,
      "outputs": [
        {
          "output_type": "execute_result",
          "data": {
            "text/plain": [
              "{'id': 'v6g2lw1xe7ze',\n",
              " 'type': 'cars_search_cars',\n",
              " 'content': {'id': 'v6g2lw1xe7ze',\n",
              "  'title': 'Renault Clio Zen E-Tech Híbrido 103 kW (140 CV)',\n",
              "  'storytelling': '',\n",
              "  'distance': 0.0,\n",
              "  'images': [{'original': 'https://cdn.wallapop.com/images/10420/fd/if/__/c10420p929687840/i3446476992.jpg?pictureSize=W800',\n",
              "    'xsmall': 'https://cdn.wallapop.com/images/10420/fd/if/__/c10420p929687840/i3446476992.jpg?pictureSize=W320',\n",
              "    'small': 'https://cdn.wallapop.com/images/10420/fd/if/__/c10420p929687840/i3446476992.jpg?pictureSize=W320',\n",
              "    'large': 'https://cdn.wallapop.com/images/10420/fd/if/__/c10420p929687840/i3446476992.jpg?pictureSize=W800',\n",
              "    'medium': 'https://cdn.wallapop.com/images/10420/fd/if/__/c10420p929687840/i3446476992.jpg?pictureSize=W640',\n",
              "    'xlarge': 'https://cdn.wallapop.com/images/10420/fd/if/__/c10420p929687840/i3446476992.jpg?pictureSize=W800',\n",
              "    'original_width': 0,\n",
              "    'original_height': 0},\n",
              "   {'original': 'https://cdn.wallapop.com/images/10420/fd/if/__/c10420p929687840/i3446476993.jpg?pictureSize=W800',\n",
              "    'xsmall': 'https://cdn.wallapop.com/images/10420/fd/if/__/c10420p929687840/i3446476993.jpg?pictureSize=W320',\n",
              "    'small': 'https://cdn.wallapop.com/images/10420/fd/if/__/c10420p929687840/i3446476993.jpg?pictureSize=W320',\n",
              "    'large': 'https://cdn.wallapop.com/images/10420/fd/if/__/c10420p929687840/i3446476993.jpg?pictureSize=W800',\n",
              "    'medium': 'https://cdn.wallapop.com/images/10420/fd/if/__/c10420p929687840/i3446476993.jpg?pictureSize=W640',\n",
              "    'xlarge': 'https://cdn.wallapop.com/images/10420/fd/if/__/c10420p929687840/i3446476993.jpg?pictureSize=W800',\n",
              "    'original_width': 0,\n",
              "    'original_height': 0},\n",
              "   {'original': 'https://cdn.wallapop.com/images/10420/fd/if/__/c10420p929687840/i3446476996.jpg?pictureSize=W800',\n",
              "    'xsmall': 'https://cdn.wallapop.com/images/10420/fd/if/__/c10420p929687840/i3446476996.jpg?pictureSize=W320',\n",
              "    'small': 'https://cdn.wallapop.com/images/10420/fd/if/__/c10420p929687840/i3446476996.jpg?pictureSize=W320',\n",
              "    'large': 'https://cdn.wallapop.com/images/10420/fd/if/__/c10420p929687840/i3446476996.jpg?pictureSize=W800',\n",
              "    'medium': 'https://cdn.wallapop.com/images/10420/fd/if/__/c10420p929687840/i3446476996.jpg?pictureSize=W640',\n",
              "    'xlarge': 'https://cdn.wallapop.com/images/10420/fd/if/__/c10420p929687840/i3446476996.jpg?pictureSize=W800',\n",
              "    'original_width': 0,\n",
              "    'original_height': 0},\n",
              "   {'original': 'https://cdn.wallapop.com/images/10420/fd/if/__/c10420p929687840/i3446476998.jpg?pictureSize=W800',\n",
              "    'xsmall': 'https://cdn.wallapop.com/images/10420/fd/if/__/c10420p929687840/i3446476998.jpg?pictureSize=W320',\n",
              "    'small': 'https://cdn.wallapop.com/images/10420/fd/if/__/c10420p929687840/i3446476998.jpg?pictureSize=W320',\n",
              "    'large': 'https://cdn.wallapop.com/images/10420/fd/if/__/c10420p929687840/i3446476998.jpg?pictureSize=W800',\n",
              "    'medium': 'https://cdn.wallapop.com/images/10420/fd/if/__/c10420p929687840/i3446476998.jpg?pictureSize=W640',\n",
              "    'xlarge': 'https://cdn.wallapop.com/images/10420/fd/if/__/c10420p929687840/i3446476998.jpg?pictureSize=W800',\n",
              "    'original_width': 0,\n",
              "    'original_height': 0},\n",
              "   {'original': 'https://cdn.wallapop.com/images/10420/fd/if/__/c10420p929687840/i3446477003.jpg?pictureSize=W800',\n",
              "    'xsmall': 'https://cdn.wallapop.com/images/10420/fd/if/__/c10420p929687840/i3446477003.jpg?pictureSize=W320',\n",
              "    'small': 'https://cdn.wallapop.com/images/10420/fd/if/__/c10420p929687840/i3446477003.jpg?pictureSize=W320',\n",
              "    'large': 'https://cdn.wallapop.com/images/10420/fd/if/__/c10420p929687840/i3446477003.jpg?pictureSize=W800',\n",
              "    'medium': 'https://cdn.wallapop.com/images/10420/fd/if/__/c10420p929687840/i3446477003.jpg?pictureSize=W640',\n",
              "    'xlarge': 'https://cdn.wallapop.com/images/10420/fd/if/__/c10420p929687840/i3446477003.jpg?pictureSize=W800',\n",
              "    'original_width': 0,\n",
              "    'original_height': 0},\n",
              "   {'original': 'https://cdn.wallapop.com/images/10420/fd/if/__/c10420p929687840/i3446477005.jpg?pictureSize=W800',\n",
              "    'xsmall': 'https://cdn.wallapop.com/images/10420/fd/if/__/c10420p929687840/i3446477005.jpg?pictureSize=W320',\n",
              "    'small': 'https://cdn.wallapop.com/images/10420/fd/if/__/c10420p929687840/i3446477005.jpg?pictureSize=W320',\n",
              "    'large': 'https://cdn.wallapop.com/images/10420/fd/if/__/c10420p929687840/i3446477005.jpg?pictureSize=W800',\n",
              "    'medium': 'https://cdn.wallapop.com/images/10420/fd/if/__/c10420p929687840/i3446477005.jpg?pictureSize=W640',\n",
              "    'xlarge': 'https://cdn.wallapop.com/images/10420/fd/if/__/c10420p929687840/i3446477005.jpg?pictureSize=W800',\n",
              "    'original_width': 0,\n",
              "    'original_height': 0},\n",
              "   {'original': 'https://cdn.wallapop.com/images/10420/fd/if/__/c10420p929687840/i3446477007.jpg?pictureSize=W800',\n",
              "    'xsmall': 'https://cdn.wallapop.com/images/10420/fd/if/__/c10420p929687840/i3446477007.jpg?pictureSize=W320',\n",
              "    'small': 'https://cdn.wallapop.com/images/10420/fd/if/__/c10420p929687840/i3446477007.jpg?pictureSize=W320',\n",
              "    'large': 'https://cdn.wallapop.com/images/10420/fd/if/__/c10420p929687840/i3446477007.jpg?pictureSize=W800',\n",
              "    'medium': 'https://cdn.wallapop.com/images/10420/fd/if/__/c10420p929687840/i3446477007.jpg?pictureSize=W640',\n",
              "    'xlarge': 'https://cdn.wallapop.com/images/10420/fd/if/__/c10420p929687840/i3446477007.jpg?pictureSize=W800',\n",
              "    'original_width': 0,\n",
              "    'original_height': 0},\n",
              "   {'original': 'https://cdn.wallapop.com/images/10420/fd/if/__/c10420p929687840/i3446477010.jpg?pictureSize=W800',\n",
              "    'xsmall': 'https://cdn.wallapop.com/images/10420/fd/if/__/c10420p929687840/i3446477010.jpg?pictureSize=W320',\n",
              "    'small': 'https://cdn.wallapop.com/images/10420/fd/if/__/c10420p929687840/i3446477010.jpg?pictureSize=W320',\n",
              "    'large': 'https://cdn.wallapop.com/images/10420/fd/if/__/c10420p929687840/i3446477010.jpg?pictureSize=W800',\n",
              "    'medium': 'https://cdn.wallapop.com/images/10420/fd/if/__/c10420p929687840/i3446477010.jpg?pictureSize=W640',\n",
              "    'xlarge': 'https://cdn.wallapop.com/images/10420/fd/if/__/c10420p929687840/i3446477010.jpg?pictureSize=W800',\n",
              "    'original_width': 0,\n",
              "    'original_height': 0},\n",
              "   {'original': 'https://cdn.wallapop.com/images/10420/fd/if/__/c10420p929687840/i3446477015.jpg?pictureSize=W800',\n",
              "    'xsmall': 'https://cdn.wallapop.com/images/10420/fd/if/__/c10420p929687840/i3446477015.jpg?pictureSize=W320',\n",
              "    'small': 'https://cdn.wallapop.com/images/10420/fd/if/__/c10420p929687840/i3446477015.jpg?pictureSize=W320',\n",
              "    'large': 'https://cdn.wallapop.com/images/10420/fd/if/__/c10420p929687840/i3446477015.jpg?pictureSize=W800',\n",
              "    'medium': 'https://cdn.wallapop.com/images/10420/fd/if/__/c10420p929687840/i3446477015.jpg?pictureSize=W640',\n",
              "    'xlarge': 'https://cdn.wallapop.com/images/10420/fd/if/__/c10420p929687840/i3446477015.jpg?pictureSize=W800',\n",
              "    'original_width': 0,\n",
              "    'original_height': 0},\n",
              "   {'original': 'https://cdn.wallapop.com/images/10420/fd/if/__/c10420p929687840/i3446477017.jpg?pictureSize=W800',\n",
              "    'xsmall': 'https://cdn.wallapop.com/images/10420/fd/if/__/c10420p929687840/i3446477017.jpg?pictureSize=W320',\n",
              "    'small': 'https://cdn.wallapop.com/images/10420/fd/if/__/c10420p929687840/i3446477017.jpg?pictureSize=W320',\n",
              "    'large': 'https://cdn.wallapop.com/images/10420/fd/if/__/c10420p929687840/i3446477017.jpg?pictureSize=W800',\n",
              "    'medium': 'https://cdn.wallapop.com/images/10420/fd/if/__/c10420p929687840/i3446477017.jpg?pictureSize=W640',\n",
              "    'xlarge': 'https://cdn.wallapop.com/images/10420/fd/if/__/c10420p929687840/i3446477017.jpg?pictureSize=W800',\n",
              "    'original_width': 0,\n",
              "    'original_height': 0}],\n",
              "  'user': {'id': '8j3ypp8ow169',\n",
              "   'micro_name': '',\n",
              "   'image': {'original': '',\n",
              "    'xsmall': '',\n",
              "    'small': '',\n",
              "    'large': '',\n",
              "    'medium': '',\n",
              "    'xlarge': '',\n",
              "    'original_width': 0,\n",
              "    'original_height': 0},\n",
              "   'online': False,\n",
              "   'kind': 'normal'},\n",
              "  'flags': {'pending': False,\n",
              "   'sold': False,\n",
              "   'reserved': False,\n",
              "   'banned': False,\n",
              "   'expired': False,\n",
              "   'onhold': False},\n",
              "  'visibility_flags': {'bumped': True,\n",
              "   'highlighted': False,\n",
              "   'urgent': False,\n",
              "   'country_bumped': False,\n",
              "   'boosted': False},\n",
              "  'price': 18400.0,\n",
              "  'currency': 'EUR',\n",
              "  'web_slug': 'renault-clio-zen-e-tech-hibrido-103-kw-140-cv-929687840',\n",
              "  'category_id': 100,\n",
              "  'brand': 'Renault',\n",
              "  'model': 'Clio',\n",
              "  'year': 2021,\n",
              "  'version': 'Zen E-Tech Híbrido 103 kW (140 CV)',\n",
              "  'km': 41299,\n",
              "  'engine': 'Eléctrico',\n",
              "  'gearbox': 'automatic',\n",
              "  'horsepower': 140.0,\n",
              "  'favorited': False,\n",
              "  'creation_date': 1693269569418,\n",
              "  'modification_date': 1694247606583,\n",
              "  'location': {'city': 'Madrid', 'postal_code': '28014', 'country_code': 'ES'},\n",
              "  'shipping': {'item_is_shippable': False,\n",
              "   'user_allows_shipping': False,\n",
              "   'cost_configuration_id': None},\n",
              "  'supports_shipping': False}}"
            ]
          },
          "metadata": {},
          "execution_count": 35
        }
      ]
    },
    {
      "cell_type": "code",
      "source": [
        "# All we have to do now is scroll down and click the 'ver más productos' button\n",
        "\n",
        "driver.execute_script('window.scrollTo(0, document.body.scrollHeight);')\n",
        "driver.execute_script('document.querySelector(\"#btn-load-more\")?.click()')"
      ],
      "metadata": {
        "id": "RiTAPJulY5sw"
      },
      "execution_count": null,
      "outputs": []
    },
    {
      "cell_type": "code",
      "source": [
        "# Let's check if we intercepted anything new (it was 1 before)\n",
        "\n",
        "len(driver.requests)"
      ],
      "metadata": {
        "colab": {
          "base_uri": "https://localhost:8080/"
        },
        "id": "4SShjyZgY8qm",
        "outputId": "395db15d-4397-431d-f2eb-cf371268097d"
      },
      "execution_count": null,
      "outputs": [
        {
          "output_type": "execute_result",
          "data": {
            "text/plain": [
              "2"
            ]
          },
          "metadata": {},
          "execution_count": 37
        }
      ]
    },
    {
      "cell_type": "markdown",
      "source": [
        "We have all we need... ready to build the scraper!"
      ],
      "metadata": {
        "id": "VkMml_MZZEhP"
      }
    },
    {
      "cell_type": "markdown",
      "source": [
        "### Race"
      ],
      "metadata": {
        "id": "IjUg2Ze8adpI"
      }
    },
    {
      "cell_type": "code",
      "source": [
        "class WallapopScraper:\n",
        "  def __init__(self, api_url):\n",
        "    options = webdriver.ChromeOptions()\n",
        "    options.add_argument(\"--headless\")\n",
        "    options.add_argument(\"--no-sandbox\")\n",
        "    options.add_argument(\"--disable-dev-shm-usage\")\n",
        "    self.driver = webdriver.Chrome(options=options)\n",
        "    self.driver.scopes = [api_url]\n",
        "    self.data = []\n",
        "    self.driver.response_interceptor = self._handle_response\n",
        "\n",
        "  async def start(self, search_url, items=200):\n",
        "    self.driver.get(search_url)\n",
        "\n",
        "    while len(self.data) < items:\n",
        "      self.driver.execute_script('window.scrollTo(0, document?.body?.scrollHeight || 0);')\n",
        "      self.driver.execute_script('document.querySelector(\"#btn-load-more\")?.click()')\n",
        "\n",
        "      await asyncio.sleep(0.5)\n",
        "    return self.data_length\n",
        "\n",
        "  def _handle_response(self, _, response):\n",
        "    new_items = self._decode(response)['search_objects']\n",
        "    self.data.extend(new_items)\n",
        "\n",
        "  def _decode(self, response):\n",
        "    return json.loads(decode(response.body, response.headers.get('Content-Encoding', 'identity')).decode())\n",
        "\n",
        "  @property\n",
        "  def data_length(self):\n",
        "    return len(self.data)\n",
        "\n",
        "scraper = WallapopScraper(API_URL)"
      ],
      "metadata": {
        "id": "A9qcm9iNZGMY"
      },
      "execution_count": null,
      "outputs": []
    },
    {
      "cell_type": "code",
      "source": [
        "t0 = time.time()\n",
        "\n",
        "task = asyncio.create_task(scraper.start(URL, 2000))\n",
        "\n",
        "while True:\n",
        "  done, pending = await asyncio.wait({task}, timeout=5, return_when=asyncio.FIRST_COMPLETED)\n",
        "  if task in done:\n",
        "    print(time.time()-t0, task.result())\n",
        "    break\n",
        "  else:\n",
        "    print(time.time()-t0, scraper.data_length) # Small change here data.length -> data_length"
      ],
      "metadata": {
        "colab": {
          "base_uri": "https://localhost:8080/"
        },
        "outputId": "3e6e47d4-ca8d-439c-ca6c-2350619bf6ea",
        "id": "1cc3GE7zZj29"
      },
      "execution_count": null,
      "outputs": [
        {
          "output_type": "stream",
          "name": "stdout",
          "text": [
            "9.893239259719849 0\n",
            "18.618242502212524 40\n",
            "23.619502782821655 80\n",
            "28.6215078830719 160\n",
            "35.91853046417236 280\n",
            "41.50566339492798 320\n",
            "47.298896074295044 400\n",
            "52.72755742073059 480\n",
            "62.26958131790161 600\n",
            "70.16686534881592 680\n",
            "80.56938314437866 800\n",
            "86.38859820365906 840\n",
            "94.91015911102295 960\n",
            "105.94160962104797 1080\n",
            "113.23581528663635 1160\n",
            "120.86421179771423 1240\n",
            "128.92929673194885 1320\n",
            "133.9306058883667 1360\n",
            "141.40202164649963 1440\n",
            "146.40575623512268 1520\n",
            "153.81019258499146 1560\n",
            "161.5185511112213 1640\n",
            "169.7215597629547 1720\n",
            "179.22710132598877 1800\n",
            "184.71230292320251 1840\n",
            "189.71377992630005 1880\n",
            "199.10692429542542 2000\n",
            "199.6129014492035 2000\n"
          ]
        }
      ]
    },
    {
      "cell_type": "markdown",
      "source": [
        "Looks like selenium took a bit longer than the other two: 200 seconds. Let's discuss the results"
      ],
      "metadata": {
        "id": "1soWEdeuZsZC"
      }
    },
    {
      "cell_type": "markdown",
      "source": [
        "# Results"
      ],
      "metadata": {
        "id": "wwPUt8ylZvCJ"
      }
    },
    {
      "cell_type": "markdown",
      "source": [
        "# Results\n",
        "\n",
        "1. **Puppeteer JS:** 107s\n",
        "2. **Playwright Python:** 148s\n",
        "3. **Selenium Python:** 200s\n",
        "\n",
        "Puppeteer leads, Playwright follows, and Selenium took almost double.\n",
        "\n",
        "A couple things to note though:\n",
        "- This result is particular to this webpage and scraping method [1]. As a benchmark, this isn't scientific and your milage will vary. But, it was a fun experiment and it might be useful as a template to try the different tools on another website.\n",
        "- I ran this race a couple times here on Colab and I got different times (always the same ranking, even when running the scrapers in reverse order!). I believe it may be because Colab throttles the resources on the free plan, but there's no way to check. When I ran this on PayPerRun, where the resources allocated are more consistent, [I got more consistent times](https://payperrun.com/e-neuman/fun/scraper%2520race/1.%2520wallapop/).\n",
        "\n",
        "In any case, if we look at cost, even Selenium amounted to just ~$0.0025 (if we ran it on PayPerRun) for the 2000 posts. We would have to scrape tens of millions of posts to even come close to the engineering/development cost. So that's likely were you want to optimize: do more in less of **your** time!\n",
        "\n",
        "If you like this simple format of just scraping a website and comparing speed, drop me a comment/vote on reddit. Feedback is welcome! Open to scraping other websites and testing different methods.\n",
        "\n",
        "_[1] I also tested browsing the website without capturing and decoding the API requests to explore why Selenium was slower, [check it out on PayPerRun!](https://payperrun.com/e-neuman/fun/scraper%20race/1.%20wallapop?display=test%20-%20no%20request%20intercepting)._"
      ],
      "metadata": {
        "id": "Zz7SH5u1Z3pM"
      }
    },
    {
      "cell_type": "code",
      "source": [],
      "metadata": {
        "id": "dsNnTVKAZxvf"
      },
      "execution_count": null,
      "outputs": []
    }
  ]
}