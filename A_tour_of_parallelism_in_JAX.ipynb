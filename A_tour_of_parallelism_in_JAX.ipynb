{
  "nbformat": 4,
  "nbformat_minor": 0,
  "metadata": {
    "colab": {
      "provenance": [],
      "include_colab_link": true
    },
    "kernelspec": {
      "name": "python3",
      "display_name": "Python 3"
    },
    "language_info": {
      "name": "python"
    }
  },
  "cells": [
    {
      "cell_type": "markdown",
      "metadata": {
        "id": "view-in-github",
        "colab_type": "text"
      },
      "source": [
        "<a href=\"https://colab.research.google.com/github/rishabh135/2015/blob/master/A_tour_of_parallelism_in_JAX.ipynb\" target=\"_parent\"><img src=\"https://colab.research.google.com/assets/colab-badge.svg\" alt=\"Open In Colab\"/></a>"
      ]
    },
    {
      "cell_type": "code",
      "execution_count": null,
      "metadata": {
        "id": "iHnGxh19DkvQ",
        "cellView": "form"
      },
      "outputs": [],
      "source": [
        "#@title Imports\n",
        "import os\n",
        "os.environ[\"XLA_FLAGS\"] = '--xla_force_host_platform_device_count=8'\n",
        "\n",
        "import jax\n",
        "import jax.numpy as jnp\n",
        "from jax.experimental import mesh_utils\n",
        "from jax import random, debug, nn\n",
        "from jax.nn import initializers\n",
        "from jax.sharding import Mesh, NamedSharding, PartitionSpec as P, PositionalSharding as S\n",
        "import typing as tp\n",
        "import optax\n",
        "from functools import partial"
      ]
    },
    {
      "cell_type": "markdown",
      "source": [
        "## Sharding in JAX"
      ],
      "metadata": {
        "id": "LiPhyX8HGQhU"
      }
    },
    {
      "cell_type": "code",
      "source": [
        "x = random.uniform(random.PRNGKey(0), shape=(8, 4))\n",
        "print(x.shape)\n",
        "debug.visualize_array_sharding(x)"
      ],
      "metadata": {
        "colab": {
          "base_uri": "https://localhost:8080/",
          "height": 217
        },
        "id": "Y-8D7tfTEhjl",
        "outputId": "2ba036d4-4996-4721-a4c5-0f9cba736e46"
      },
      "execution_count": null,
      "outputs": [
        {
          "output_type": "stream",
          "name": "stdout",
          "text": [
            "(8, 4)\n"
          ]
        },
        {
          "output_type": "display_data",
          "data": {
            "text/plain": [
              "\u001b[38;2;255;255;255;48;2;57;59;121m            \u001b[0m\n",
              "\u001b[38;2;255;255;255;48;2;57;59;121m            \u001b[0m\n",
              "\u001b[38;2;255;255;255;48;2;57;59;121m            \u001b[0m\n",
              "\u001b[38;2;255;255;255;48;2;57;59;121m            \u001b[0m\n",
              "\u001b[38;2;255;255;255;48;2;57;59;121m            \u001b[0m\n",
              "\u001b[38;2;255;255;255;48;2;57;59;121m   \u001b[0m\u001b[38;2;255;255;255;48;2;57;59;121mCPU 0\u001b[0m\u001b[38;2;255;255;255;48;2;57;59;121m    \u001b[0m\n",
              "\u001b[38;2;255;255;255;48;2;57;59;121m            \u001b[0m\n",
              "\u001b[38;2;255;255;255;48;2;57;59;121m            \u001b[0m\n",
              "\u001b[38;2;255;255;255;48;2;57;59;121m            \u001b[0m\n",
              "\u001b[38;2;255;255;255;48;2;57;59;121m            \u001b[0m\n",
              "\u001b[38;2;255;255;255;48;2;57;59;121m            \u001b[0m\n"
            ],
            "text/html": [
              "<pre style=\"white-space:pre;overflow-x:auto;line-height:normal;font-family:Menlo,'DejaVu Sans Mono',consolas,'Courier New',monospace\"><span style=\"color: #ffffff; text-decoration-color: #ffffff; background-color: #393b79\">            </span>\n",
              "<span style=\"color: #ffffff; text-decoration-color: #ffffff; background-color: #393b79\">            </span>\n",
              "<span style=\"color: #ffffff; text-decoration-color: #ffffff; background-color: #393b79\">            </span>\n",
              "<span style=\"color: #ffffff; text-decoration-color: #ffffff; background-color: #393b79\">            </span>\n",
              "<span style=\"color: #ffffff; text-decoration-color: #ffffff; background-color: #393b79\">            </span>\n",
              "<span style=\"color: #ffffff; text-decoration-color: #ffffff; background-color: #393b79\">   CPU 0    </span>\n",
              "<span style=\"color: #ffffff; text-decoration-color: #ffffff; background-color: #393b79\">            </span>\n",
              "<span style=\"color: #ffffff; text-decoration-color: #ffffff; background-color: #393b79\">            </span>\n",
              "<span style=\"color: #ffffff; text-decoration-color: #ffffff; background-color: #393b79\">            </span>\n",
              "<span style=\"color: #ffffff; text-decoration-color: #ffffff; background-color: #393b79\">            </span>\n",
              "<span style=\"color: #ffffff; text-decoration-color: #ffffff; background-color: #393b79\">            </span>\n",
              "</pre>\n"
            ]
          },
          "metadata": {}
        }
      ]
    },
    {
      "cell_type": "code",
      "source": [
        "mesh = Mesh(\n",
        "    devices=mesh_utils.create_device_mesh((2, 4)),\n",
        "    axis_names=(\"a\", \"b\"),\n",
        ")\n",
        "y = jax.device_put(x, NamedSharding(mesh, P(\"a\", \"b\")))\n",
        "\n",
        "print(\"gobal shape:\", y.shape)\n",
        "print(\"shard shape:\", y.sharding.shard_shape(y.shape))\n",
        "debug.visualize_array_sharding(y)"
      ],
      "metadata": {
        "colab": {
          "base_uri": "https://localhost:8080/",
          "height": 252
        },
        "id": "idoSWKkkFJRs",
        "outputId": "f927aafd-5be0-47cf-9573-ccdd2bc3b90f"
      },
      "execution_count": null,
      "outputs": [
        {
          "output_type": "stream",
          "name": "stdout",
          "text": [
            "gobal shape: (8, 4)\n",
            "shard shape: (4, 1)\n"
          ]
        },
        {
          "output_type": "display_data",
          "data": {
            "text/plain": [
              "\u001b[38;2;255;255;255;48;2;57;59;121m         \u001b[0m\u001b[38;2;255;255;255;48;2;214;97;107m         \u001b[0m\u001b[38;2;255;255;255;48;2;140;162;82m         \u001b[0m\u001b[38;2;255;255;255;48;2;222;158;214m         \u001b[0m\n",
              "\u001b[38;2;255;255;255;48;2;57;59;121m         \u001b[0m\u001b[38;2;255;255;255;48;2;214;97;107m         \u001b[0m\u001b[38;2;255;255;255;48;2;140;162;82m         \u001b[0m\u001b[38;2;255;255;255;48;2;222;158;214m         \u001b[0m\n",
              "\u001b[38;2;255;255;255;48;2;57;59;121m  \u001b[0m\u001b[38;2;255;255;255;48;2;57;59;121mCPU 0\u001b[0m\u001b[38;2;255;255;255;48;2;57;59;121m  \u001b[0m\u001b[38;2;255;255;255;48;2;214;97;107m  \u001b[0m\u001b[38;2;255;255;255;48;2;214;97;107mCPU 1\u001b[0m\u001b[38;2;255;255;255;48;2;214;97;107m  \u001b[0m\u001b[38;2;255;255;255;48;2;140;162;82m  \u001b[0m\u001b[38;2;255;255;255;48;2;140;162;82mCPU 2\u001b[0m\u001b[38;2;255;255;255;48;2;140;162;82m  \u001b[0m\u001b[38;2;255;255;255;48;2;222;158;214m  \u001b[0m\u001b[38;2;255;255;255;48;2;222;158;214mCPU 3\u001b[0m\u001b[38;2;255;255;255;48;2;222;158;214m  \u001b[0m\n",
              "\u001b[38;2;255;255;255;48;2;57;59;121m         \u001b[0m\u001b[38;2;255;255;255;48;2;214;97;107m         \u001b[0m\u001b[38;2;255;255;255;48;2;140;162;82m         \u001b[0m\u001b[38;2;255;255;255;48;2;222;158;214m         \u001b[0m\n",
              "\u001b[38;2;255;255;255;48;2;57;59;121m         \u001b[0m\u001b[38;2;255;255;255;48;2;214;97;107m         \u001b[0m\u001b[38;2;255;255;255;48;2;140;162;82m         \u001b[0m\u001b[38;2;255;255;255;48;2;222;158;214m         \u001b[0m\n",
              "\u001b[38;2;255;255;255;48;2;57;59;121m         \u001b[0m\u001b[38;2;255;255;255;48;2;214;97;107m         \u001b[0m\u001b[38;2;255;255;255;48;2;140;162;82m         \u001b[0m\u001b[38;2;255;255;255;48;2;222;158;214m         \u001b[0m\n",
              "\u001b[38;2;0;0;0;48;2;231;203;148m         \u001b[0m\u001b[38;2;255;255;255;48;2;107;110;207m         \u001b[0m\u001b[38;2;255;255;255;48;2;165;81;148m         \u001b[0m\u001b[38;2;255;255;255;48;2;140;109;49m         \u001b[0m\n",
              "\u001b[38;2;0;0;0;48;2;231;203;148m         \u001b[0m\u001b[38;2;255;255;255;48;2;107;110;207m         \u001b[0m\u001b[38;2;255;255;255;48;2;165;81;148m         \u001b[0m\u001b[38;2;255;255;255;48;2;140;109;49m         \u001b[0m\n",
              "\u001b[38;2;0;0;0;48;2;231;203;148m  \u001b[0m\u001b[38;2;0;0;0;48;2;231;203;148mCPU 4\u001b[0m\u001b[38;2;0;0;0;48;2;231;203;148m  \u001b[0m\u001b[38;2;255;255;255;48;2;107;110;207m  \u001b[0m\u001b[38;2;255;255;255;48;2;107;110;207mCPU 5\u001b[0m\u001b[38;2;255;255;255;48;2;107;110;207m  \u001b[0m\u001b[38;2;255;255;255;48;2;165;81;148m  \u001b[0m\u001b[38;2;255;255;255;48;2;165;81;148mCPU 6\u001b[0m\u001b[38;2;255;255;255;48;2;165;81;148m  \u001b[0m\u001b[38;2;255;255;255;48;2;140;109;49m  \u001b[0m\u001b[38;2;255;255;255;48;2;140;109;49mCPU 7\u001b[0m\u001b[38;2;255;255;255;48;2;140;109;49m  \u001b[0m\n",
              "\u001b[38;2;0;0;0;48;2;231;203;148m         \u001b[0m\u001b[38;2;255;255;255;48;2;107;110;207m         \u001b[0m\u001b[38;2;255;255;255;48;2;165;81;148m         \u001b[0m\u001b[38;2;255;255;255;48;2;140;109;49m         \u001b[0m\n",
              "\u001b[38;2;0;0;0;48;2;231;203;148m         \u001b[0m\u001b[38;2;255;255;255;48;2;107;110;207m         \u001b[0m\u001b[38;2;255;255;255;48;2;165;81;148m         \u001b[0m\u001b[38;2;255;255;255;48;2;140;109;49m         \u001b[0m\n",
              "\u001b[38;2;0;0;0;48;2;231;203;148m         \u001b[0m\u001b[38;2;255;255;255;48;2;107;110;207m         \u001b[0m\u001b[38;2;255;255;255;48;2;165;81;148m         \u001b[0m\u001b[38;2;255;255;255;48;2;140;109;49m         \u001b[0m\n"
            ],
            "text/html": [
              "<pre style=\"white-space:pre;overflow-x:auto;line-height:normal;font-family:Menlo,'DejaVu Sans Mono',consolas,'Courier New',monospace\"><span style=\"color: #ffffff; text-decoration-color: #ffffff; background-color: #393b79\">         </span><span style=\"color: #ffffff; text-decoration-color: #ffffff; background-color: #d6616b\">         </span><span style=\"color: #ffffff; text-decoration-color: #ffffff; background-color: #8ca252\">         </span><span style=\"color: #ffffff; text-decoration-color: #ffffff; background-color: #de9ed6\">         </span>\n",
              "<span style=\"color: #ffffff; text-decoration-color: #ffffff; background-color: #393b79\">         </span><span style=\"color: #ffffff; text-decoration-color: #ffffff; background-color: #d6616b\">         </span><span style=\"color: #ffffff; text-decoration-color: #ffffff; background-color: #8ca252\">         </span><span style=\"color: #ffffff; text-decoration-color: #ffffff; background-color: #de9ed6\">         </span>\n",
              "<span style=\"color: #ffffff; text-decoration-color: #ffffff; background-color: #393b79\">  CPU 0  </span><span style=\"color: #ffffff; text-decoration-color: #ffffff; background-color: #d6616b\">  CPU 1  </span><span style=\"color: #ffffff; text-decoration-color: #ffffff; background-color: #8ca252\">  CPU 2  </span><span style=\"color: #ffffff; text-decoration-color: #ffffff; background-color: #de9ed6\">  CPU 3  </span>\n",
              "<span style=\"color: #ffffff; text-decoration-color: #ffffff; background-color: #393b79\">         </span><span style=\"color: #ffffff; text-decoration-color: #ffffff; background-color: #d6616b\">         </span><span style=\"color: #ffffff; text-decoration-color: #ffffff; background-color: #8ca252\">         </span><span style=\"color: #ffffff; text-decoration-color: #ffffff; background-color: #de9ed6\">         </span>\n",
              "<span style=\"color: #ffffff; text-decoration-color: #ffffff; background-color: #393b79\">         </span><span style=\"color: #ffffff; text-decoration-color: #ffffff; background-color: #d6616b\">         </span><span style=\"color: #ffffff; text-decoration-color: #ffffff; background-color: #8ca252\">         </span><span style=\"color: #ffffff; text-decoration-color: #ffffff; background-color: #de9ed6\">         </span>\n",
              "<span style=\"color: #ffffff; text-decoration-color: #ffffff; background-color: #393b79\">         </span><span style=\"color: #ffffff; text-decoration-color: #ffffff; background-color: #d6616b\">         </span><span style=\"color: #ffffff; text-decoration-color: #ffffff; background-color: #8ca252\">         </span><span style=\"color: #ffffff; text-decoration-color: #ffffff; background-color: #de9ed6\">         </span>\n",
              "<span style=\"color: #000000; text-decoration-color: #000000; background-color: #e7cb94\">         </span><span style=\"color: #ffffff; text-decoration-color: #ffffff; background-color: #6b6ecf\">         </span><span style=\"color: #ffffff; text-decoration-color: #ffffff; background-color: #a55194\">         </span><span style=\"color: #ffffff; text-decoration-color: #ffffff; background-color: #8c6d31\">         </span>\n",
              "<span style=\"color: #000000; text-decoration-color: #000000; background-color: #e7cb94\">         </span><span style=\"color: #ffffff; text-decoration-color: #ffffff; background-color: #6b6ecf\">         </span><span style=\"color: #ffffff; text-decoration-color: #ffffff; background-color: #a55194\">         </span><span style=\"color: #ffffff; text-decoration-color: #ffffff; background-color: #8c6d31\">         </span>\n",
              "<span style=\"color: #000000; text-decoration-color: #000000; background-color: #e7cb94\">  CPU 4  </span><span style=\"color: #ffffff; text-decoration-color: #ffffff; background-color: #6b6ecf\">  CPU 5  </span><span style=\"color: #ffffff; text-decoration-color: #ffffff; background-color: #a55194\">  CPU 6  </span><span style=\"color: #ffffff; text-decoration-color: #ffffff; background-color: #8c6d31\">  CPU 7  </span>\n",
              "<span style=\"color: #000000; text-decoration-color: #000000; background-color: #e7cb94\">         </span><span style=\"color: #ffffff; text-decoration-color: #ffffff; background-color: #6b6ecf\">         </span><span style=\"color: #ffffff; text-decoration-color: #ffffff; background-color: #a55194\">         </span><span style=\"color: #ffffff; text-decoration-color: #ffffff; background-color: #8c6d31\">         </span>\n",
              "<span style=\"color: #000000; text-decoration-color: #000000; background-color: #e7cb94\">         </span><span style=\"color: #ffffff; text-decoration-color: #ffffff; background-color: #6b6ecf\">         </span><span style=\"color: #ffffff; text-decoration-color: #ffffff; background-color: #a55194\">         </span><span style=\"color: #ffffff; text-decoration-color: #ffffff; background-color: #8c6d31\">         </span>\n",
              "<span style=\"color: #000000; text-decoration-color: #000000; background-color: #e7cb94\">         </span><span style=\"color: #ffffff; text-decoration-color: #ffffff; background-color: #6b6ecf\">         </span><span style=\"color: #ffffff; text-decoration-color: #ffffff; background-color: #a55194\">         </span><span style=\"color: #ffffff; text-decoration-color: #ffffff; background-color: #8c6d31\">         </span>\n",
              "</pre>\n"
            ]
          },
          "metadata": {}
        }
      ]
    },
    {
      "cell_type": "code",
      "source": [
        "mesh = Mesh(\n",
        "    devices=mesh_utils.create_device_mesh((4, 2)),\n",
        "    axis_names=(\"a\", \"b\"),\n",
        ")\n",
        "y = jax.device_put(x, NamedSharding(mesh, P(\"a\", \"b\")))\n",
        "\n",
        "print(\"gobal shape:\", y.shape)\n",
        "print(\"shard shape:\", y.sharding.shard_shape(y.shape))\n",
        "debug.visualize_array_sharding(y)"
      ],
      "metadata": {
        "colab": {
          "base_uri": "https://localhost:8080/",
          "height": 252
        },
        "id": "zSdBnOGZFTwr",
        "outputId": "e97f7f78-4321-4e7f-99b5-f198bbd91c64"
      },
      "execution_count": null,
      "outputs": [
        {
          "output_type": "stream",
          "name": "stdout",
          "text": [
            "gobal shape: (8, 4)\n",
            "shard shape: (2, 2)\n"
          ]
        },
        {
          "output_type": "display_data",
          "data": {
            "text/plain": [
              "\u001b[38;2;255;255;255;48;2;57;59;121m         \u001b[0m\u001b[38;2;255;255;255;48;2;214;97;107m         \u001b[0m\n",
              "\u001b[38;2;255;255;255;48;2;57;59;121m  \u001b[0m\u001b[38;2;255;255;255;48;2;57;59;121mCPU 0\u001b[0m\u001b[38;2;255;255;255;48;2;57;59;121m  \u001b[0m\u001b[38;2;255;255;255;48;2;214;97;107m  \u001b[0m\u001b[38;2;255;255;255;48;2;214;97;107mCPU 1\u001b[0m\u001b[38;2;255;255;255;48;2;214;97;107m  \u001b[0m\n",
              "\u001b[38;2;255;255;255;48;2;57;59;121m         \u001b[0m\u001b[38;2;255;255;255;48;2;214;97;107m         \u001b[0m\n",
              "\u001b[38;2;255;255;255;48;2;140;162;82m         \u001b[0m\u001b[38;2;255;255;255;48;2;222;158;214m         \u001b[0m\n",
              "\u001b[38;2;255;255;255;48;2;140;162;82m  \u001b[0m\u001b[38;2;255;255;255;48;2;140;162;82mCPU 2\u001b[0m\u001b[38;2;255;255;255;48;2;140;162;82m  \u001b[0m\u001b[38;2;255;255;255;48;2;222;158;214m  \u001b[0m\u001b[38;2;255;255;255;48;2;222;158;214mCPU 3\u001b[0m\u001b[38;2;255;255;255;48;2;222;158;214m  \u001b[0m\n",
              "\u001b[38;2;255;255;255;48;2;140;162;82m         \u001b[0m\u001b[38;2;255;255;255;48;2;222;158;214m         \u001b[0m\n",
              "\u001b[38;2;0;0;0;48;2;231;203;148m         \u001b[0m\u001b[38;2;255;255;255;48;2;107;110;207m         \u001b[0m\n",
              "\u001b[38;2;0;0;0;48;2;231;203;148m  \u001b[0m\u001b[38;2;0;0;0;48;2;231;203;148mCPU 4\u001b[0m\u001b[38;2;0;0;0;48;2;231;203;148m  \u001b[0m\u001b[38;2;255;255;255;48;2;107;110;207m  \u001b[0m\u001b[38;2;255;255;255;48;2;107;110;207mCPU 5\u001b[0m\u001b[38;2;255;255;255;48;2;107;110;207m  \u001b[0m\n",
              "\u001b[38;2;0;0;0;48;2;231;203;148m         \u001b[0m\u001b[38;2;255;255;255;48;2;107;110;207m         \u001b[0m\n",
              "\u001b[38;2;255;255;255;48;2;165;81;148m         \u001b[0m\u001b[38;2;255;255;255;48;2;140;109;49m         \u001b[0m\n",
              "\u001b[38;2;255;255;255;48;2;165;81;148m  \u001b[0m\u001b[38;2;255;255;255;48;2;165;81;148mCPU 6\u001b[0m\u001b[38;2;255;255;255;48;2;165;81;148m  \u001b[0m\u001b[38;2;255;255;255;48;2;140;109;49m  \u001b[0m\u001b[38;2;255;255;255;48;2;140;109;49mCPU 7\u001b[0m\u001b[38;2;255;255;255;48;2;140;109;49m  \u001b[0m\n",
              "\u001b[38;2;255;255;255;48;2;165;81;148m         \u001b[0m\u001b[38;2;255;255;255;48;2;140;109;49m         \u001b[0m\n"
            ],
            "text/html": [
              "<pre style=\"white-space:pre;overflow-x:auto;line-height:normal;font-family:Menlo,'DejaVu Sans Mono',consolas,'Courier New',monospace\"><span style=\"color: #ffffff; text-decoration-color: #ffffff; background-color: #393b79\">         </span><span style=\"color: #ffffff; text-decoration-color: #ffffff; background-color: #d6616b\">         </span>\n",
              "<span style=\"color: #ffffff; text-decoration-color: #ffffff; background-color: #393b79\">  CPU 0  </span><span style=\"color: #ffffff; text-decoration-color: #ffffff; background-color: #d6616b\">  CPU 1  </span>\n",
              "<span style=\"color: #ffffff; text-decoration-color: #ffffff; background-color: #393b79\">         </span><span style=\"color: #ffffff; text-decoration-color: #ffffff; background-color: #d6616b\">         </span>\n",
              "<span style=\"color: #ffffff; text-decoration-color: #ffffff; background-color: #8ca252\">         </span><span style=\"color: #ffffff; text-decoration-color: #ffffff; background-color: #de9ed6\">         </span>\n",
              "<span style=\"color: #ffffff; text-decoration-color: #ffffff; background-color: #8ca252\">  CPU 2  </span><span style=\"color: #ffffff; text-decoration-color: #ffffff; background-color: #de9ed6\">  CPU 3  </span>\n",
              "<span style=\"color: #ffffff; text-decoration-color: #ffffff; background-color: #8ca252\">         </span><span style=\"color: #ffffff; text-decoration-color: #ffffff; background-color: #de9ed6\">         </span>\n",
              "<span style=\"color: #000000; text-decoration-color: #000000; background-color: #e7cb94\">         </span><span style=\"color: #ffffff; text-decoration-color: #ffffff; background-color: #6b6ecf\">         </span>\n",
              "<span style=\"color: #000000; text-decoration-color: #000000; background-color: #e7cb94\">  CPU 4  </span><span style=\"color: #ffffff; text-decoration-color: #ffffff; background-color: #6b6ecf\">  CPU 5  </span>\n",
              "<span style=\"color: #000000; text-decoration-color: #000000; background-color: #e7cb94\">         </span><span style=\"color: #ffffff; text-decoration-color: #ffffff; background-color: #6b6ecf\">         </span>\n",
              "<span style=\"color: #ffffff; text-decoration-color: #ffffff; background-color: #a55194\">         </span><span style=\"color: #ffffff; text-decoration-color: #ffffff; background-color: #8c6d31\">         </span>\n",
              "<span style=\"color: #ffffff; text-decoration-color: #ffffff; background-color: #a55194\">  CPU 6  </span><span style=\"color: #ffffff; text-decoration-color: #ffffff; background-color: #8c6d31\">  CPU 7  </span>\n",
              "<span style=\"color: #ffffff; text-decoration-color: #ffffff; background-color: #a55194\">         </span><span style=\"color: #ffffff; text-decoration-color: #ffffff; background-color: #8c6d31\">         </span>\n",
              "</pre>\n"
            ]
          },
          "metadata": {}
        }
      ]
    },
    {
      "cell_type": "code",
      "source": [
        "mesh = Mesh(\n",
        "    devices=mesh_utils.create_device_mesh((4, 2)),\n",
        "    axis_names=(\"a\", \"b\"),\n",
        ")\n",
        "y = jax.device_put(x, NamedSharding(mesh, P(\"a\", None)))\n",
        "\n",
        "print(y.shape)\n",
        "debug.visualize_array_sharding(y)"
      ],
      "metadata": {
        "colab": {
          "base_uri": "https://localhost:8080/",
          "height": 233
        },
        "id": "qKJUF_Ubge8k",
        "outputId": "4ed15b66-11fa-4a28-b4f6-dc31b541a7f6"
      },
      "execution_count": null,
      "outputs": [
        {
          "output_type": "stream",
          "name": "stdout",
          "text": [
            "(8, 4)\n"
          ]
        },
        {
          "output_type": "display_data",
          "data": {
            "text/plain": [
              "\u001b[38;2;255;255;255;48;2;57;59;121m            \u001b[0m\n",
              "\u001b[38;2;255;255;255;48;2;57;59;121m  \u001b[0m\u001b[38;2;255;255;255;48;2;57;59;121mCPU 0,1\u001b[0m\u001b[38;2;255;255;255;48;2;57;59;121m   \u001b[0m\n",
              "\u001b[38;2;255;255;255;48;2;57;59;121m            \u001b[0m\n",
              "\u001b[38;2;255;255;255;48;2;222;158;214m            \u001b[0m\n",
              "\u001b[38;2;255;255;255;48;2;222;158;214m  \u001b[0m\u001b[38;2;255;255;255;48;2;222;158;214mCPU 2,3\u001b[0m\u001b[38;2;255;255;255;48;2;222;158;214m   \u001b[0m\n",
              "\u001b[38;2;255;255;255;48;2;222;158;214m            \u001b[0m\n",
              "\u001b[38;2;255;255;255;48;2;173;73;74m            \u001b[0m\n",
              "\u001b[38;2;255;255;255;48;2;173;73;74m  \u001b[0m\u001b[38;2;255;255;255;48;2;173;73;74mCPU 4,5\u001b[0m\u001b[38;2;255;255;255;48;2;173;73;74m   \u001b[0m\n",
              "\u001b[38;2;255;255;255;48;2;173;73;74m            \u001b[0m\n",
              "\u001b[38;2;0;0;0;48;2;181;207;107m            \u001b[0m\n",
              "\u001b[38;2;0;0;0;48;2;181;207;107m  \u001b[0m\u001b[38;2;0;0;0;48;2;181;207;107mCPU 6,7\u001b[0m\u001b[38;2;0;0;0;48;2;181;207;107m   \u001b[0m\n",
              "\u001b[38;2;0;0;0;48;2;181;207;107m            \u001b[0m\n"
            ],
            "text/html": [
              "<pre style=\"white-space:pre;overflow-x:auto;line-height:normal;font-family:Menlo,'DejaVu Sans Mono',consolas,'Courier New',monospace\"><span style=\"color: #ffffff; text-decoration-color: #ffffff; background-color: #393b79\">            </span>\n",
              "<span style=\"color: #ffffff; text-decoration-color: #ffffff; background-color: #393b79\">  CPU 0,1   </span>\n",
              "<span style=\"color: #ffffff; text-decoration-color: #ffffff; background-color: #393b79\">            </span>\n",
              "<span style=\"color: #ffffff; text-decoration-color: #ffffff; background-color: #de9ed6\">            </span>\n",
              "<span style=\"color: #ffffff; text-decoration-color: #ffffff; background-color: #de9ed6\">  CPU 2,3   </span>\n",
              "<span style=\"color: #ffffff; text-decoration-color: #ffffff; background-color: #de9ed6\">            </span>\n",
              "<span style=\"color: #ffffff; text-decoration-color: #ffffff; background-color: #ad494a\">            </span>\n",
              "<span style=\"color: #ffffff; text-decoration-color: #ffffff; background-color: #ad494a\">  CPU 4,5   </span>\n",
              "<span style=\"color: #ffffff; text-decoration-color: #ffffff; background-color: #ad494a\">            </span>\n",
              "<span style=\"color: #000000; text-decoration-color: #000000; background-color: #b5cf6b\">            </span>\n",
              "<span style=\"color: #000000; text-decoration-color: #000000; background-color: #b5cf6b\">  CPU 6,7   </span>\n",
              "<span style=\"color: #000000; text-decoration-color: #000000; background-color: #b5cf6b\">            </span>\n",
              "</pre>\n"
            ]
          },
          "metadata": {}
        }
      ]
    },
    {
      "cell_type": "markdown",
      "source": [
        "## MLP"
      ],
      "metadata": {
        "id": "ot8LKlTRNCW1"
      }
    },
    {
      "cell_type": "code",
      "source": [
        "def mlp_init(key, din: int, dmid: int, dout: int) -> tp.Dict:\n",
        "  key1, key2 = random.split(key, 2)\n",
        "  return {\n",
        "      \"w1\": initializers.lecun_normal()(key1, (din, dmid)),\n",
        "      \"w2\": initializers.lecun_normal()(key2, (dmid, dout)),\n",
        "  }\n",
        "\n",
        "def mlp_forward(params: tp.Dict, x: jax.Array) -> jax.Array:\n",
        "  x = x @ params[\"w1\"]\n",
        "  x = nn.gelu(x)\n",
        "  x = x @ params[\"w2\"]\n",
        "  return x\n",
        "\n",
        "params = mlp_init(random.PRNGKey(0), 32, 128, 32)\n",
        "\n",
        "X = random.uniform(random.PRNGKey(0), (16, 32))\n",
        "Y = mlp_forward(params, X)\n",
        "\n",
        "print(\"params:\", jax.tree_map(jnp.shape, params))"
      ],
      "metadata": {
        "colab": {
          "base_uri": "https://localhost:8080/"
        },
        "id": "FeydqpluGNcm",
        "outputId": "277cf0ec-498b-4b09-d94d-7b459854324c"
      },
      "execution_count": null,
      "outputs": [
        {
          "output_type": "stream",
          "name": "stdout",
          "text": [
            "params: {'w1': (32, 128), 'w2': (128, 32)}\n"
          ]
        }
      ]
    },
    {
      "cell_type": "code",
      "source": [
        "params = mlp_init(random.PRNGKey(0), 32, 128, 32)\n",
        "tx = optax.adam(3e-4)\n",
        "opt_state = tx.init(params)\n",
        "\n",
        "print(\"params:\", jax.tree_map(jnp.shape, params))\n",
        "print(\"opt_state:\", jax.tree_map(jnp.shape, opt_state))\n",
        "\n",
        "@jax.jit\n",
        "def train_step(params, opt_state, x, y):\n",
        "  def loss_fn(params):\n",
        "    y_pred = mlp_forward(params, x)\n",
        "    return jnp.mean((y - y_pred)**2)\n",
        "\n",
        "  grads = jax.grad(loss_fn)(params)\n",
        "\n",
        "  updates, opt_state = tx.update(grads, opt_state, params)\n",
        "  params = optax.apply_updates(params, updates)\n",
        "\n",
        "  return params, opt_state\n",
        "\n",
        "params, opt_state = train_step(params, opt_state, X, Y)"
      ],
      "metadata": {
        "colab": {
          "base_uri": "https://localhost:8080/"
        },
        "id": "gtLLhrs4ssVC",
        "outputId": "7e4471dd-6390-4eb6-a11f-91ac776c6dda"
      },
      "execution_count": null,
      "outputs": [
        {
          "output_type": "stream",
          "name": "stdout",
          "text": [
            "params: {'w1': (32, 128), 'w2': (128, 32)}\n",
            "opt_state: (ScaleByAdamState(count=(), mu={'w1': (32, 128), 'w2': (128, 32)}, nu={'w1': (32, 128), 'w2': (128, 32)}), EmptyState())\n"
          ]
        }
      ]
    },
    {
      "cell_type": "markdown",
      "source": [
        "## Data Parallel Training with shard_map"
      ],
      "metadata": {
        "id": "b7CBplwXrahE"
      }
    },
    {
      "cell_type": "code",
      "source": [
        "from jax.experimental.shard_map import shard_map\n",
        "\n",
        "params = mlp_init(random.PRNGKey(0), 32, 128, 32)\n",
        "tx = optax.adam(3e-4)\n",
        "opt_state = tx.init(params)\n",
        "\n",
        "# mesh\n",
        "mesh = Mesh(\n",
        "    devices=mesh_utils.create_device_mesh((8,)),\n",
        "    axis_names=(\"data\",),\n",
        ")\n",
        "\n",
        "# create shardings\n",
        "params_spec = {'w1': P(None), 'w2': P(None)}\n",
        "opt_state_spec = (\n",
        "  optax.ScaleByAdamState(\n",
        "    count=P(), mu=params_spec, nu=params_spec\n",
        "  ),\n",
        "  optax.EmptyState()\n",
        ")\n",
        "data_spec = P(\"data\")\n",
        "\n",
        "print(\"params:\", jax.tree_map(jnp.shape, params))\n",
        "print(\"opt_state:\", jax.tree_map(jnp.shape, opt_state))\n",
        "print(\"\\nglobal x.shape\", X.shape)\n",
        "\n",
        "@jax.jit\n",
        "@partial(\n",
        "  shard_map,\n",
        "  mesh=mesh,\n",
        "  in_specs=(params_spec, opt_state_spec, data_spec, data_spec),\n",
        "  out_specs=(params_spec, opt_state_spec),\n",
        ")\n",
        "def train_step(params, opt_state, x, y):\n",
        "  print(\"shard  x.shape:\", x.shape)\n",
        "\n",
        "  def loss_fn(params):\n",
        "    y_pred = mlp_forward(params, x)\n",
        "    return jnp.mean((y - y_pred)**2)\n",
        "\n",
        "  grads = jax.grad(loss_fn)(params)\n",
        "\n",
        "  # all reduce avg\n",
        "  grads = jax.lax.pmean(grads, axis_name=\"data\")\n",
        "\n",
        "  updates, opt_state = tx.update(grads, opt_state, params)\n",
        "  params = optax.apply_updates(params, updates)\n",
        "\n",
        "  return params, opt_state\n",
        "\n",
        "params, opt_state = train_step(params, opt_state, X, X)\n",
        "\n",
        "print(\"\\nVisualize final sharding\")\n",
        "print(\"params\")\n",
        "debug.visualize_array_sharding(params[\"w1\"])\n",
        "print(\"opt_state\")\n",
        "debug.visualize_array_sharding(opt_state[0].mu[\"w1\"])"
      ],
      "metadata": {
        "colab": {
          "base_uri": "https://localhost:8080/",
          "height": 565
        },
        "id": "Mwo7k7xP-vdI",
        "outputId": "2aa82a70-2924-44e5-fab9-01a903b626aa"
      },
      "execution_count": null,
      "outputs": [
        {
          "output_type": "stream",
          "name": "stdout",
          "text": [
            "params: {'w1': (32, 128), 'w2': (128, 32)}\n",
            "opt_state: (ScaleByAdamState(count=(), mu={'w1': (32, 128), 'w2': (128, 32)}, nu={'w1': (32, 128), 'w2': (128, 32)}), EmptyState())\n",
            "\n",
            "global x.shape (16, 32)\n",
            "shard  x.shape: (2, 32)\n",
            "\n",
            "Visualize final sharding\n",
            "params\n"
          ]
        },
        {
          "output_type": "display_data",
          "data": {
            "text/plain": [
              "\u001b[38;2;255;255;255;48;2;57;59;121m                                                                                \u001b[0m\n",
              "\u001b[38;2;255;255;255;48;2;57;59;121m                                                                                \u001b[0m\n",
              "\u001b[38;2;255;255;255;48;2;57;59;121m                                                                                \u001b[0m\n",
              "\u001b[38;2;255;255;255;48;2;57;59;121m                                                                                \u001b[0m\n",
              "\u001b[38;2;255;255;255;48;2;57;59;121m                                                                                \u001b[0m\n",
              "\u001b[38;2;255;255;255;48;2;57;59;121m                              \u001b[0m\u001b[38;2;255;255;255;48;2;57;59;121mCPU 0,1,2,3,4,5,6,7\u001b[0m\u001b[38;2;255;255;255;48;2;57;59;121m                               \u001b[0m\n",
              "\u001b[38;2;255;255;255;48;2;57;59;121m                                                                                \u001b[0m\n",
              "\u001b[38;2;255;255;255;48;2;57;59;121m                                                                                \u001b[0m\n",
              "\u001b[38;2;255;255;255;48;2;57;59;121m                                                                                \u001b[0m\n",
              "\u001b[38;2;255;255;255;48;2;57;59;121m                                                                                \u001b[0m\n",
              "\u001b[38;2;255;255;255;48;2;57;59;121m                                                                                \u001b[0m\n"
            ],
            "text/html": [
              "<pre style=\"white-space:pre;overflow-x:auto;line-height:normal;font-family:Menlo,'DejaVu Sans Mono',consolas,'Courier New',monospace\"><span style=\"color: #ffffff; text-decoration-color: #ffffff; background-color: #393b79\">                                                                                </span>\n",
              "<span style=\"color: #ffffff; text-decoration-color: #ffffff; background-color: #393b79\">                                                                                </span>\n",
              "<span style=\"color: #ffffff; text-decoration-color: #ffffff; background-color: #393b79\">                                                                                </span>\n",
              "<span style=\"color: #ffffff; text-decoration-color: #ffffff; background-color: #393b79\">                                                                                </span>\n",
              "<span style=\"color: #ffffff; text-decoration-color: #ffffff; background-color: #393b79\">                                                                                </span>\n",
              "<span style=\"color: #ffffff; text-decoration-color: #ffffff; background-color: #393b79\">                              CPU 0,1,2,3,4,5,6,7                               </span>\n",
              "<span style=\"color: #ffffff; text-decoration-color: #ffffff; background-color: #393b79\">                                                                                </span>\n",
              "<span style=\"color: #ffffff; text-decoration-color: #ffffff; background-color: #393b79\">                                                                                </span>\n",
              "<span style=\"color: #ffffff; text-decoration-color: #ffffff; background-color: #393b79\">                                                                                </span>\n",
              "<span style=\"color: #ffffff; text-decoration-color: #ffffff; background-color: #393b79\">                                                                                </span>\n",
              "<span style=\"color: #ffffff; text-decoration-color: #ffffff; background-color: #393b79\">                                                                                </span>\n",
              "</pre>\n"
            ]
          },
          "metadata": {}
        },
        {
          "output_type": "stream",
          "name": "stdout",
          "text": [
            "opt_state\n"
          ]
        },
        {
          "output_type": "display_data",
          "data": {
            "text/plain": [
              "\u001b[38;2;255;255;255;48;2;57;59;121m                                                                                \u001b[0m\n",
              "\u001b[38;2;255;255;255;48;2;57;59;121m                                                                                \u001b[0m\n",
              "\u001b[38;2;255;255;255;48;2;57;59;121m                                                                                \u001b[0m\n",
              "\u001b[38;2;255;255;255;48;2;57;59;121m                                                                                \u001b[0m\n",
              "\u001b[38;2;255;255;255;48;2;57;59;121m                                                                                \u001b[0m\n",
              "\u001b[38;2;255;255;255;48;2;57;59;121m                              \u001b[0m\u001b[38;2;255;255;255;48;2;57;59;121mCPU 0,1,2,3,4,5,6,7\u001b[0m\u001b[38;2;255;255;255;48;2;57;59;121m                               \u001b[0m\n",
              "\u001b[38;2;255;255;255;48;2;57;59;121m                                                                                \u001b[0m\n",
              "\u001b[38;2;255;255;255;48;2;57;59;121m                                                                                \u001b[0m\n",
              "\u001b[38;2;255;255;255;48;2;57;59;121m                                                                                \u001b[0m\n",
              "\u001b[38;2;255;255;255;48;2;57;59;121m                                                                                \u001b[0m\n",
              "\u001b[38;2;255;255;255;48;2;57;59;121m                                                                                \u001b[0m\n"
            ],
            "text/html": [
              "<pre style=\"white-space:pre;overflow-x:auto;line-height:normal;font-family:Menlo,'DejaVu Sans Mono',consolas,'Courier New',monospace\"><span style=\"color: #ffffff; text-decoration-color: #ffffff; background-color: #393b79\">                                                                                </span>\n",
              "<span style=\"color: #ffffff; text-decoration-color: #ffffff; background-color: #393b79\">                                                                                </span>\n",
              "<span style=\"color: #ffffff; text-decoration-color: #ffffff; background-color: #393b79\">                                                                                </span>\n",
              "<span style=\"color: #ffffff; text-decoration-color: #ffffff; background-color: #393b79\">                                                                                </span>\n",
              "<span style=\"color: #ffffff; text-decoration-color: #ffffff; background-color: #393b79\">                                                                                </span>\n",
              "<span style=\"color: #ffffff; text-decoration-color: #ffffff; background-color: #393b79\">                              CPU 0,1,2,3,4,5,6,7                               </span>\n",
              "<span style=\"color: #ffffff; text-decoration-color: #ffffff; background-color: #393b79\">                                                                                </span>\n",
              "<span style=\"color: #ffffff; text-decoration-color: #ffffff; background-color: #393b79\">                                                                                </span>\n",
              "<span style=\"color: #ffffff; text-decoration-color: #ffffff; background-color: #393b79\">                                                                                </span>\n",
              "<span style=\"color: #ffffff; text-decoration-color: #ffffff; background-color: #393b79\">                                                                                </span>\n",
              "<span style=\"color: #ffffff; text-decoration-color: #ffffff; background-color: #393b79\">                                                                                </span>\n",
              "</pre>\n"
            ]
          },
          "metadata": {}
        }
      ]
    },
    {
      "cell_type": "markdown",
      "source": [
        "## Data Parallel with pjit"
      ],
      "metadata": {
        "id": "8LmzZmYhwu0e"
      }
    },
    {
      "cell_type": "code",
      "source": [
        "params = mlp_init(random.PRNGKey(0), 32, 128, 32)\n",
        "tx = optax.adam(3e-4)\n",
        "opt_state = tx.init(params)\n",
        "\n",
        "# mesh\n",
        "mesh = Mesh(\n",
        "    devices=mesh_utils.create_device_mesh((8,)),\n",
        "    axis_names=(\"data\"),\n",
        ")\n",
        "def sharding(*args):\n",
        "  return NamedSharding(mesh, P(*args))\n",
        "\n",
        "# create shardings\n",
        "params_sharding = {'w1': sharding(None), 'w2': sharding(None)}\n",
        "opt_state_sharding = (\n",
        "  optax.ScaleByAdamState(\n",
        "    count=sharding(), mu=params_sharding, nu=params_sharding\n",
        "  ),\n",
        "  optax.EmptyState()\n",
        ")\n",
        "data_sharding = sharding(\"data\")\n",
        "\n",
        "# shard state\n",
        "params = jax.device_put(params, params_sharding)\n",
        "opt_state = jax.device_put(opt_state, opt_state_sharding)\n",
        "x, y = jax.device_put(X, data_sharding), jax.device_put(Y, data_sharding)\n",
        "\n",
        "print(\"params:\", jax.tree_map(jnp.shape, params))\n",
        "print(\"opt_state:\", jax.tree_map(jnp.shape, opt_state))\n",
        "\n",
        "print(\"\\nInput sharding\")\n",
        "debug.visualize_array_sharding(x)\n",
        "\n",
        "@jax.jit\n",
        "def train_step(params, opt_state, x, y):\n",
        "  def loss_fn(params):\n",
        "    y_pred = mlp_forward(params, x)\n",
        "    return jnp.mean((y - y_pred)**2)\n",
        "\n",
        "  grads = jax.grad(loss_fn)(params)\n",
        "\n",
        "  # constrain grads\n",
        "  grads = jax.lax.with_sharding_constraint(grads, params_sharding)\n",
        "\n",
        "  updates, opt_state = tx.update(grads, opt_state, params)\n",
        "  params = optax.apply_updates(params, updates)\n",
        "\n",
        "  return params, opt_state\n",
        "\n",
        "params, opt_state = train_step(params, opt_state, x, y)\n",
        "params, opt_state = train_step(params, opt_state, x, y)\n",
        "\n",
        "print(\"\\nVisualize final sharding\")\n",
        "print(\"params\")\n",
        "debug.visualize_array_sharding(params[\"w1\"])\n",
        "print(\"opt_state\")\n",
        "debug.visualize_array_sharding(opt_state[0].mu[\"w1\"])"
      ],
      "metadata": {
        "colab": {
          "base_uri": "https://localhost:8080/",
          "height": 811
        },
        "id": "husfkAqNvm-q",
        "outputId": "2779a23a-531b-430e-84f4-d388fdc60332"
      },
      "execution_count": null,
      "outputs": [
        {
          "output_type": "stream",
          "name": "stdout",
          "text": [
            "params: {'w1': (32, 128), 'w2': (128, 32)}\n",
            "opt_state: (ScaleByAdamState(count=(), mu={'w1': (32, 128), 'w2': (128, 32)}, nu={'w1': (32, 128), 'w2': (128, 32)}), EmptyState())\n",
            "\n",
            "Input sharding\n"
          ]
        },
        {
          "output_type": "display_data",
          "data": {
            "text/plain": [
              "\u001b[38;2;255;255;255;48;2;57;59;121m                      \u001b[0m\u001b[38;2;255;255;255;48;2;57;59;121mCPU 0\u001b[0m\u001b[38;2;255;255;255;48;2;57;59;121m                       \u001b[0m\n",
              "\u001b[38;2;255;255;255;48;2;57;59;121m                                                  \u001b[0m\n",
              "\u001b[38;2;255;255;255;48;2;214;97;107m                      \u001b[0m\u001b[38;2;255;255;255;48;2;214;97;107mCPU 1\u001b[0m\u001b[38;2;255;255;255;48;2;214;97;107m                       \u001b[0m\n",
              "\u001b[38;2;255;255;255;48;2;214;97;107m                                                  \u001b[0m\n",
              "\u001b[38;2;255;255;255;48;2;140;162;82m                      \u001b[0m\u001b[38;2;255;255;255;48;2;140;162;82mCPU 2\u001b[0m\u001b[38;2;255;255;255;48;2;140;162;82m                       \u001b[0m\n",
              "\u001b[38;2;255;255;255;48;2;140;162;82m                                                  \u001b[0m\n",
              "\u001b[38;2;255;255;255;48;2;222;158;214m                      \u001b[0m\u001b[38;2;255;255;255;48;2;222;158;214mCPU 3\u001b[0m\u001b[38;2;255;255;255;48;2;222;158;214m                       \u001b[0m\n",
              "\u001b[38;2;255;255;255;48;2;222;158;214m                                                  \u001b[0m\n",
              "\u001b[38;2;0;0;0;48;2;231;203;148m                      \u001b[0m\u001b[38;2;0;0;0;48;2;231;203;148mCPU 4\u001b[0m\u001b[38;2;0;0;0;48;2;231;203;148m                       \u001b[0m\n",
              "\u001b[38;2;0;0;0;48;2;231;203;148m                                                  \u001b[0m\n",
              "\u001b[38;2;255;255;255;48;2;107;110;207m                      \u001b[0m\u001b[38;2;255;255;255;48;2;107;110;207mCPU 5\u001b[0m\u001b[38;2;255;255;255;48;2;107;110;207m                       \u001b[0m\n",
              "\u001b[38;2;255;255;255;48;2;107;110;207m                                                  \u001b[0m\n",
              "\u001b[38;2;255;255;255;48;2;165;81;148m                      \u001b[0m\u001b[38;2;255;255;255;48;2;165;81;148mCPU 6\u001b[0m\u001b[38;2;255;255;255;48;2;165;81;148m                       \u001b[0m\n",
              "\u001b[38;2;255;255;255;48;2;165;81;148m                                                  \u001b[0m\n",
              "\u001b[38;2;255;255;255;48;2;140;109;49m                      \u001b[0m\u001b[38;2;255;255;255;48;2;140;109;49mCPU 7\u001b[0m\u001b[38;2;255;255;255;48;2;140;109;49m                       \u001b[0m\n",
              "\u001b[38;2;255;255;255;48;2;140;109;49m                                                  \u001b[0m\n"
            ],
            "text/html": [
              "<pre style=\"white-space:pre;overflow-x:auto;line-height:normal;font-family:Menlo,'DejaVu Sans Mono',consolas,'Courier New',monospace\"><span style=\"color: #ffffff; text-decoration-color: #ffffff; background-color: #393b79\">                      CPU 0                       </span>\n",
              "<span style=\"color: #ffffff; text-decoration-color: #ffffff; background-color: #393b79\">                                                  </span>\n",
              "<span style=\"color: #ffffff; text-decoration-color: #ffffff; background-color: #d6616b\">                      CPU 1                       </span>\n",
              "<span style=\"color: #ffffff; text-decoration-color: #ffffff; background-color: #d6616b\">                                                  </span>\n",
              "<span style=\"color: #ffffff; text-decoration-color: #ffffff; background-color: #8ca252\">                      CPU 2                       </span>\n",
              "<span style=\"color: #ffffff; text-decoration-color: #ffffff; background-color: #8ca252\">                                                  </span>\n",
              "<span style=\"color: #ffffff; text-decoration-color: #ffffff; background-color: #de9ed6\">                      CPU 3                       </span>\n",
              "<span style=\"color: #ffffff; text-decoration-color: #ffffff; background-color: #de9ed6\">                                                  </span>\n",
              "<span style=\"color: #000000; text-decoration-color: #000000; background-color: #e7cb94\">                      CPU 4                       </span>\n",
              "<span style=\"color: #000000; text-decoration-color: #000000; background-color: #e7cb94\">                                                  </span>\n",
              "<span style=\"color: #ffffff; text-decoration-color: #ffffff; background-color: #6b6ecf\">                      CPU 5                       </span>\n",
              "<span style=\"color: #ffffff; text-decoration-color: #ffffff; background-color: #6b6ecf\">                                                  </span>\n",
              "<span style=\"color: #ffffff; text-decoration-color: #ffffff; background-color: #a55194\">                      CPU 6                       </span>\n",
              "<span style=\"color: #ffffff; text-decoration-color: #ffffff; background-color: #a55194\">                                                  </span>\n",
              "<span style=\"color: #ffffff; text-decoration-color: #ffffff; background-color: #8c6d31\">                      CPU 7                       </span>\n",
              "<span style=\"color: #ffffff; text-decoration-color: #ffffff; background-color: #8c6d31\">                                                  </span>\n",
              "</pre>\n"
            ]
          },
          "metadata": {}
        },
        {
          "output_type": "stream",
          "name": "stdout",
          "text": [
            "\n",
            "Visualize final sharding\n",
            "params\n"
          ]
        },
        {
          "output_type": "display_data",
          "data": {
            "text/plain": [
              "\u001b[38;2;255;255;255;48;2;57;59;121m                                                                                \u001b[0m\n",
              "\u001b[38;2;255;255;255;48;2;57;59;121m                                                                                \u001b[0m\n",
              "\u001b[38;2;255;255;255;48;2;57;59;121m                                                                                \u001b[0m\n",
              "\u001b[38;2;255;255;255;48;2;57;59;121m                                                                                \u001b[0m\n",
              "\u001b[38;2;255;255;255;48;2;57;59;121m                                                                                \u001b[0m\n",
              "\u001b[38;2;255;255;255;48;2;57;59;121m                              \u001b[0m\u001b[38;2;255;255;255;48;2;57;59;121mCPU 0,1,2,3,4,5,6,7\u001b[0m\u001b[38;2;255;255;255;48;2;57;59;121m                               \u001b[0m\n",
              "\u001b[38;2;255;255;255;48;2;57;59;121m                                                                                \u001b[0m\n",
              "\u001b[38;2;255;255;255;48;2;57;59;121m                                                                                \u001b[0m\n",
              "\u001b[38;2;255;255;255;48;2;57;59;121m                                                                                \u001b[0m\n",
              "\u001b[38;2;255;255;255;48;2;57;59;121m                                                                                \u001b[0m\n",
              "\u001b[38;2;255;255;255;48;2;57;59;121m                                                                                \u001b[0m\n"
            ],
            "text/html": [
              "<pre style=\"white-space:pre;overflow-x:auto;line-height:normal;font-family:Menlo,'DejaVu Sans Mono',consolas,'Courier New',monospace\"><span style=\"color: #ffffff; text-decoration-color: #ffffff; background-color: #393b79\">                                                                                </span>\n",
              "<span style=\"color: #ffffff; text-decoration-color: #ffffff; background-color: #393b79\">                                                                                </span>\n",
              "<span style=\"color: #ffffff; text-decoration-color: #ffffff; background-color: #393b79\">                                                                                </span>\n",
              "<span style=\"color: #ffffff; text-decoration-color: #ffffff; background-color: #393b79\">                                                                                </span>\n",
              "<span style=\"color: #ffffff; text-decoration-color: #ffffff; background-color: #393b79\">                                                                                </span>\n",
              "<span style=\"color: #ffffff; text-decoration-color: #ffffff; background-color: #393b79\">                              CPU 0,1,2,3,4,5,6,7                               </span>\n",
              "<span style=\"color: #ffffff; text-decoration-color: #ffffff; background-color: #393b79\">                                                                                </span>\n",
              "<span style=\"color: #ffffff; text-decoration-color: #ffffff; background-color: #393b79\">                                                                                </span>\n",
              "<span style=\"color: #ffffff; text-decoration-color: #ffffff; background-color: #393b79\">                                                                                </span>\n",
              "<span style=\"color: #ffffff; text-decoration-color: #ffffff; background-color: #393b79\">                                                                                </span>\n",
              "<span style=\"color: #ffffff; text-decoration-color: #ffffff; background-color: #393b79\">                                                                                </span>\n",
              "</pre>\n"
            ]
          },
          "metadata": {}
        },
        {
          "output_type": "stream",
          "name": "stdout",
          "text": [
            "opt_state\n"
          ]
        },
        {
          "output_type": "display_data",
          "data": {
            "text/plain": [
              "\u001b[38;2;255;255;255;48;2;57;59;121m                                                                                \u001b[0m\n",
              "\u001b[38;2;255;255;255;48;2;57;59;121m                                                                                \u001b[0m\n",
              "\u001b[38;2;255;255;255;48;2;57;59;121m                                                                                \u001b[0m\n",
              "\u001b[38;2;255;255;255;48;2;57;59;121m                                                                                \u001b[0m\n",
              "\u001b[38;2;255;255;255;48;2;57;59;121m                                                                                \u001b[0m\n",
              "\u001b[38;2;255;255;255;48;2;57;59;121m                              \u001b[0m\u001b[38;2;255;255;255;48;2;57;59;121mCPU 0,1,2,3,4,5,6,7\u001b[0m\u001b[38;2;255;255;255;48;2;57;59;121m                               \u001b[0m\n",
              "\u001b[38;2;255;255;255;48;2;57;59;121m                                                                                \u001b[0m\n",
              "\u001b[38;2;255;255;255;48;2;57;59;121m                                                                                \u001b[0m\n",
              "\u001b[38;2;255;255;255;48;2;57;59;121m                                                                                \u001b[0m\n",
              "\u001b[38;2;255;255;255;48;2;57;59;121m                                                                                \u001b[0m\n",
              "\u001b[38;2;255;255;255;48;2;57;59;121m                                                                                \u001b[0m\n"
            ],
            "text/html": [
              "<pre style=\"white-space:pre;overflow-x:auto;line-height:normal;font-family:Menlo,'DejaVu Sans Mono',consolas,'Courier New',monospace\"><span style=\"color: #ffffff; text-decoration-color: #ffffff; background-color: #393b79\">                                                                                </span>\n",
              "<span style=\"color: #ffffff; text-decoration-color: #ffffff; background-color: #393b79\">                                                                                </span>\n",
              "<span style=\"color: #ffffff; text-decoration-color: #ffffff; background-color: #393b79\">                                                                                </span>\n",
              "<span style=\"color: #ffffff; text-decoration-color: #ffffff; background-color: #393b79\">                                                                                </span>\n",
              "<span style=\"color: #ffffff; text-decoration-color: #ffffff; background-color: #393b79\">                                                                                </span>\n",
              "<span style=\"color: #ffffff; text-decoration-color: #ffffff; background-color: #393b79\">                              CPU 0,1,2,3,4,5,6,7                               </span>\n",
              "<span style=\"color: #ffffff; text-decoration-color: #ffffff; background-color: #393b79\">                                                                                </span>\n",
              "<span style=\"color: #ffffff; text-decoration-color: #ffffff; background-color: #393b79\">                                                                                </span>\n",
              "<span style=\"color: #ffffff; text-decoration-color: #ffffff; background-color: #393b79\">                                                                                </span>\n",
              "<span style=\"color: #ffffff; text-decoration-color: #ffffff; background-color: #393b79\">                                                                                </span>\n",
              "<span style=\"color: #ffffff; text-decoration-color: #ffffff; background-color: #393b79\">                                                                                </span>\n",
              "</pre>\n"
            ]
          },
          "metadata": {}
        }
      ]
    },
    {
      "cell_type": "markdown",
      "source": [
        "## Model Parallel"
      ],
      "metadata": {
        "id": "yBUOOnn53Gey"
      }
    },
    {
      "cell_type": "code",
      "source": [
        "def mlp_forward(params: tp.Dict, x: jax.Array, viz=False) -> jax.Array:\n",
        "  y = nn.gelu(x @ params[\"w1\"])\n",
        "  z = y @ params[\"w2\"]\n",
        "  if viz:\n",
        "    print(\"x\")\n",
        "    debug.visualize_array_sharding(x)\n",
        "    print(\"w1\")\n",
        "    debug.visualize_array_sharding(params['w1'])\n",
        "    print(\"y\")\n",
        "    debug.visualize_array_sharding(y)\n",
        "    print(\"w2\")\n",
        "    debug.visualize_array_sharding(params['w2'])\n",
        "    print(\"z\")\n",
        "    debug.visualize_array_sharding(z)\n",
        "  return x"
      ],
      "metadata": {
        "id": "HPdesJ4j4dDF"
      },
      "execution_count": null,
      "outputs": []
    },
    {
      "cell_type": "code",
      "source": [
        "params = mlp_init(random.PRNGKey(0), 32, 128, 32)\n",
        "tx = optax.adam(3e-4)\n",
        "opt_state = tx.init(params)\n",
        "\n",
        "# mesh\n",
        "mesh = Mesh(\n",
        "    devices=mesh_utils.create_device_mesh((8,)),\n",
        "    axis_names=(\"model\",),\n",
        ")\n",
        "def sharding(*args):\n",
        "  return NamedSharding(mesh, P(*args))\n",
        "\n",
        "# create shardings\n",
        "params_sharding = {'w1': sharding(None, \"model\"), 'w2': sharding(\"model\", None)}\n",
        "opt_state_sharding = (\n",
        "  optax.ScaleByAdamState(\n",
        "    count=sharding(), mu=params_sharding, nu=params_sharding\n",
        "  ),\n",
        "  optax.EmptyState()\n",
        ")\n",
        "data_sharding = sharding(None)\n",
        "\n",
        "# shard state\n",
        "params = jax.device_put(params, params_sharding)\n",
        "opt_state = jax.device_put(opt_state, opt_state_sharding)\n",
        "x, y = jax.device_put(X, data_sharding), jax.device_put(Y, data_sharding)\n",
        "\n",
        "print(\"params:\", jax.tree_map(jnp.shape, params))\n",
        "print(\"opt_state:\", jax.tree_map(jnp.shape, opt_state))\n",
        "\n",
        "# visualize computation sharding\n",
        "mlp_forward(params, x, viz=True)\n",
        "\n",
        "@jax.jit\n",
        "def train_step(params, opt_state, x, y):\n",
        "  def loss_fn(params):\n",
        "    y_pred = mlp_forward(params, x)\n",
        "    return jnp.mean((y - y_pred)**2)\n",
        "\n",
        "  grads = jax.grad(loss_fn)(params)\n",
        "\n",
        "  # constrain grads\n",
        "  grads = jax.lax.with_sharding_constraint(grads, params_sharding)\n",
        "\n",
        "  updates, opt_state = tx.update(grads, opt_state, params)\n",
        "  params = optax.apply_updates(params, updates)\n",
        "\n",
        "  return params, opt_state\n",
        "\n",
        "params, opt_state = train_step(params, opt_state, x, y)\n",
        "params, opt_state = train_step(params, opt_state, x, y)\n",
        "\n",
        "print(\"\\nVisualize final sharding\")\n",
        "print(\"params\")\n",
        "debug.visualize_array_sharding(params[\"w1\"])\n",
        "print(\"opt_state\")\n",
        "debug.visualize_array_sharding(opt_state[0].mu[\"w1\"])"
      ],
      "metadata": {
        "colab": {
          "base_uri": "https://localhost:8080/",
          "height": 1000
        },
        "id": "cQ0EHwTi2kLX",
        "outputId": "7d65193a-e169-48d9-d3ab-71608bcd6c83"
      },
      "execution_count": null,
      "outputs": [
        {
          "output_type": "stream",
          "name": "stdout",
          "text": [
            "params: {'w1': (32, 128), 'w2': (128, 32)}\n",
            "opt_state: (ScaleByAdamState(count=(), mu={'w1': (32, 128), 'w2': (128, 32)}, nu={'w1': (32, 128), 'w2': (128, 32)}), EmptyState())\n",
            "x\n"
          ]
        },
        {
          "output_type": "display_data",
          "data": {
            "text/plain": [
              "\u001b[38;2;255;255;255;48;2;57;59;121m                                                  \u001b[0m\n",
              "\u001b[38;2;255;255;255;48;2;57;59;121m                                                  \u001b[0m\n",
              "\u001b[38;2;255;255;255;48;2;57;59;121m                                                  \u001b[0m\n",
              "\u001b[38;2;255;255;255;48;2;57;59;121m                                                  \u001b[0m\n",
              "\u001b[38;2;255;255;255;48;2;57;59;121m                                                  \u001b[0m\n",
              "\u001b[38;2;255;255;255;48;2;57;59;121m               \u001b[0m\u001b[38;2;255;255;255;48;2;57;59;121mCPU 0,1,2,3,4,5,6,7\u001b[0m\u001b[38;2;255;255;255;48;2;57;59;121m                \u001b[0m\n",
              "\u001b[38;2;255;255;255;48;2;57;59;121m                                                  \u001b[0m\n",
              "\u001b[38;2;255;255;255;48;2;57;59;121m                                                  \u001b[0m\n",
              "\u001b[38;2;255;255;255;48;2;57;59;121m                                                  \u001b[0m\n",
              "\u001b[38;2;255;255;255;48;2;57;59;121m                                                  \u001b[0m\n",
              "\u001b[38;2;255;255;255;48;2;57;59;121m                                                  \u001b[0m\n"
            ],
            "text/html": [
              "<pre style=\"white-space:pre;overflow-x:auto;line-height:normal;font-family:Menlo,'DejaVu Sans Mono',consolas,'Courier New',monospace\"><span style=\"color: #ffffff; text-decoration-color: #ffffff; background-color: #393b79\">                                                  </span>\n",
              "<span style=\"color: #ffffff; text-decoration-color: #ffffff; background-color: #393b79\">                                                  </span>\n",
              "<span style=\"color: #ffffff; text-decoration-color: #ffffff; background-color: #393b79\">                                                  </span>\n",
              "<span style=\"color: #ffffff; text-decoration-color: #ffffff; background-color: #393b79\">                                                  </span>\n",
              "<span style=\"color: #ffffff; text-decoration-color: #ffffff; background-color: #393b79\">                                                  </span>\n",
              "<span style=\"color: #ffffff; text-decoration-color: #ffffff; background-color: #393b79\">               CPU 0,1,2,3,4,5,6,7                </span>\n",
              "<span style=\"color: #ffffff; text-decoration-color: #ffffff; background-color: #393b79\">                                                  </span>\n",
              "<span style=\"color: #ffffff; text-decoration-color: #ffffff; background-color: #393b79\">                                                  </span>\n",
              "<span style=\"color: #ffffff; text-decoration-color: #ffffff; background-color: #393b79\">                                                  </span>\n",
              "<span style=\"color: #ffffff; text-decoration-color: #ffffff; background-color: #393b79\">                                                  </span>\n",
              "<span style=\"color: #ffffff; text-decoration-color: #ffffff; background-color: #393b79\">                                                  </span>\n",
              "</pre>\n"
            ]
          },
          "metadata": {}
        },
        {
          "output_type": "stream",
          "name": "stdout",
          "text": [
            "w1\n"
          ]
        },
        {
          "output_type": "display_data",
          "data": {
            "text/plain": [
              "\u001b[38;2;255;255;255;48;2;57;59;121m          \u001b[0m\u001b[38;2;255;255;255;48;2;214;97;107m          \u001b[0m\u001b[38;2;255;255;255;48;2;140;162;82m          \u001b[0m\u001b[38;2;255;255;255;48;2;222;158;214m          \u001b[0m\u001b[38;2;0;0;0;48;2;231;203;148m          \u001b[0m\u001b[38;2;255;255;255;48;2;107;110;207m          \u001b[0m\u001b[38;2;255;255;255;48;2;165;81;148m          \u001b[0m\u001b[38;2;255;255;255;48;2;140;109;49m          \u001b[0m\n",
              "\u001b[38;2;255;255;255;48;2;57;59;121m          \u001b[0m\u001b[38;2;255;255;255;48;2;214;97;107m          \u001b[0m\u001b[38;2;255;255;255;48;2;140;162;82m          \u001b[0m\u001b[38;2;255;255;255;48;2;222;158;214m          \u001b[0m\u001b[38;2;0;0;0;48;2;231;203;148m          \u001b[0m\u001b[38;2;255;255;255;48;2;107;110;207m          \u001b[0m\u001b[38;2;255;255;255;48;2;165;81;148m          \u001b[0m\u001b[38;2;255;255;255;48;2;140;109;49m          \u001b[0m\n",
              "\u001b[38;2;255;255;255;48;2;57;59;121m          \u001b[0m\u001b[38;2;255;255;255;48;2;214;97;107m          \u001b[0m\u001b[38;2;255;255;255;48;2;140;162;82m          \u001b[0m\u001b[38;2;255;255;255;48;2;222;158;214m          \u001b[0m\u001b[38;2;0;0;0;48;2;231;203;148m          \u001b[0m\u001b[38;2;255;255;255;48;2;107;110;207m          \u001b[0m\u001b[38;2;255;255;255;48;2;165;81;148m          \u001b[0m\u001b[38;2;255;255;255;48;2;140;109;49m          \u001b[0m\n",
              "\u001b[38;2;255;255;255;48;2;57;59;121m          \u001b[0m\u001b[38;2;255;255;255;48;2;214;97;107m          \u001b[0m\u001b[38;2;255;255;255;48;2;140;162;82m          \u001b[0m\u001b[38;2;255;255;255;48;2;222;158;214m          \u001b[0m\u001b[38;2;0;0;0;48;2;231;203;148m          \u001b[0m\u001b[38;2;255;255;255;48;2;107;110;207m          \u001b[0m\u001b[38;2;255;255;255;48;2;165;81;148m          \u001b[0m\u001b[38;2;255;255;255;48;2;140;109;49m          \u001b[0m\n",
              "\u001b[38;2;255;255;255;48;2;57;59;121m          \u001b[0m\u001b[38;2;255;255;255;48;2;214;97;107m          \u001b[0m\u001b[38;2;255;255;255;48;2;140;162;82m          \u001b[0m\u001b[38;2;255;255;255;48;2;222;158;214m          \u001b[0m\u001b[38;2;0;0;0;48;2;231;203;148m          \u001b[0m\u001b[38;2;255;255;255;48;2;107;110;207m          \u001b[0m\u001b[38;2;255;255;255;48;2;165;81;148m          \u001b[0m\u001b[38;2;255;255;255;48;2;140;109;49m          \u001b[0m\n",
              "\u001b[38;2;255;255;255;48;2;57;59;121m   \u001b[0m\u001b[38;2;255;255;255;48;2;57;59;121mCPU\u001b[0m\u001b[38;2;255;255;255;48;2;57;59;121m    \u001b[0m\u001b[38;2;255;255;255;48;2;214;97;107m   \u001b[0m\u001b[38;2;255;255;255;48;2;214;97;107mCPU\u001b[0m\u001b[38;2;255;255;255;48;2;214;97;107m    \u001b[0m\u001b[38;2;255;255;255;48;2;140;162;82m   \u001b[0m\u001b[38;2;255;255;255;48;2;140;162;82mCPU\u001b[0m\u001b[38;2;255;255;255;48;2;140;162;82m    \u001b[0m\u001b[38;2;255;255;255;48;2;222;158;214m   \u001b[0m\u001b[38;2;255;255;255;48;2;222;158;214mCPU\u001b[0m\u001b[38;2;255;255;255;48;2;222;158;214m    \u001b[0m\u001b[38;2;0;0;0;48;2;231;203;148m   \u001b[0m\u001b[38;2;0;0;0;48;2;231;203;148mCPU\u001b[0m\u001b[38;2;0;0;0;48;2;231;203;148m    \u001b[0m\u001b[38;2;255;255;255;48;2;107;110;207m   \u001b[0m\u001b[38;2;255;255;255;48;2;107;110;207mCPU\u001b[0m\u001b[38;2;255;255;255;48;2;107;110;207m    \u001b[0m\u001b[38;2;255;255;255;48;2;165;81;148m   \u001b[0m\u001b[38;2;255;255;255;48;2;165;81;148mCPU\u001b[0m\u001b[38;2;255;255;255;48;2;165;81;148m    \u001b[0m\u001b[38;2;255;255;255;48;2;140;109;49m   \u001b[0m\u001b[38;2;255;255;255;48;2;140;109;49mCPU\u001b[0m\u001b[38;2;255;255;255;48;2;140;109;49m    \u001b[0m\n",
              "\u001b[38;2;255;255;255;48;2;57;59;121m   \u001b[0m\u001b[38;2;255;255;255;48;2;57;59;121m0  \u001b[0m\u001b[38;2;255;255;255;48;2;57;59;121m    \u001b[0m\u001b[38;2;255;255;255;48;2;214;97;107m   \u001b[0m\u001b[38;2;255;255;255;48;2;214;97;107m1  \u001b[0m\u001b[38;2;255;255;255;48;2;214;97;107m    \u001b[0m\u001b[38;2;255;255;255;48;2;140;162;82m   \u001b[0m\u001b[38;2;255;255;255;48;2;140;162;82m2  \u001b[0m\u001b[38;2;255;255;255;48;2;140;162;82m    \u001b[0m\u001b[38;2;255;255;255;48;2;222;158;214m   \u001b[0m\u001b[38;2;255;255;255;48;2;222;158;214m3  \u001b[0m\u001b[38;2;255;255;255;48;2;222;158;214m    \u001b[0m\u001b[38;2;0;0;0;48;2;231;203;148m   \u001b[0m\u001b[38;2;0;0;0;48;2;231;203;148m4  \u001b[0m\u001b[38;2;0;0;0;48;2;231;203;148m    \u001b[0m\u001b[38;2;255;255;255;48;2;107;110;207m   \u001b[0m\u001b[38;2;255;255;255;48;2;107;110;207m5  \u001b[0m\u001b[38;2;255;255;255;48;2;107;110;207m    \u001b[0m\u001b[38;2;255;255;255;48;2;165;81;148m   \u001b[0m\u001b[38;2;255;255;255;48;2;165;81;148m6  \u001b[0m\u001b[38;2;255;255;255;48;2;165;81;148m    \u001b[0m\u001b[38;2;255;255;255;48;2;140;109;49m   \u001b[0m\u001b[38;2;255;255;255;48;2;140;109;49m7  \u001b[0m\u001b[38;2;255;255;255;48;2;140;109;49m    \u001b[0m\n",
              "\u001b[38;2;255;255;255;48;2;57;59;121m          \u001b[0m\u001b[38;2;255;255;255;48;2;214;97;107m          \u001b[0m\u001b[38;2;255;255;255;48;2;140;162;82m          \u001b[0m\u001b[38;2;255;255;255;48;2;222;158;214m          \u001b[0m\u001b[38;2;0;0;0;48;2;231;203;148m          \u001b[0m\u001b[38;2;255;255;255;48;2;107;110;207m          \u001b[0m\u001b[38;2;255;255;255;48;2;165;81;148m          \u001b[0m\u001b[38;2;255;255;255;48;2;140;109;49m          \u001b[0m\n",
              "\u001b[38;2;255;255;255;48;2;57;59;121m          \u001b[0m\u001b[38;2;255;255;255;48;2;214;97;107m          \u001b[0m\u001b[38;2;255;255;255;48;2;140;162;82m          \u001b[0m\u001b[38;2;255;255;255;48;2;222;158;214m          \u001b[0m\u001b[38;2;0;0;0;48;2;231;203;148m          \u001b[0m\u001b[38;2;255;255;255;48;2;107;110;207m          \u001b[0m\u001b[38;2;255;255;255;48;2;165;81;148m          \u001b[0m\u001b[38;2;255;255;255;48;2;140;109;49m          \u001b[0m\n",
              "\u001b[38;2;255;255;255;48;2;57;59;121m          \u001b[0m\u001b[38;2;255;255;255;48;2;214;97;107m          \u001b[0m\u001b[38;2;255;255;255;48;2;140;162;82m          \u001b[0m\u001b[38;2;255;255;255;48;2;222;158;214m          \u001b[0m\u001b[38;2;0;0;0;48;2;231;203;148m          \u001b[0m\u001b[38;2;255;255;255;48;2;107;110;207m          \u001b[0m\u001b[38;2;255;255;255;48;2;165;81;148m          \u001b[0m\u001b[38;2;255;255;255;48;2;140;109;49m          \u001b[0m\n",
              "\u001b[38;2;255;255;255;48;2;57;59;121m          \u001b[0m\u001b[38;2;255;255;255;48;2;214;97;107m          \u001b[0m\u001b[38;2;255;255;255;48;2;140;162;82m          \u001b[0m\u001b[38;2;255;255;255;48;2;222;158;214m          \u001b[0m\u001b[38;2;0;0;0;48;2;231;203;148m          \u001b[0m\u001b[38;2;255;255;255;48;2;107;110;207m          \u001b[0m\u001b[38;2;255;255;255;48;2;165;81;148m          \u001b[0m\u001b[38;2;255;255;255;48;2;140;109;49m          \u001b[0m\n",
              "\u001b[38;2;255;255;255;48;2;57;59;121m          \u001b[0m\u001b[38;2;255;255;255;48;2;214;97;107m          \u001b[0m\u001b[38;2;255;255;255;48;2;140;162;82m          \u001b[0m\u001b[38;2;255;255;255;48;2;222;158;214m          \u001b[0m\u001b[38;2;0;0;0;48;2;231;203;148m          \u001b[0m\u001b[38;2;255;255;255;48;2;107;110;207m          \u001b[0m\u001b[38;2;255;255;255;48;2;165;81;148m          \u001b[0m\u001b[38;2;255;255;255;48;2;140;109;49m          \u001b[0m\n"
            ],
            "text/html": [
              "<pre style=\"white-space:pre;overflow-x:auto;line-height:normal;font-family:Menlo,'DejaVu Sans Mono',consolas,'Courier New',monospace\"><span style=\"color: #ffffff; text-decoration-color: #ffffff; background-color: #393b79\">          </span><span style=\"color: #ffffff; text-decoration-color: #ffffff; background-color: #d6616b\">          </span><span style=\"color: #ffffff; text-decoration-color: #ffffff; background-color: #8ca252\">          </span><span style=\"color: #ffffff; text-decoration-color: #ffffff; background-color: #de9ed6\">          </span><span style=\"color: #000000; text-decoration-color: #000000; background-color: #e7cb94\">          </span><span style=\"color: #ffffff; text-decoration-color: #ffffff; background-color: #6b6ecf\">          </span><span style=\"color: #ffffff; text-decoration-color: #ffffff; background-color: #a55194\">          </span><span style=\"color: #ffffff; text-decoration-color: #ffffff; background-color: #8c6d31\">          </span>\n",
              "<span style=\"color: #ffffff; text-decoration-color: #ffffff; background-color: #393b79\">          </span><span style=\"color: #ffffff; text-decoration-color: #ffffff; background-color: #d6616b\">          </span><span style=\"color: #ffffff; text-decoration-color: #ffffff; background-color: #8ca252\">          </span><span style=\"color: #ffffff; text-decoration-color: #ffffff; background-color: #de9ed6\">          </span><span style=\"color: #000000; text-decoration-color: #000000; background-color: #e7cb94\">          </span><span style=\"color: #ffffff; text-decoration-color: #ffffff; background-color: #6b6ecf\">          </span><span style=\"color: #ffffff; text-decoration-color: #ffffff; background-color: #a55194\">          </span><span style=\"color: #ffffff; text-decoration-color: #ffffff; background-color: #8c6d31\">          </span>\n",
              "<span style=\"color: #ffffff; text-decoration-color: #ffffff; background-color: #393b79\">          </span><span style=\"color: #ffffff; text-decoration-color: #ffffff; background-color: #d6616b\">          </span><span style=\"color: #ffffff; text-decoration-color: #ffffff; background-color: #8ca252\">          </span><span style=\"color: #ffffff; text-decoration-color: #ffffff; background-color: #de9ed6\">          </span><span style=\"color: #000000; text-decoration-color: #000000; background-color: #e7cb94\">          </span><span style=\"color: #ffffff; text-decoration-color: #ffffff; background-color: #6b6ecf\">          </span><span style=\"color: #ffffff; text-decoration-color: #ffffff; background-color: #a55194\">          </span><span style=\"color: #ffffff; text-decoration-color: #ffffff; background-color: #8c6d31\">          </span>\n",
              "<span style=\"color: #ffffff; text-decoration-color: #ffffff; background-color: #393b79\">          </span><span style=\"color: #ffffff; text-decoration-color: #ffffff; background-color: #d6616b\">          </span><span style=\"color: #ffffff; text-decoration-color: #ffffff; background-color: #8ca252\">          </span><span style=\"color: #ffffff; text-decoration-color: #ffffff; background-color: #de9ed6\">          </span><span style=\"color: #000000; text-decoration-color: #000000; background-color: #e7cb94\">          </span><span style=\"color: #ffffff; text-decoration-color: #ffffff; background-color: #6b6ecf\">          </span><span style=\"color: #ffffff; text-decoration-color: #ffffff; background-color: #a55194\">          </span><span style=\"color: #ffffff; text-decoration-color: #ffffff; background-color: #8c6d31\">          </span>\n",
              "<span style=\"color: #ffffff; text-decoration-color: #ffffff; background-color: #393b79\">          </span><span style=\"color: #ffffff; text-decoration-color: #ffffff; background-color: #d6616b\">          </span><span style=\"color: #ffffff; text-decoration-color: #ffffff; background-color: #8ca252\">          </span><span style=\"color: #ffffff; text-decoration-color: #ffffff; background-color: #de9ed6\">          </span><span style=\"color: #000000; text-decoration-color: #000000; background-color: #e7cb94\">          </span><span style=\"color: #ffffff; text-decoration-color: #ffffff; background-color: #6b6ecf\">          </span><span style=\"color: #ffffff; text-decoration-color: #ffffff; background-color: #a55194\">          </span><span style=\"color: #ffffff; text-decoration-color: #ffffff; background-color: #8c6d31\">          </span>\n",
              "<span style=\"color: #ffffff; text-decoration-color: #ffffff; background-color: #393b79\">   CPU    </span><span style=\"color: #ffffff; text-decoration-color: #ffffff; background-color: #d6616b\">   CPU    </span><span style=\"color: #ffffff; text-decoration-color: #ffffff; background-color: #8ca252\">   CPU    </span><span style=\"color: #ffffff; text-decoration-color: #ffffff; background-color: #de9ed6\">   CPU    </span><span style=\"color: #000000; text-decoration-color: #000000; background-color: #e7cb94\">   CPU    </span><span style=\"color: #ffffff; text-decoration-color: #ffffff; background-color: #6b6ecf\">   CPU    </span><span style=\"color: #ffffff; text-decoration-color: #ffffff; background-color: #a55194\">   CPU    </span><span style=\"color: #ffffff; text-decoration-color: #ffffff; background-color: #8c6d31\">   CPU    </span>\n",
              "<span style=\"color: #ffffff; text-decoration-color: #ffffff; background-color: #393b79\">   0      </span><span style=\"color: #ffffff; text-decoration-color: #ffffff; background-color: #d6616b\">   1      </span><span style=\"color: #ffffff; text-decoration-color: #ffffff; background-color: #8ca252\">   2      </span><span style=\"color: #ffffff; text-decoration-color: #ffffff; background-color: #de9ed6\">   3      </span><span style=\"color: #000000; text-decoration-color: #000000; background-color: #e7cb94\">   4      </span><span style=\"color: #ffffff; text-decoration-color: #ffffff; background-color: #6b6ecf\">   5      </span><span style=\"color: #ffffff; text-decoration-color: #ffffff; background-color: #a55194\">   6      </span><span style=\"color: #ffffff; text-decoration-color: #ffffff; background-color: #8c6d31\">   7      </span>\n",
              "<span style=\"color: #ffffff; text-decoration-color: #ffffff; background-color: #393b79\">          </span><span style=\"color: #ffffff; text-decoration-color: #ffffff; background-color: #d6616b\">          </span><span style=\"color: #ffffff; text-decoration-color: #ffffff; background-color: #8ca252\">          </span><span style=\"color: #ffffff; text-decoration-color: #ffffff; background-color: #de9ed6\">          </span><span style=\"color: #000000; text-decoration-color: #000000; background-color: #e7cb94\">          </span><span style=\"color: #ffffff; text-decoration-color: #ffffff; background-color: #6b6ecf\">          </span><span style=\"color: #ffffff; text-decoration-color: #ffffff; background-color: #a55194\">          </span><span style=\"color: #ffffff; text-decoration-color: #ffffff; background-color: #8c6d31\">          </span>\n",
              "<span style=\"color: #ffffff; text-decoration-color: #ffffff; background-color: #393b79\">          </span><span style=\"color: #ffffff; text-decoration-color: #ffffff; background-color: #d6616b\">          </span><span style=\"color: #ffffff; text-decoration-color: #ffffff; background-color: #8ca252\">          </span><span style=\"color: #ffffff; text-decoration-color: #ffffff; background-color: #de9ed6\">          </span><span style=\"color: #000000; text-decoration-color: #000000; background-color: #e7cb94\">          </span><span style=\"color: #ffffff; text-decoration-color: #ffffff; background-color: #6b6ecf\">          </span><span style=\"color: #ffffff; text-decoration-color: #ffffff; background-color: #a55194\">          </span><span style=\"color: #ffffff; text-decoration-color: #ffffff; background-color: #8c6d31\">          </span>\n",
              "<span style=\"color: #ffffff; text-decoration-color: #ffffff; background-color: #393b79\">          </span><span style=\"color: #ffffff; text-decoration-color: #ffffff; background-color: #d6616b\">          </span><span style=\"color: #ffffff; text-decoration-color: #ffffff; background-color: #8ca252\">          </span><span style=\"color: #ffffff; text-decoration-color: #ffffff; background-color: #de9ed6\">          </span><span style=\"color: #000000; text-decoration-color: #000000; background-color: #e7cb94\">          </span><span style=\"color: #ffffff; text-decoration-color: #ffffff; background-color: #6b6ecf\">          </span><span style=\"color: #ffffff; text-decoration-color: #ffffff; background-color: #a55194\">          </span><span style=\"color: #ffffff; text-decoration-color: #ffffff; background-color: #8c6d31\">          </span>\n",
              "<span style=\"color: #ffffff; text-decoration-color: #ffffff; background-color: #393b79\">          </span><span style=\"color: #ffffff; text-decoration-color: #ffffff; background-color: #d6616b\">          </span><span style=\"color: #ffffff; text-decoration-color: #ffffff; background-color: #8ca252\">          </span><span style=\"color: #ffffff; text-decoration-color: #ffffff; background-color: #de9ed6\">          </span><span style=\"color: #000000; text-decoration-color: #000000; background-color: #e7cb94\">          </span><span style=\"color: #ffffff; text-decoration-color: #ffffff; background-color: #6b6ecf\">          </span><span style=\"color: #ffffff; text-decoration-color: #ffffff; background-color: #a55194\">          </span><span style=\"color: #ffffff; text-decoration-color: #ffffff; background-color: #8c6d31\">          </span>\n",
              "<span style=\"color: #ffffff; text-decoration-color: #ffffff; background-color: #393b79\">          </span><span style=\"color: #ffffff; text-decoration-color: #ffffff; background-color: #d6616b\">          </span><span style=\"color: #ffffff; text-decoration-color: #ffffff; background-color: #8ca252\">          </span><span style=\"color: #ffffff; text-decoration-color: #ffffff; background-color: #de9ed6\">          </span><span style=\"color: #000000; text-decoration-color: #000000; background-color: #e7cb94\">          </span><span style=\"color: #ffffff; text-decoration-color: #ffffff; background-color: #6b6ecf\">          </span><span style=\"color: #ffffff; text-decoration-color: #ffffff; background-color: #a55194\">          </span><span style=\"color: #ffffff; text-decoration-color: #ffffff; background-color: #8c6d31\">          </span>\n",
              "</pre>\n"
            ]
          },
          "metadata": {}
        },
        {
          "output_type": "stream",
          "name": "stdout",
          "text": [
            "y\n"
          ]
        },
        {
          "output_type": "display_data",
          "data": {
            "text/plain": [
              "\u001b[38;2;255;255;255;48;2;57;59;121m          \u001b[0m\u001b[38;2;255;255;255;48;2;214;97;107m          \u001b[0m\u001b[38;2;255;255;255;48;2;140;162;82m          \u001b[0m\u001b[38;2;255;255;255;48;2;222;158;214m          \u001b[0m\u001b[38;2;0;0;0;48;2;231;203;148m          \u001b[0m\u001b[38;2;255;255;255;48;2;107;110;207m          \u001b[0m\u001b[38;2;255;255;255;48;2;165;81;148m          \u001b[0m\u001b[38;2;255;255;255;48;2;140;109;49m          \u001b[0m\n",
              "\u001b[38;2;255;255;255;48;2;57;59;121m          \u001b[0m\u001b[38;2;255;255;255;48;2;214;97;107m          \u001b[0m\u001b[38;2;255;255;255;48;2;140;162;82m          \u001b[0m\u001b[38;2;255;255;255;48;2;222;158;214m          \u001b[0m\u001b[38;2;0;0;0;48;2;231;203;148m          \u001b[0m\u001b[38;2;255;255;255;48;2;107;110;207m          \u001b[0m\u001b[38;2;255;255;255;48;2;165;81;148m          \u001b[0m\u001b[38;2;255;255;255;48;2;140;109;49m          \u001b[0m\n",
              "\u001b[38;2;255;255;255;48;2;57;59;121m          \u001b[0m\u001b[38;2;255;255;255;48;2;214;97;107m          \u001b[0m\u001b[38;2;255;255;255;48;2;140;162;82m          \u001b[0m\u001b[38;2;255;255;255;48;2;222;158;214m          \u001b[0m\u001b[38;2;0;0;0;48;2;231;203;148m          \u001b[0m\u001b[38;2;255;255;255;48;2;107;110;207m          \u001b[0m\u001b[38;2;255;255;255;48;2;165;81;148m          \u001b[0m\u001b[38;2;255;255;255;48;2;140;109;49m          \u001b[0m\n",
              "\u001b[38;2;255;255;255;48;2;57;59;121m          \u001b[0m\u001b[38;2;255;255;255;48;2;214;97;107m          \u001b[0m\u001b[38;2;255;255;255;48;2;140;162;82m          \u001b[0m\u001b[38;2;255;255;255;48;2;222;158;214m          \u001b[0m\u001b[38;2;0;0;0;48;2;231;203;148m          \u001b[0m\u001b[38;2;255;255;255;48;2;107;110;207m          \u001b[0m\u001b[38;2;255;255;255;48;2;165;81;148m          \u001b[0m\u001b[38;2;255;255;255;48;2;140;109;49m          \u001b[0m\n",
              "\u001b[38;2;255;255;255;48;2;57;59;121m          \u001b[0m\u001b[38;2;255;255;255;48;2;214;97;107m          \u001b[0m\u001b[38;2;255;255;255;48;2;140;162;82m          \u001b[0m\u001b[38;2;255;255;255;48;2;222;158;214m          \u001b[0m\u001b[38;2;0;0;0;48;2;231;203;148m          \u001b[0m\u001b[38;2;255;255;255;48;2;107;110;207m          \u001b[0m\u001b[38;2;255;255;255;48;2;165;81;148m          \u001b[0m\u001b[38;2;255;255;255;48;2;140;109;49m          \u001b[0m\n",
              "\u001b[38;2;255;255;255;48;2;57;59;121m          \u001b[0m\u001b[38;2;255;255;255;48;2;214;97;107m          \u001b[0m\u001b[38;2;255;255;255;48;2;140;162;82m          \u001b[0m\u001b[38;2;255;255;255;48;2;222;158;214m          \u001b[0m\u001b[38;2;0;0;0;48;2;231;203;148m          \u001b[0m\u001b[38;2;255;255;255;48;2;107;110;207m          \u001b[0m\u001b[38;2;255;255;255;48;2;165;81;148m          \u001b[0m\u001b[38;2;255;255;255;48;2;140;109;49m          \u001b[0m\n",
              "\u001b[38;2;255;255;255;48;2;57;59;121m          \u001b[0m\u001b[38;2;255;255;255;48;2;214;97;107m          \u001b[0m\u001b[38;2;255;255;255;48;2;140;162;82m          \u001b[0m\u001b[38;2;255;255;255;48;2;222;158;214m          \u001b[0m\u001b[38;2;0;0;0;48;2;231;203;148m          \u001b[0m\u001b[38;2;255;255;255;48;2;107;110;207m          \u001b[0m\u001b[38;2;255;255;255;48;2;165;81;148m          \u001b[0m\u001b[38;2;255;255;255;48;2;140;109;49m          \u001b[0m\n",
              "\u001b[38;2;255;255;255;48;2;57;59;121m          \u001b[0m\u001b[38;2;255;255;255;48;2;214;97;107m          \u001b[0m\u001b[38;2;255;255;255;48;2;140;162;82m          \u001b[0m\u001b[38;2;255;255;255;48;2;222;158;214m          \u001b[0m\u001b[38;2;0;0;0;48;2;231;203;148m          \u001b[0m\u001b[38;2;255;255;255;48;2;107;110;207m          \u001b[0m\u001b[38;2;255;255;255;48;2;165;81;148m          \u001b[0m\u001b[38;2;255;255;255;48;2;140;109;49m          \u001b[0m\n",
              "\u001b[38;2;255;255;255;48;2;57;59;121m          \u001b[0m\u001b[38;2;255;255;255;48;2;214;97;107m          \u001b[0m\u001b[38;2;255;255;255;48;2;140;162;82m          \u001b[0m\u001b[38;2;255;255;255;48;2;222;158;214m          \u001b[0m\u001b[38;2;0;0;0;48;2;231;203;148m          \u001b[0m\u001b[38;2;255;255;255;48;2;107;110;207m          \u001b[0m\u001b[38;2;255;255;255;48;2;165;81;148m          \u001b[0m\u001b[38;2;255;255;255;48;2;140;109;49m          \u001b[0m\n",
              "\u001b[38;2;255;255;255;48;2;57;59;121m          \u001b[0m\u001b[38;2;255;255;255;48;2;214;97;107m          \u001b[0m\u001b[38;2;255;255;255;48;2;140;162;82m          \u001b[0m\u001b[38;2;255;255;255;48;2;222;158;214m          \u001b[0m\u001b[38;2;0;0;0;48;2;231;203;148m          \u001b[0m\u001b[38;2;255;255;255;48;2;107;110;207m          \u001b[0m\u001b[38;2;255;255;255;48;2;165;81;148m          \u001b[0m\u001b[38;2;255;255;255;48;2;140;109;49m          \u001b[0m\n"
            ],
            "text/html": [
              "<pre style=\"white-space:pre;overflow-x:auto;line-height:normal;font-family:Menlo,'DejaVu Sans Mono',consolas,'Courier New',monospace\"><span style=\"color: #ffffff; text-decoration-color: #ffffff; background-color: #393b79\">          </span><span style=\"color: #ffffff; text-decoration-color: #ffffff; background-color: #d6616b\">          </span><span style=\"color: #ffffff; text-decoration-color: #ffffff; background-color: #8ca252\">          </span><span style=\"color: #ffffff; text-decoration-color: #ffffff; background-color: #de9ed6\">          </span><span style=\"color: #000000; text-decoration-color: #000000; background-color: #e7cb94\">          </span><span style=\"color: #ffffff; text-decoration-color: #ffffff; background-color: #6b6ecf\">          </span><span style=\"color: #ffffff; text-decoration-color: #ffffff; background-color: #a55194\">          </span><span style=\"color: #ffffff; text-decoration-color: #ffffff; background-color: #8c6d31\">          </span>\n",
              "<span style=\"color: #ffffff; text-decoration-color: #ffffff; background-color: #393b79\">          </span><span style=\"color: #ffffff; text-decoration-color: #ffffff; background-color: #d6616b\">          </span><span style=\"color: #ffffff; text-decoration-color: #ffffff; background-color: #8ca252\">          </span><span style=\"color: #ffffff; text-decoration-color: #ffffff; background-color: #de9ed6\">          </span><span style=\"color: #000000; text-decoration-color: #000000; background-color: #e7cb94\">          </span><span style=\"color: #ffffff; text-decoration-color: #ffffff; background-color: #6b6ecf\">          </span><span style=\"color: #ffffff; text-decoration-color: #ffffff; background-color: #a55194\">          </span><span style=\"color: #ffffff; text-decoration-color: #ffffff; background-color: #8c6d31\">          </span>\n",
              "<span style=\"color: #ffffff; text-decoration-color: #ffffff; background-color: #393b79\">          </span><span style=\"color: #ffffff; text-decoration-color: #ffffff; background-color: #d6616b\">          </span><span style=\"color: #ffffff; text-decoration-color: #ffffff; background-color: #8ca252\">          </span><span style=\"color: #ffffff; text-decoration-color: #ffffff; background-color: #de9ed6\">          </span><span style=\"color: #000000; text-decoration-color: #000000; background-color: #e7cb94\">          </span><span style=\"color: #ffffff; text-decoration-color: #ffffff; background-color: #6b6ecf\">          </span><span style=\"color: #ffffff; text-decoration-color: #ffffff; background-color: #a55194\">          </span><span style=\"color: #ffffff; text-decoration-color: #ffffff; background-color: #8c6d31\">          </span>\n",
              "<span style=\"color: #ffffff; text-decoration-color: #ffffff; background-color: #393b79\">          </span><span style=\"color: #ffffff; text-decoration-color: #ffffff; background-color: #d6616b\">          </span><span style=\"color: #ffffff; text-decoration-color: #ffffff; background-color: #8ca252\">          </span><span style=\"color: #ffffff; text-decoration-color: #ffffff; background-color: #de9ed6\">          </span><span style=\"color: #000000; text-decoration-color: #000000; background-color: #e7cb94\">          </span><span style=\"color: #ffffff; text-decoration-color: #ffffff; background-color: #6b6ecf\">          </span><span style=\"color: #ffffff; text-decoration-color: #ffffff; background-color: #a55194\">          </span><span style=\"color: #ffffff; text-decoration-color: #ffffff; background-color: #8c6d31\">          </span>\n",
              "<span style=\"color: #ffffff; text-decoration-color: #ffffff; background-color: #393b79\">          </span><span style=\"color: #ffffff; text-decoration-color: #ffffff; background-color: #d6616b\">          </span><span style=\"color: #ffffff; text-decoration-color: #ffffff; background-color: #8ca252\">          </span><span style=\"color: #ffffff; text-decoration-color: #ffffff; background-color: #de9ed6\">          </span><span style=\"color: #000000; text-decoration-color: #000000; background-color: #e7cb94\">          </span><span style=\"color: #ffffff; text-decoration-color: #ffffff; background-color: #6b6ecf\">          </span><span style=\"color: #ffffff; text-decoration-color: #ffffff; background-color: #a55194\">          </span><span style=\"color: #ffffff; text-decoration-color: #ffffff; background-color: #8c6d31\">          </span>\n",
              "<span style=\"color: #ffffff; text-decoration-color: #ffffff; background-color: #393b79\">          </span><span style=\"color: #ffffff; text-decoration-color: #ffffff; background-color: #d6616b\">          </span><span style=\"color: #ffffff; text-decoration-color: #ffffff; background-color: #8ca252\">          </span><span style=\"color: #ffffff; text-decoration-color: #ffffff; background-color: #de9ed6\">          </span><span style=\"color: #000000; text-decoration-color: #000000; background-color: #e7cb94\">          </span><span style=\"color: #ffffff; text-decoration-color: #ffffff; background-color: #6b6ecf\">          </span><span style=\"color: #ffffff; text-decoration-color: #ffffff; background-color: #a55194\">          </span><span style=\"color: #ffffff; text-decoration-color: #ffffff; background-color: #8c6d31\">          </span>\n",
              "<span style=\"color: #ffffff; text-decoration-color: #ffffff; background-color: #393b79\">          </span><span style=\"color: #ffffff; text-decoration-color: #ffffff; background-color: #d6616b\">          </span><span style=\"color: #ffffff; text-decoration-color: #ffffff; background-color: #8ca252\">          </span><span style=\"color: #ffffff; text-decoration-color: #ffffff; background-color: #de9ed6\">          </span><span style=\"color: #000000; text-decoration-color: #000000; background-color: #e7cb94\">          </span><span style=\"color: #ffffff; text-decoration-color: #ffffff; background-color: #6b6ecf\">          </span><span style=\"color: #ffffff; text-decoration-color: #ffffff; background-color: #a55194\">          </span><span style=\"color: #ffffff; text-decoration-color: #ffffff; background-color: #8c6d31\">          </span>\n",
              "<span style=\"color: #ffffff; text-decoration-color: #ffffff; background-color: #393b79\">          </span><span style=\"color: #ffffff; text-decoration-color: #ffffff; background-color: #d6616b\">          </span><span style=\"color: #ffffff; text-decoration-color: #ffffff; background-color: #8ca252\">          </span><span style=\"color: #ffffff; text-decoration-color: #ffffff; background-color: #de9ed6\">          </span><span style=\"color: #000000; text-decoration-color: #000000; background-color: #e7cb94\">          </span><span style=\"color: #ffffff; text-decoration-color: #ffffff; background-color: #6b6ecf\">          </span><span style=\"color: #ffffff; text-decoration-color: #ffffff; background-color: #a55194\">          </span><span style=\"color: #ffffff; text-decoration-color: #ffffff; background-color: #8c6d31\">          </span>\n",
              "<span style=\"color: #ffffff; text-decoration-color: #ffffff; background-color: #393b79\">          </span><span style=\"color: #ffffff; text-decoration-color: #ffffff; background-color: #d6616b\">          </span><span style=\"color: #ffffff; text-decoration-color: #ffffff; background-color: #8ca252\">          </span><span style=\"color: #ffffff; text-decoration-color: #ffffff; background-color: #de9ed6\">          </span><span style=\"color: #000000; text-decoration-color: #000000; background-color: #e7cb94\">          </span><span style=\"color: #ffffff; text-decoration-color: #ffffff; background-color: #6b6ecf\">          </span><span style=\"color: #ffffff; text-decoration-color: #ffffff; background-color: #a55194\">          </span><span style=\"color: #ffffff; text-decoration-color: #ffffff; background-color: #8c6d31\">          </span>\n",
              "<span style=\"color: #ffffff; text-decoration-color: #ffffff; background-color: #393b79\">          </span><span style=\"color: #ffffff; text-decoration-color: #ffffff; background-color: #d6616b\">          </span><span style=\"color: #ffffff; text-decoration-color: #ffffff; background-color: #8ca252\">          </span><span style=\"color: #ffffff; text-decoration-color: #ffffff; background-color: #de9ed6\">          </span><span style=\"color: #000000; text-decoration-color: #000000; background-color: #e7cb94\">          </span><span style=\"color: #ffffff; text-decoration-color: #ffffff; background-color: #6b6ecf\">          </span><span style=\"color: #ffffff; text-decoration-color: #ffffff; background-color: #a55194\">          </span><span style=\"color: #ffffff; text-decoration-color: #ffffff; background-color: #8c6d31\">          </span>\n",
              "</pre>\n"
            ]
          },
          "metadata": {}
        },
        {
          "output_type": "stream",
          "name": "stdout",
          "text": [
            "w2\n"
          ]
        },
        {
          "output_type": "display_data",
          "data": {
            "text/plain": [
              "\u001b[38;2;255;255;255;48;2;57;59;121m  \u001b[0m\u001b[38;2;255;255;255;48;2;57;59;121mCPU 0\u001b[0m\u001b[38;2;255;255;255;48;2;57;59;121m  \u001b[0m\n",
              "\u001b[38;2;255;255;255;48;2;57;59;121m         \u001b[0m\n",
              "\u001b[38;2;255;255;255;48;2;214;97;107m  \u001b[0m\u001b[38;2;255;255;255;48;2;214;97;107mCPU 1\u001b[0m\u001b[38;2;255;255;255;48;2;214;97;107m  \u001b[0m\n",
              "\u001b[38;2;255;255;255;48;2;214;97;107m         \u001b[0m\n",
              "\u001b[38;2;255;255;255;48;2;140;162;82m  \u001b[0m\u001b[38;2;255;255;255;48;2;140;162;82mCPU 2\u001b[0m\u001b[38;2;255;255;255;48;2;140;162;82m  \u001b[0m\n",
              "\u001b[38;2;255;255;255;48;2;140;162;82m         \u001b[0m\n",
              "\u001b[38;2;255;255;255;48;2;222;158;214m  \u001b[0m\u001b[38;2;255;255;255;48;2;222;158;214mCPU 3\u001b[0m\u001b[38;2;255;255;255;48;2;222;158;214m  \u001b[0m\n",
              "\u001b[38;2;255;255;255;48;2;222;158;214m         \u001b[0m\n",
              "\u001b[38;2;0;0;0;48;2;231;203;148m  \u001b[0m\u001b[38;2;0;0;0;48;2;231;203;148mCPU 4\u001b[0m\u001b[38;2;0;0;0;48;2;231;203;148m  \u001b[0m\n",
              "\u001b[38;2;0;0;0;48;2;231;203;148m         \u001b[0m\n",
              "\u001b[38;2;255;255;255;48;2;107;110;207m  \u001b[0m\u001b[38;2;255;255;255;48;2;107;110;207mCPU 5\u001b[0m\u001b[38;2;255;255;255;48;2;107;110;207m  \u001b[0m\n",
              "\u001b[38;2;255;255;255;48;2;107;110;207m         \u001b[0m\n",
              "\u001b[38;2;255;255;255;48;2;165;81;148m  \u001b[0m\u001b[38;2;255;255;255;48;2;165;81;148mCPU 6\u001b[0m\u001b[38;2;255;255;255;48;2;165;81;148m  \u001b[0m\n",
              "\u001b[38;2;255;255;255;48;2;165;81;148m         \u001b[0m\n",
              "\u001b[38;2;255;255;255;48;2;140;109;49m  \u001b[0m\u001b[38;2;255;255;255;48;2;140;109;49mCPU 7\u001b[0m\u001b[38;2;255;255;255;48;2;140;109;49m  \u001b[0m\n",
              "\u001b[38;2;255;255;255;48;2;140;109;49m         \u001b[0m\n"
            ],
            "text/html": [
              "<pre style=\"white-space:pre;overflow-x:auto;line-height:normal;font-family:Menlo,'DejaVu Sans Mono',consolas,'Courier New',monospace\"><span style=\"color: #ffffff; text-decoration-color: #ffffff; background-color: #393b79\">  CPU 0  </span>\n",
              "<span style=\"color: #ffffff; text-decoration-color: #ffffff; background-color: #393b79\">         </span>\n",
              "<span style=\"color: #ffffff; text-decoration-color: #ffffff; background-color: #d6616b\">  CPU 1  </span>\n",
              "<span style=\"color: #ffffff; text-decoration-color: #ffffff; background-color: #d6616b\">         </span>\n",
              "<span style=\"color: #ffffff; text-decoration-color: #ffffff; background-color: #8ca252\">  CPU 2  </span>\n",
              "<span style=\"color: #ffffff; text-decoration-color: #ffffff; background-color: #8ca252\">         </span>\n",
              "<span style=\"color: #ffffff; text-decoration-color: #ffffff; background-color: #de9ed6\">  CPU 3  </span>\n",
              "<span style=\"color: #ffffff; text-decoration-color: #ffffff; background-color: #de9ed6\">         </span>\n",
              "<span style=\"color: #000000; text-decoration-color: #000000; background-color: #e7cb94\">  CPU 4  </span>\n",
              "<span style=\"color: #000000; text-decoration-color: #000000; background-color: #e7cb94\">         </span>\n",
              "<span style=\"color: #ffffff; text-decoration-color: #ffffff; background-color: #6b6ecf\">  CPU 5  </span>\n",
              "<span style=\"color: #ffffff; text-decoration-color: #ffffff; background-color: #6b6ecf\">         </span>\n",
              "<span style=\"color: #ffffff; text-decoration-color: #ffffff; background-color: #a55194\">  CPU 6  </span>\n",
              "<span style=\"color: #ffffff; text-decoration-color: #ffffff; background-color: #a55194\">         </span>\n",
              "<span style=\"color: #ffffff; text-decoration-color: #ffffff; background-color: #8c6d31\">  CPU 7  </span>\n",
              "<span style=\"color: #ffffff; text-decoration-color: #ffffff; background-color: #8c6d31\">         </span>\n",
              "</pre>\n"
            ]
          },
          "metadata": {}
        },
        {
          "output_type": "stream",
          "name": "stdout",
          "text": [
            "z\n"
          ]
        },
        {
          "output_type": "display_data",
          "data": {
            "text/plain": [
              "\u001b[38;2;255;255;255;48;2;57;59;121m                                                  \u001b[0m\n",
              "\u001b[38;2;255;255;255;48;2;57;59;121m                                                  \u001b[0m\n",
              "\u001b[38;2;255;255;255;48;2;57;59;121m                                                  \u001b[0m\n",
              "\u001b[38;2;255;255;255;48;2;57;59;121m                                                  \u001b[0m\n",
              "\u001b[38;2;255;255;255;48;2;57;59;121m                                                  \u001b[0m\n",
              "\u001b[38;2;255;255;255;48;2;57;59;121m               \u001b[0m\u001b[38;2;255;255;255;48;2;57;59;121mCPU 0,1,2,3,4,5,6,7\u001b[0m\u001b[38;2;255;255;255;48;2;57;59;121m                \u001b[0m\n",
              "\u001b[38;2;255;255;255;48;2;57;59;121m                                                  \u001b[0m\n",
              "\u001b[38;2;255;255;255;48;2;57;59;121m                                                  \u001b[0m\n",
              "\u001b[38;2;255;255;255;48;2;57;59;121m                                                  \u001b[0m\n",
              "\u001b[38;2;255;255;255;48;2;57;59;121m                                                  \u001b[0m\n",
              "\u001b[38;2;255;255;255;48;2;57;59;121m                                                  \u001b[0m\n"
            ],
            "text/html": [
              "<pre style=\"white-space:pre;overflow-x:auto;line-height:normal;font-family:Menlo,'DejaVu Sans Mono',consolas,'Courier New',monospace\"><span style=\"color: #ffffff; text-decoration-color: #ffffff; background-color: #393b79\">                                                  </span>\n",
              "<span style=\"color: #ffffff; text-decoration-color: #ffffff; background-color: #393b79\">                                                  </span>\n",
              "<span style=\"color: #ffffff; text-decoration-color: #ffffff; background-color: #393b79\">                                                  </span>\n",
              "<span style=\"color: #ffffff; text-decoration-color: #ffffff; background-color: #393b79\">                                                  </span>\n",
              "<span style=\"color: #ffffff; text-decoration-color: #ffffff; background-color: #393b79\">                                                  </span>\n",
              "<span style=\"color: #ffffff; text-decoration-color: #ffffff; background-color: #393b79\">               CPU 0,1,2,3,4,5,6,7                </span>\n",
              "<span style=\"color: #ffffff; text-decoration-color: #ffffff; background-color: #393b79\">                                                  </span>\n",
              "<span style=\"color: #ffffff; text-decoration-color: #ffffff; background-color: #393b79\">                                                  </span>\n",
              "<span style=\"color: #ffffff; text-decoration-color: #ffffff; background-color: #393b79\">                                                  </span>\n",
              "<span style=\"color: #ffffff; text-decoration-color: #ffffff; background-color: #393b79\">                                                  </span>\n",
              "<span style=\"color: #ffffff; text-decoration-color: #ffffff; background-color: #393b79\">                                                  </span>\n",
              "</pre>\n"
            ]
          },
          "metadata": {}
        },
        {
          "output_type": "stream",
          "name": "stdout",
          "text": [
            "\n",
            "Visualize final sharding\n",
            "params\n"
          ]
        },
        {
          "output_type": "display_data",
          "data": {
            "text/plain": [
              "\u001b[38;2;255;255;255;48;2;57;59;121m          \u001b[0m\u001b[38;2;255;255;255;48;2;214;97;107m          \u001b[0m\u001b[38;2;255;255;255;48;2;140;162;82m          \u001b[0m\u001b[38;2;255;255;255;48;2;222;158;214m          \u001b[0m\u001b[38;2;0;0;0;48;2;231;203;148m          \u001b[0m\u001b[38;2;255;255;255;48;2;107;110;207m          \u001b[0m\u001b[38;2;255;255;255;48;2;165;81;148m          \u001b[0m\u001b[38;2;255;255;255;48;2;140;109;49m          \u001b[0m\n",
              "\u001b[38;2;255;255;255;48;2;57;59;121m          \u001b[0m\u001b[38;2;255;255;255;48;2;214;97;107m          \u001b[0m\u001b[38;2;255;255;255;48;2;140;162;82m          \u001b[0m\u001b[38;2;255;255;255;48;2;222;158;214m          \u001b[0m\u001b[38;2;0;0;0;48;2;231;203;148m          \u001b[0m\u001b[38;2;255;255;255;48;2;107;110;207m          \u001b[0m\u001b[38;2;255;255;255;48;2;165;81;148m          \u001b[0m\u001b[38;2;255;255;255;48;2;140;109;49m          \u001b[0m\n",
              "\u001b[38;2;255;255;255;48;2;57;59;121m          \u001b[0m\u001b[38;2;255;255;255;48;2;214;97;107m          \u001b[0m\u001b[38;2;255;255;255;48;2;140;162;82m          \u001b[0m\u001b[38;2;255;255;255;48;2;222;158;214m          \u001b[0m\u001b[38;2;0;0;0;48;2;231;203;148m          \u001b[0m\u001b[38;2;255;255;255;48;2;107;110;207m          \u001b[0m\u001b[38;2;255;255;255;48;2;165;81;148m          \u001b[0m\u001b[38;2;255;255;255;48;2;140;109;49m          \u001b[0m\n",
              "\u001b[38;2;255;255;255;48;2;57;59;121m          \u001b[0m\u001b[38;2;255;255;255;48;2;214;97;107m          \u001b[0m\u001b[38;2;255;255;255;48;2;140;162;82m          \u001b[0m\u001b[38;2;255;255;255;48;2;222;158;214m          \u001b[0m\u001b[38;2;0;0;0;48;2;231;203;148m          \u001b[0m\u001b[38;2;255;255;255;48;2;107;110;207m          \u001b[0m\u001b[38;2;255;255;255;48;2;165;81;148m          \u001b[0m\u001b[38;2;255;255;255;48;2;140;109;49m          \u001b[0m\n",
              "\u001b[38;2;255;255;255;48;2;57;59;121m          \u001b[0m\u001b[38;2;255;255;255;48;2;214;97;107m          \u001b[0m\u001b[38;2;255;255;255;48;2;140;162;82m          \u001b[0m\u001b[38;2;255;255;255;48;2;222;158;214m          \u001b[0m\u001b[38;2;0;0;0;48;2;231;203;148m          \u001b[0m\u001b[38;2;255;255;255;48;2;107;110;207m          \u001b[0m\u001b[38;2;255;255;255;48;2;165;81;148m          \u001b[0m\u001b[38;2;255;255;255;48;2;140;109;49m          \u001b[0m\n",
              "\u001b[38;2;255;255;255;48;2;57;59;121m   \u001b[0m\u001b[38;2;255;255;255;48;2;57;59;121mCPU\u001b[0m\u001b[38;2;255;255;255;48;2;57;59;121m    \u001b[0m\u001b[38;2;255;255;255;48;2;214;97;107m   \u001b[0m\u001b[38;2;255;255;255;48;2;214;97;107mCPU\u001b[0m\u001b[38;2;255;255;255;48;2;214;97;107m    \u001b[0m\u001b[38;2;255;255;255;48;2;140;162;82m   \u001b[0m\u001b[38;2;255;255;255;48;2;140;162;82mCPU\u001b[0m\u001b[38;2;255;255;255;48;2;140;162;82m    \u001b[0m\u001b[38;2;255;255;255;48;2;222;158;214m   \u001b[0m\u001b[38;2;255;255;255;48;2;222;158;214mCPU\u001b[0m\u001b[38;2;255;255;255;48;2;222;158;214m    \u001b[0m\u001b[38;2;0;0;0;48;2;231;203;148m   \u001b[0m\u001b[38;2;0;0;0;48;2;231;203;148mCPU\u001b[0m\u001b[38;2;0;0;0;48;2;231;203;148m    \u001b[0m\u001b[38;2;255;255;255;48;2;107;110;207m   \u001b[0m\u001b[38;2;255;255;255;48;2;107;110;207mCPU\u001b[0m\u001b[38;2;255;255;255;48;2;107;110;207m    \u001b[0m\u001b[38;2;255;255;255;48;2;165;81;148m   \u001b[0m\u001b[38;2;255;255;255;48;2;165;81;148mCPU\u001b[0m\u001b[38;2;255;255;255;48;2;165;81;148m    \u001b[0m\u001b[38;2;255;255;255;48;2;140;109;49m   \u001b[0m\u001b[38;2;255;255;255;48;2;140;109;49mCPU\u001b[0m\u001b[38;2;255;255;255;48;2;140;109;49m    \u001b[0m\n",
              "\u001b[38;2;255;255;255;48;2;57;59;121m   \u001b[0m\u001b[38;2;255;255;255;48;2;57;59;121m0  \u001b[0m\u001b[38;2;255;255;255;48;2;57;59;121m    \u001b[0m\u001b[38;2;255;255;255;48;2;214;97;107m   \u001b[0m\u001b[38;2;255;255;255;48;2;214;97;107m1  \u001b[0m\u001b[38;2;255;255;255;48;2;214;97;107m    \u001b[0m\u001b[38;2;255;255;255;48;2;140;162;82m   \u001b[0m\u001b[38;2;255;255;255;48;2;140;162;82m2  \u001b[0m\u001b[38;2;255;255;255;48;2;140;162;82m    \u001b[0m\u001b[38;2;255;255;255;48;2;222;158;214m   \u001b[0m\u001b[38;2;255;255;255;48;2;222;158;214m3  \u001b[0m\u001b[38;2;255;255;255;48;2;222;158;214m    \u001b[0m\u001b[38;2;0;0;0;48;2;231;203;148m   \u001b[0m\u001b[38;2;0;0;0;48;2;231;203;148m4  \u001b[0m\u001b[38;2;0;0;0;48;2;231;203;148m    \u001b[0m\u001b[38;2;255;255;255;48;2;107;110;207m   \u001b[0m\u001b[38;2;255;255;255;48;2;107;110;207m5  \u001b[0m\u001b[38;2;255;255;255;48;2;107;110;207m    \u001b[0m\u001b[38;2;255;255;255;48;2;165;81;148m   \u001b[0m\u001b[38;2;255;255;255;48;2;165;81;148m6  \u001b[0m\u001b[38;2;255;255;255;48;2;165;81;148m    \u001b[0m\u001b[38;2;255;255;255;48;2;140;109;49m   \u001b[0m\u001b[38;2;255;255;255;48;2;140;109;49m7  \u001b[0m\u001b[38;2;255;255;255;48;2;140;109;49m    \u001b[0m\n",
              "\u001b[38;2;255;255;255;48;2;57;59;121m          \u001b[0m\u001b[38;2;255;255;255;48;2;214;97;107m          \u001b[0m\u001b[38;2;255;255;255;48;2;140;162;82m          \u001b[0m\u001b[38;2;255;255;255;48;2;222;158;214m          \u001b[0m\u001b[38;2;0;0;0;48;2;231;203;148m          \u001b[0m\u001b[38;2;255;255;255;48;2;107;110;207m          \u001b[0m\u001b[38;2;255;255;255;48;2;165;81;148m          \u001b[0m\u001b[38;2;255;255;255;48;2;140;109;49m          \u001b[0m\n",
              "\u001b[38;2;255;255;255;48;2;57;59;121m          \u001b[0m\u001b[38;2;255;255;255;48;2;214;97;107m          \u001b[0m\u001b[38;2;255;255;255;48;2;140;162;82m          \u001b[0m\u001b[38;2;255;255;255;48;2;222;158;214m          \u001b[0m\u001b[38;2;0;0;0;48;2;231;203;148m          \u001b[0m\u001b[38;2;255;255;255;48;2;107;110;207m          \u001b[0m\u001b[38;2;255;255;255;48;2;165;81;148m          \u001b[0m\u001b[38;2;255;255;255;48;2;140;109;49m          \u001b[0m\n",
              "\u001b[38;2;255;255;255;48;2;57;59;121m          \u001b[0m\u001b[38;2;255;255;255;48;2;214;97;107m          \u001b[0m\u001b[38;2;255;255;255;48;2;140;162;82m          \u001b[0m\u001b[38;2;255;255;255;48;2;222;158;214m          \u001b[0m\u001b[38;2;0;0;0;48;2;231;203;148m          \u001b[0m\u001b[38;2;255;255;255;48;2;107;110;207m          \u001b[0m\u001b[38;2;255;255;255;48;2;165;81;148m          \u001b[0m\u001b[38;2;255;255;255;48;2;140;109;49m          \u001b[0m\n",
              "\u001b[38;2;255;255;255;48;2;57;59;121m          \u001b[0m\u001b[38;2;255;255;255;48;2;214;97;107m          \u001b[0m\u001b[38;2;255;255;255;48;2;140;162;82m          \u001b[0m\u001b[38;2;255;255;255;48;2;222;158;214m          \u001b[0m\u001b[38;2;0;0;0;48;2;231;203;148m          \u001b[0m\u001b[38;2;255;255;255;48;2;107;110;207m          \u001b[0m\u001b[38;2;255;255;255;48;2;165;81;148m          \u001b[0m\u001b[38;2;255;255;255;48;2;140;109;49m          \u001b[0m\n",
              "\u001b[38;2;255;255;255;48;2;57;59;121m          \u001b[0m\u001b[38;2;255;255;255;48;2;214;97;107m          \u001b[0m\u001b[38;2;255;255;255;48;2;140;162;82m          \u001b[0m\u001b[38;2;255;255;255;48;2;222;158;214m          \u001b[0m\u001b[38;2;0;0;0;48;2;231;203;148m          \u001b[0m\u001b[38;2;255;255;255;48;2;107;110;207m          \u001b[0m\u001b[38;2;255;255;255;48;2;165;81;148m          \u001b[0m\u001b[38;2;255;255;255;48;2;140;109;49m          \u001b[0m\n"
            ],
            "text/html": [
              "<pre style=\"white-space:pre;overflow-x:auto;line-height:normal;font-family:Menlo,'DejaVu Sans Mono',consolas,'Courier New',monospace\"><span style=\"color: #ffffff; text-decoration-color: #ffffff; background-color: #393b79\">          </span><span style=\"color: #ffffff; text-decoration-color: #ffffff; background-color: #d6616b\">          </span><span style=\"color: #ffffff; text-decoration-color: #ffffff; background-color: #8ca252\">          </span><span style=\"color: #ffffff; text-decoration-color: #ffffff; background-color: #de9ed6\">          </span><span style=\"color: #000000; text-decoration-color: #000000; background-color: #e7cb94\">          </span><span style=\"color: #ffffff; text-decoration-color: #ffffff; background-color: #6b6ecf\">          </span><span style=\"color: #ffffff; text-decoration-color: #ffffff; background-color: #a55194\">          </span><span style=\"color: #ffffff; text-decoration-color: #ffffff; background-color: #8c6d31\">          </span>\n",
              "<span style=\"color: #ffffff; text-decoration-color: #ffffff; background-color: #393b79\">          </span><span style=\"color: #ffffff; text-decoration-color: #ffffff; background-color: #d6616b\">          </span><span style=\"color: #ffffff; text-decoration-color: #ffffff; background-color: #8ca252\">          </span><span style=\"color: #ffffff; text-decoration-color: #ffffff; background-color: #de9ed6\">          </span><span style=\"color: #000000; text-decoration-color: #000000; background-color: #e7cb94\">          </span><span style=\"color: #ffffff; text-decoration-color: #ffffff; background-color: #6b6ecf\">          </span><span style=\"color: #ffffff; text-decoration-color: #ffffff; background-color: #a55194\">          </span><span style=\"color: #ffffff; text-decoration-color: #ffffff; background-color: #8c6d31\">          </span>\n",
              "<span style=\"color: #ffffff; text-decoration-color: #ffffff; background-color: #393b79\">          </span><span style=\"color: #ffffff; text-decoration-color: #ffffff; background-color: #d6616b\">          </span><span style=\"color: #ffffff; text-decoration-color: #ffffff; background-color: #8ca252\">          </span><span style=\"color: #ffffff; text-decoration-color: #ffffff; background-color: #de9ed6\">          </span><span style=\"color: #000000; text-decoration-color: #000000; background-color: #e7cb94\">          </span><span style=\"color: #ffffff; text-decoration-color: #ffffff; background-color: #6b6ecf\">          </span><span style=\"color: #ffffff; text-decoration-color: #ffffff; background-color: #a55194\">          </span><span style=\"color: #ffffff; text-decoration-color: #ffffff; background-color: #8c6d31\">          </span>\n",
              "<span style=\"color: #ffffff; text-decoration-color: #ffffff; background-color: #393b79\">          </span><span style=\"color: #ffffff; text-decoration-color: #ffffff; background-color: #d6616b\">          </span><span style=\"color: #ffffff; text-decoration-color: #ffffff; background-color: #8ca252\">          </span><span style=\"color: #ffffff; text-decoration-color: #ffffff; background-color: #de9ed6\">          </span><span style=\"color: #000000; text-decoration-color: #000000; background-color: #e7cb94\">          </span><span style=\"color: #ffffff; text-decoration-color: #ffffff; background-color: #6b6ecf\">          </span><span style=\"color: #ffffff; text-decoration-color: #ffffff; background-color: #a55194\">          </span><span style=\"color: #ffffff; text-decoration-color: #ffffff; background-color: #8c6d31\">          </span>\n",
              "<span style=\"color: #ffffff; text-decoration-color: #ffffff; background-color: #393b79\">          </span><span style=\"color: #ffffff; text-decoration-color: #ffffff; background-color: #d6616b\">          </span><span style=\"color: #ffffff; text-decoration-color: #ffffff; background-color: #8ca252\">          </span><span style=\"color: #ffffff; text-decoration-color: #ffffff; background-color: #de9ed6\">          </span><span style=\"color: #000000; text-decoration-color: #000000; background-color: #e7cb94\">          </span><span style=\"color: #ffffff; text-decoration-color: #ffffff; background-color: #6b6ecf\">          </span><span style=\"color: #ffffff; text-decoration-color: #ffffff; background-color: #a55194\">          </span><span style=\"color: #ffffff; text-decoration-color: #ffffff; background-color: #8c6d31\">          </span>\n",
              "<span style=\"color: #ffffff; text-decoration-color: #ffffff; background-color: #393b79\">   CPU    </span><span style=\"color: #ffffff; text-decoration-color: #ffffff; background-color: #d6616b\">   CPU    </span><span style=\"color: #ffffff; text-decoration-color: #ffffff; background-color: #8ca252\">   CPU    </span><span style=\"color: #ffffff; text-decoration-color: #ffffff; background-color: #de9ed6\">   CPU    </span><span style=\"color: #000000; text-decoration-color: #000000; background-color: #e7cb94\">   CPU    </span><span style=\"color: #ffffff; text-decoration-color: #ffffff; background-color: #6b6ecf\">   CPU    </span><span style=\"color: #ffffff; text-decoration-color: #ffffff; background-color: #a55194\">   CPU    </span><span style=\"color: #ffffff; text-decoration-color: #ffffff; background-color: #8c6d31\">   CPU    </span>\n",
              "<span style=\"color: #ffffff; text-decoration-color: #ffffff; background-color: #393b79\">   0      </span><span style=\"color: #ffffff; text-decoration-color: #ffffff; background-color: #d6616b\">   1      </span><span style=\"color: #ffffff; text-decoration-color: #ffffff; background-color: #8ca252\">   2      </span><span style=\"color: #ffffff; text-decoration-color: #ffffff; background-color: #de9ed6\">   3      </span><span style=\"color: #000000; text-decoration-color: #000000; background-color: #e7cb94\">   4      </span><span style=\"color: #ffffff; text-decoration-color: #ffffff; background-color: #6b6ecf\">   5      </span><span style=\"color: #ffffff; text-decoration-color: #ffffff; background-color: #a55194\">   6      </span><span style=\"color: #ffffff; text-decoration-color: #ffffff; background-color: #8c6d31\">   7      </span>\n",
              "<span style=\"color: #ffffff; text-decoration-color: #ffffff; background-color: #393b79\">          </span><span style=\"color: #ffffff; text-decoration-color: #ffffff; background-color: #d6616b\">          </span><span style=\"color: #ffffff; text-decoration-color: #ffffff; background-color: #8ca252\">          </span><span style=\"color: #ffffff; text-decoration-color: #ffffff; background-color: #de9ed6\">          </span><span style=\"color: #000000; text-decoration-color: #000000; background-color: #e7cb94\">          </span><span style=\"color: #ffffff; text-decoration-color: #ffffff; background-color: #6b6ecf\">          </span><span style=\"color: #ffffff; text-decoration-color: #ffffff; background-color: #a55194\">          </span><span style=\"color: #ffffff; text-decoration-color: #ffffff; background-color: #8c6d31\">          </span>\n",
              "<span style=\"color: #ffffff; text-decoration-color: #ffffff; background-color: #393b79\">          </span><span style=\"color: #ffffff; text-decoration-color: #ffffff; background-color: #d6616b\">          </span><span style=\"color: #ffffff; text-decoration-color: #ffffff; background-color: #8ca252\">          </span><span style=\"color: #ffffff; text-decoration-color: #ffffff; background-color: #de9ed6\">          </span><span style=\"color: #000000; text-decoration-color: #000000; background-color: #e7cb94\">          </span><span style=\"color: #ffffff; text-decoration-color: #ffffff; background-color: #6b6ecf\">          </span><span style=\"color: #ffffff; text-decoration-color: #ffffff; background-color: #a55194\">          </span><span style=\"color: #ffffff; text-decoration-color: #ffffff; background-color: #8c6d31\">          </span>\n",
              "<span style=\"color: #ffffff; text-decoration-color: #ffffff; background-color: #393b79\">          </span><span style=\"color: #ffffff; text-decoration-color: #ffffff; background-color: #d6616b\">          </span><span style=\"color: #ffffff; text-decoration-color: #ffffff; background-color: #8ca252\">          </span><span style=\"color: #ffffff; text-decoration-color: #ffffff; background-color: #de9ed6\">          </span><span style=\"color: #000000; text-decoration-color: #000000; background-color: #e7cb94\">          </span><span style=\"color: #ffffff; text-decoration-color: #ffffff; background-color: #6b6ecf\">          </span><span style=\"color: #ffffff; text-decoration-color: #ffffff; background-color: #a55194\">          </span><span style=\"color: #ffffff; text-decoration-color: #ffffff; background-color: #8c6d31\">          </span>\n",
              "<span style=\"color: #ffffff; text-decoration-color: #ffffff; background-color: #393b79\">          </span><span style=\"color: #ffffff; text-decoration-color: #ffffff; background-color: #d6616b\">          </span><span style=\"color: #ffffff; text-decoration-color: #ffffff; background-color: #8ca252\">          </span><span style=\"color: #ffffff; text-decoration-color: #ffffff; background-color: #de9ed6\">          </span><span style=\"color: #000000; text-decoration-color: #000000; background-color: #e7cb94\">          </span><span style=\"color: #ffffff; text-decoration-color: #ffffff; background-color: #6b6ecf\">          </span><span style=\"color: #ffffff; text-decoration-color: #ffffff; background-color: #a55194\">          </span><span style=\"color: #ffffff; text-decoration-color: #ffffff; background-color: #8c6d31\">          </span>\n",
              "<span style=\"color: #ffffff; text-decoration-color: #ffffff; background-color: #393b79\">          </span><span style=\"color: #ffffff; text-decoration-color: #ffffff; background-color: #d6616b\">          </span><span style=\"color: #ffffff; text-decoration-color: #ffffff; background-color: #8ca252\">          </span><span style=\"color: #ffffff; text-decoration-color: #ffffff; background-color: #de9ed6\">          </span><span style=\"color: #000000; text-decoration-color: #000000; background-color: #e7cb94\">          </span><span style=\"color: #ffffff; text-decoration-color: #ffffff; background-color: #6b6ecf\">          </span><span style=\"color: #ffffff; text-decoration-color: #ffffff; background-color: #a55194\">          </span><span style=\"color: #ffffff; text-decoration-color: #ffffff; background-color: #8c6d31\">          </span>\n",
              "</pre>\n"
            ]
          },
          "metadata": {}
        },
        {
          "output_type": "stream",
          "name": "stdout",
          "text": [
            "opt_state\n"
          ]
        },
        {
          "output_type": "display_data",
          "data": {
            "text/plain": [
              "\u001b[38;2;255;255;255;48;2;57;59;121m          \u001b[0m\u001b[38;2;255;255;255;48;2;214;97;107m          \u001b[0m\u001b[38;2;255;255;255;48;2;140;162;82m          \u001b[0m\u001b[38;2;255;255;255;48;2;222;158;214m          \u001b[0m\u001b[38;2;0;0;0;48;2;231;203;148m          \u001b[0m\u001b[38;2;255;255;255;48;2;107;110;207m          \u001b[0m\u001b[38;2;255;255;255;48;2;165;81;148m          \u001b[0m\u001b[38;2;255;255;255;48;2;140;109;49m          \u001b[0m\n",
              "\u001b[38;2;255;255;255;48;2;57;59;121m          \u001b[0m\u001b[38;2;255;255;255;48;2;214;97;107m          \u001b[0m\u001b[38;2;255;255;255;48;2;140;162;82m          \u001b[0m\u001b[38;2;255;255;255;48;2;222;158;214m          \u001b[0m\u001b[38;2;0;0;0;48;2;231;203;148m          \u001b[0m\u001b[38;2;255;255;255;48;2;107;110;207m          \u001b[0m\u001b[38;2;255;255;255;48;2;165;81;148m          \u001b[0m\u001b[38;2;255;255;255;48;2;140;109;49m          \u001b[0m\n",
              "\u001b[38;2;255;255;255;48;2;57;59;121m          \u001b[0m\u001b[38;2;255;255;255;48;2;214;97;107m          \u001b[0m\u001b[38;2;255;255;255;48;2;140;162;82m          \u001b[0m\u001b[38;2;255;255;255;48;2;222;158;214m          \u001b[0m\u001b[38;2;0;0;0;48;2;231;203;148m          \u001b[0m\u001b[38;2;255;255;255;48;2;107;110;207m          \u001b[0m\u001b[38;2;255;255;255;48;2;165;81;148m          \u001b[0m\u001b[38;2;255;255;255;48;2;140;109;49m          \u001b[0m\n",
              "\u001b[38;2;255;255;255;48;2;57;59;121m          \u001b[0m\u001b[38;2;255;255;255;48;2;214;97;107m          \u001b[0m\u001b[38;2;255;255;255;48;2;140;162;82m          \u001b[0m\u001b[38;2;255;255;255;48;2;222;158;214m          \u001b[0m\u001b[38;2;0;0;0;48;2;231;203;148m          \u001b[0m\u001b[38;2;255;255;255;48;2;107;110;207m          \u001b[0m\u001b[38;2;255;255;255;48;2;165;81;148m          \u001b[0m\u001b[38;2;255;255;255;48;2;140;109;49m          \u001b[0m\n",
              "\u001b[38;2;255;255;255;48;2;57;59;121m          \u001b[0m\u001b[38;2;255;255;255;48;2;214;97;107m          \u001b[0m\u001b[38;2;255;255;255;48;2;140;162;82m          \u001b[0m\u001b[38;2;255;255;255;48;2;222;158;214m          \u001b[0m\u001b[38;2;0;0;0;48;2;231;203;148m          \u001b[0m\u001b[38;2;255;255;255;48;2;107;110;207m          \u001b[0m\u001b[38;2;255;255;255;48;2;165;81;148m          \u001b[0m\u001b[38;2;255;255;255;48;2;140;109;49m          \u001b[0m\n",
              "\u001b[38;2;255;255;255;48;2;57;59;121m   \u001b[0m\u001b[38;2;255;255;255;48;2;57;59;121mCPU\u001b[0m\u001b[38;2;255;255;255;48;2;57;59;121m    \u001b[0m\u001b[38;2;255;255;255;48;2;214;97;107m   \u001b[0m\u001b[38;2;255;255;255;48;2;214;97;107mCPU\u001b[0m\u001b[38;2;255;255;255;48;2;214;97;107m    \u001b[0m\u001b[38;2;255;255;255;48;2;140;162;82m   \u001b[0m\u001b[38;2;255;255;255;48;2;140;162;82mCPU\u001b[0m\u001b[38;2;255;255;255;48;2;140;162;82m    \u001b[0m\u001b[38;2;255;255;255;48;2;222;158;214m   \u001b[0m\u001b[38;2;255;255;255;48;2;222;158;214mCPU\u001b[0m\u001b[38;2;255;255;255;48;2;222;158;214m    \u001b[0m\u001b[38;2;0;0;0;48;2;231;203;148m   \u001b[0m\u001b[38;2;0;0;0;48;2;231;203;148mCPU\u001b[0m\u001b[38;2;0;0;0;48;2;231;203;148m    \u001b[0m\u001b[38;2;255;255;255;48;2;107;110;207m   \u001b[0m\u001b[38;2;255;255;255;48;2;107;110;207mCPU\u001b[0m\u001b[38;2;255;255;255;48;2;107;110;207m    \u001b[0m\u001b[38;2;255;255;255;48;2;165;81;148m   \u001b[0m\u001b[38;2;255;255;255;48;2;165;81;148mCPU\u001b[0m\u001b[38;2;255;255;255;48;2;165;81;148m    \u001b[0m\u001b[38;2;255;255;255;48;2;140;109;49m   \u001b[0m\u001b[38;2;255;255;255;48;2;140;109;49mCPU\u001b[0m\u001b[38;2;255;255;255;48;2;140;109;49m    \u001b[0m\n",
              "\u001b[38;2;255;255;255;48;2;57;59;121m   \u001b[0m\u001b[38;2;255;255;255;48;2;57;59;121m0  \u001b[0m\u001b[38;2;255;255;255;48;2;57;59;121m    \u001b[0m\u001b[38;2;255;255;255;48;2;214;97;107m   \u001b[0m\u001b[38;2;255;255;255;48;2;214;97;107m1  \u001b[0m\u001b[38;2;255;255;255;48;2;214;97;107m    \u001b[0m\u001b[38;2;255;255;255;48;2;140;162;82m   \u001b[0m\u001b[38;2;255;255;255;48;2;140;162;82m2  \u001b[0m\u001b[38;2;255;255;255;48;2;140;162;82m    \u001b[0m\u001b[38;2;255;255;255;48;2;222;158;214m   \u001b[0m\u001b[38;2;255;255;255;48;2;222;158;214m3  \u001b[0m\u001b[38;2;255;255;255;48;2;222;158;214m    \u001b[0m\u001b[38;2;0;0;0;48;2;231;203;148m   \u001b[0m\u001b[38;2;0;0;0;48;2;231;203;148m4  \u001b[0m\u001b[38;2;0;0;0;48;2;231;203;148m    \u001b[0m\u001b[38;2;255;255;255;48;2;107;110;207m   \u001b[0m\u001b[38;2;255;255;255;48;2;107;110;207m5  \u001b[0m\u001b[38;2;255;255;255;48;2;107;110;207m    \u001b[0m\u001b[38;2;255;255;255;48;2;165;81;148m   \u001b[0m\u001b[38;2;255;255;255;48;2;165;81;148m6  \u001b[0m\u001b[38;2;255;255;255;48;2;165;81;148m    \u001b[0m\u001b[38;2;255;255;255;48;2;140;109;49m   \u001b[0m\u001b[38;2;255;255;255;48;2;140;109;49m7  \u001b[0m\u001b[38;2;255;255;255;48;2;140;109;49m    \u001b[0m\n",
              "\u001b[38;2;255;255;255;48;2;57;59;121m          \u001b[0m\u001b[38;2;255;255;255;48;2;214;97;107m          \u001b[0m\u001b[38;2;255;255;255;48;2;140;162;82m          \u001b[0m\u001b[38;2;255;255;255;48;2;222;158;214m          \u001b[0m\u001b[38;2;0;0;0;48;2;231;203;148m          \u001b[0m\u001b[38;2;255;255;255;48;2;107;110;207m          \u001b[0m\u001b[38;2;255;255;255;48;2;165;81;148m          \u001b[0m\u001b[38;2;255;255;255;48;2;140;109;49m          \u001b[0m\n",
              "\u001b[38;2;255;255;255;48;2;57;59;121m          \u001b[0m\u001b[38;2;255;255;255;48;2;214;97;107m          \u001b[0m\u001b[38;2;255;255;255;48;2;140;162;82m          \u001b[0m\u001b[38;2;255;255;255;48;2;222;158;214m          \u001b[0m\u001b[38;2;0;0;0;48;2;231;203;148m          \u001b[0m\u001b[38;2;255;255;255;48;2;107;110;207m          \u001b[0m\u001b[38;2;255;255;255;48;2;165;81;148m          \u001b[0m\u001b[38;2;255;255;255;48;2;140;109;49m          \u001b[0m\n",
              "\u001b[38;2;255;255;255;48;2;57;59;121m          \u001b[0m\u001b[38;2;255;255;255;48;2;214;97;107m          \u001b[0m\u001b[38;2;255;255;255;48;2;140;162;82m          \u001b[0m\u001b[38;2;255;255;255;48;2;222;158;214m          \u001b[0m\u001b[38;2;0;0;0;48;2;231;203;148m          \u001b[0m\u001b[38;2;255;255;255;48;2;107;110;207m          \u001b[0m\u001b[38;2;255;255;255;48;2;165;81;148m          \u001b[0m\u001b[38;2;255;255;255;48;2;140;109;49m          \u001b[0m\n",
              "\u001b[38;2;255;255;255;48;2;57;59;121m          \u001b[0m\u001b[38;2;255;255;255;48;2;214;97;107m          \u001b[0m\u001b[38;2;255;255;255;48;2;140;162;82m          \u001b[0m\u001b[38;2;255;255;255;48;2;222;158;214m          \u001b[0m\u001b[38;2;0;0;0;48;2;231;203;148m          \u001b[0m\u001b[38;2;255;255;255;48;2;107;110;207m          \u001b[0m\u001b[38;2;255;255;255;48;2;165;81;148m          \u001b[0m\u001b[38;2;255;255;255;48;2;140;109;49m          \u001b[0m\n",
              "\u001b[38;2;255;255;255;48;2;57;59;121m          \u001b[0m\u001b[38;2;255;255;255;48;2;214;97;107m          \u001b[0m\u001b[38;2;255;255;255;48;2;140;162;82m          \u001b[0m\u001b[38;2;255;255;255;48;2;222;158;214m          \u001b[0m\u001b[38;2;0;0;0;48;2;231;203;148m          \u001b[0m\u001b[38;2;255;255;255;48;2;107;110;207m          \u001b[0m\u001b[38;2;255;255;255;48;2;165;81;148m          \u001b[0m\u001b[38;2;255;255;255;48;2;140;109;49m          \u001b[0m\n"
            ],
            "text/html": [
              "<pre style=\"white-space:pre;overflow-x:auto;line-height:normal;font-family:Menlo,'DejaVu Sans Mono',consolas,'Courier New',monospace\"><span style=\"color: #ffffff; text-decoration-color: #ffffff; background-color: #393b79\">          </span><span style=\"color: #ffffff; text-decoration-color: #ffffff; background-color: #d6616b\">          </span><span style=\"color: #ffffff; text-decoration-color: #ffffff; background-color: #8ca252\">          </span><span style=\"color: #ffffff; text-decoration-color: #ffffff; background-color: #de9ed6\">          </span><span style=\"color: #000000; text-decoration-color: #000000; background-color: #e7cb94\">          </span><span style=\"color: #ffffff; text-decoration-color: #ffffff; background-color: #6b6ecf\">          </span><span style=\"color: #ffffff; text-decoration-color: #ffffff; background-color: #a55194\">          </span><span style=\"color: #ffffff; text-decoration-color: #ffffff; background-color: #8c6d31\">          </span>\n",
              "<span style=\"color: #ffffff; text-decoration-color: #ffffff; background-color: #393b79\">          </span><span style=\"color: #ffffff; text-decoration-color: #ffffff; background-color: #d6616b\">          </span><span style=\"color: #ffffff; text-decoration-color: #ffffff; background-color: #8ca252\">          </span><span style=\"color: #ffffff; text-decoration-color: #ffffff; background-color: #de9ed6\">          </span><span style=\"color: #000000; text-decoration-color: #000000; background-color: #e7cb94\">          </span><span style=\"color: #ffffff; text-decoration-color: #ffffff; background-color: #6b6ecf\">          </span><span style=\"color: #ffffff; text-decoration-color: #ffffff; background-color: #a55194\">          </span><span style=\"color: #ffffff; text-decoration-color: #ffffff; background-color: #8c6d31\">          </span>\n",
              "<span style=\"color: #ffffff; text-decoration-color: #ffffff; background-color: #393b79\">          </span><span style=\"color: #ffffff; text-decoration-color: #ffffff; background-color: #d6616b\">          </span><span style=\"color: #ffffff; text-decoration-color: #ffffff; background-color: #8ca252\">          </span><span style=\"color: #ffffff; text-decoration-color: #ffffff; background-color: #de9ed6\">          </span><span style=\"color: #000000; text-decoration-color: #000000; background-color: #e7cb94\">          </span><span style=\"color: #ffffff; text-decoration-color: #ffffff; background-color: #6b6ecf\">          </span><span style=\"color: #ffffff; text-decoration-color: #ffffff; background-color: #a55194\">          </span><span style=\"color: #ffffff; text-decoration-color: #ffffff; background-color: #8c6d31\">          </span>\n",
              "<span style=\"color: #ffffff; text-decoration-color: #ffffff; background-color: #393b79\">          </span><span style=\"color: #ffffff; text-decoration-color: #ffffff; background-color: #d6616b\">          </span><span style=\"color: #ffffff; text-decoration-color: #ffffff; background-color: #8ca252\">          </span><span style=\"color: #ffffff; text-decoration-color: #ffffff; background-color: #de9ed6\">          </span><span style=\"color: #000000; text-decoration-color: #000000; background-color: #e7cb94\">          </span><span style=\"color: #ffffff; text-decoration-color: #ffffff; background-color: #6b6ecf\">          </span><span style=\"color: #ffffff; text-decoration-color: #ffffff; background-color: #a55194\">          </span><span style=\"color: #ffffff; text-decoration-color: #ffffff; background-color: #8c6d31\">          </span>\n",
              "<span style=\"color: #ffffff; text-decoration-color: #ffffff; background-color: #393b79\">          </span><span style=\"color: #ffffff; text-decoration-color: #ffffff; background-color: #d6616b\">          </span><span style=\"color: #ffffff; text-decoration-color: #ffffff; background-color: #8ca252\">          </span><span style=\"color: #ffffff; text-decoration-color: #ffffff; background-color: #de9ed6\">          </span><span style=\"color: #000000; text-decoration-color: #000000; background-color: #e7cb94\">          </span><span style=\"color: #ffffff; text-decoration-color: #ffffff; background-color: #6b6ecf\">          </span><span style=\"color: #ffffff; text-decoration-color: #ffffff; background-color: #a55194\">          </span><span style=\"color: #ffffff; text-decoration-color: #ffffff; background-color: #8c6d31\">          </span>\n",
              "<span style=\"color: #ffffff; text-decoration-color: #ffffff; background-color: #393b79\">   CPU    </span><span style=\"color: #ffffff; text-decoration-color: #ffffff; background-color: #d6616b\">   CPU    </span><span style=\"color: #ffffff; text-decoration-color: #ffffff; background-color: #8ca252\">   CPU    </span><span style=\"color: #ffffff; text-decoration-color: #ffffff; background-color: #de9ed6\">   CPU    </span><span style=\"color: #000000; text-decoration-color: #000000; background-color: #e7cb94\">   CPU    </span><span style=\"color: #ffffff; text-decoration-color: #ffffff; background-color: #6b6ecf\">   CPU    </span><span style=\"color: #ffffff; text-decoration-color: #ffffff; background-color: #a55194\">   CPU    </span><span style=\"color: #ffffff; text-decoration-color: #ffffff; background-color: #8c6d31\">   CPU    </span>\n",
              "<span style=\"color: #ffffff; text-decoration-color: #ffffff; background-color: #393b79\">   0      </span><span style=\"color: #ffffff; text-decoration-color: #ffffff; background-color: #d6616b\">   1      </span><span style=\"color: #ffffff; text-decoration-color: #ffffff; background-color: #8ca252\">   2      </span><span style=\"color: #ffffff; text-decoration-color: #ffffff; background-color: #de9ed6\">   3      </span><span style=\"color: #000000; text-decoration-color: #000000; background-color: #e7cb94\">   4      </span><span style=\"color: #ffffff; text-decoration-color: #ffffff; background-color: #6b6ecf\">   5      </span><span style=\"color: #ffffff; text-decoration-color: #ffffff; background-color: #a55194\">   6      </span><span style=\"color: #ffffff; text-decoration-color: #ffffff; background-color: #8c6d31\">   7      </span>\n",
              "<span style=\"color: #ffffff; text-decoration-color: #ffffff; background-color: #393b79\">          </span><span style=\"color: #ffffff; text-decoration-color: #ffffff; background-color: #d6616b\">          </span><span style=\"color: #ffffff; text-decoration-color: #ffffff; background-color: #8ca252\">          </span><span style=\"color: #ffffff; text-decoration-color: #ffffff; background-color: #de9ed6\">          </span><span style=\"color: #000000; text-decoration-color: #000000; background-color: #e7cb94\">          </span><span style=\"color: #ffffff; text-decoration-color: #ffffff; background-color: #6b6ecf\">          </span><span style=\"color: #ffffff; text-decoration-color: #ffffff; background-color: #a55194\">          </span><span style=\"color: #ffffff; text-decoration-color: #ffffff; background-color: #8c6d31\">          </span>\n",
              "<span style=\"color: #ffffff; text-decoration-color: #ffffff; background-color: #393b79\">          </span><span style=\"color: #ffffff; text-decoration-color: #ffffff; background-color: #d6616b\">          </span><span style=\"color: #ffffff; text-decoration-color: #ffffff; background-color: #8ca252\">          </span><span style=\"color: #ffffff; text-decoration-color: #ffffff; background-color: #de9ed6\">          </span><span style=\"color: #000000; text-decoration-color: #000000; background-color: #e7cb94\">          </span><span style=\"color: #ffffff; text-decoration-color: #ffffff; background-color: #6b6ecf\">          </span><span style=\"color: #ffffff; text-decoration-color: #ffffff; background-color: #a55194\">          </span><span style=\"color: #ffffff; text-decoration-color: #ffffff; background-color: #8c6d31\">          </span>\n",
              "<span style=\"color: #ffffff; text-decoration-color: #ffffff; background-color: #393b79\">          </span><span style=\"color: #ffffff; text-decoration-color: #ffffff; background-color: #d6616b\">          </span><span style=\"color: #ffffff; text-decoration-color: #ffffff; background-color: #8ca252\">          </span><span style=\"color: #ffffff; text-decoration-color: #ffffff; background-color: #de9ed6\">          </span><span style=\"color: #000000; text-decoration-color: #000000; background-color: #e7cb94\">          </span><span style=\"color: #ffffff; text-decoration-color: #ffffff; background-color: #6b6ecf\">          </span><span style=\"color: #ffffff; text-decoration-color: #ffffff; background-color: #a55194\">          </span><span style=\"color: #ffffff; text-decoration-color: #ffffff; background-color: #8c6d31\">          </span>\n",
              "<span style=\"color: #ffffff; text-decoration-color: #ffffff; background-color: #393b79\">          </span><span style=\"color: #ffffff; text-decoration-color: #ffffff; background-color: #d6616b\">          </span><span style=\"color: #ffffff; text-decoration-color: #ffffff; background-color: #8ca252\">          </span><span style=\"color: #ffffff; text-decoration-color: #ffffff; background-color: #de9ed6\">          </span><span style=\"color: #000000; text-decoration-color: #000000; background-color: #e7cb94\">          </span><span style=\"color: #ffffff; text-decoration-color: #ffffff; background-color: #6b6ecf\">          </span><span style=\"color: #ffffff; text-decoration-color: #ffffff; background-color: #a55194\">          </span><span style=\"color: #ffffff; text-decoration-color: #ffffff; background-color: #8c6d31\">          </span>\n",
              "<span style=\"color: #ffffff; text-decoration-color: #ffffff; background-color: #393b79\">          </span><span style=\"color: #ffffff; text-decoration-color: #ffffff; background-color: #d6616b\">          </span><span style=\"color: #ffffff; text-decoration-color: #ffffff; background-color: #8ca252\">          </span><span style=\"color: #ffffff; text-decoration-color: #ffffff; background-color: #de9ed6\">          </span><span style=\"color: #000000; text-decoration-color: #000000; background-color: #e7cb94\">          </span><span style=\"color: #ffffff; text-decoration-color: #ffffff; background-color: #6b6ecf\">          </span><span style=\"color: #ffffff; text-decoration-color: #ffffff; background-color: #a55194\">          </span><span style=\"color: #ffffff; text-decoration-color: #ffffff; background-color: #8c6d31\">          </span>\n",
              "</pre>\n"
            ]
          },
          "metadata": {}
        }
      ]
    },
    {
      "cell_type": "markdown",
      "source": [
        "## Data + Model Parallel"
      ],
      "metadata": {
        "id": "0GcVWTeR3cls"
      }
    },
    {
      "cell_type": "code",
      "source": [
        "params = mlp_init(random.PRNGKey(0), 32, 128, 32)\n",
        "tx = optax.adam(3e-4)\n",
        "opt_state = tx.init(params)\n",
        "\n",
        "# mesh\n",
        "mesh = Mesh(\n",
        "    devices=mesh_utils.create_device_mesh((2, 4)),\n",
        "    axis_names=(\"data\", \"model\"),\n",
        ")\n",
        "def sharding(*args):\n",
        "  return NamedSharding(mesh, P(*args))\n",
        "\n",
        "# create shardings\n",
        "params_sharding = {'w1': sharding(None, \"model\"), 'w2': sharding(\"model\", None)}\n",
        "opt_state_sharding = (\n",
        "  optax.ScaleByAdamState(\n",
        "    count=sharding(), mu=params_sharding, nu=params_sharding\n",
        "  ),\n",
        "  optax.EmptyState()\n",
        ")\n",
        "data_sharding = sharding(\"data\")\n",
        "\n",
        "# shard state\n",
        "params = jax.device_put(params, params_sharding)\n",
        "opt_state = jax.device_put(opt_state, opt_state_sharding)\n",
        "x, y = jax.device_put(X, data_sharding), jax.device_put(Y, data_sharding)\n",
        "\n",
        "print(\"params:\", jax.tree_map(jnp.shape, params))\n",
        "print(\"opt_state:\", jax.tree_map(jnp.shape, opt_state))\n",
        "\n",
        "# visualize computation sharding\n",
        "mlp_forward(params, x, viz=True)\n",
        "\n",
        "@jax.jit\n",
        "def train_step(params, opt_state, x, y):\n",
        "  def loss_fn(params):\n",
        "    y_pred = mlp_forward(params, x)\n",
        "    return jnp.mean((y - y_pred)**2)\n",
        "\n",
        "  grads = jax.grad(loss_fn)(params)\n",
        "\n",
        "  # constrain grads\n",
        "  grads = jax.lax.with_sharding_constraint(grads, params_sharding)\n",
        "\n",
        "  updates, opt_state = tx.update(grads, opt_state, params)\n",
        "  params = optax.apply_updates(params, updates)\n",
        "\n",
        "  return params, opt_state\n",
        "\n",
        "params, opt_state = train_step(params, opt_state, x, y)\n",
        "params, opt_state = train_step(params, opt_state, x, y)\n",
        "\n",
        "print(\"\\nVisualize final sharding\")\n",
        "print(\"params\")\n",
        "debug.visualize_array_sharding(params[\"w1\"])\n",
        "print(\"opt_state\")\n",
        "debug.visualize_array_sharding(opt_state[0].mu[\"w1\"])"
      ],
      "metadata": {
        "colab": {
          "base_uri": "https://localhost:8080/",
          "height": 1000
        },
        "id": "OxNJ-K4I3WkD",
        "outputId": "684499f5-5676-42bb-fb9f-501a6be9c420"
      },
      "execution_count": null,
      "outputs": [
        {
          "output_type": "stream",
          "name": "stdout",
          "text": [
            "params: {'w1': (32, 128), 'w2': (128, 32)}\n",
            "opt_state: (ScaleByAdamState(count=(), mu={'w1': (32, 128), 'w2': (128, 32)}, nu={'w1': (32, 128), 'w2': (128, 32)}), EmptyState())\n",
            "x\n"
          ]
        },
        {
          "output_type": "display_data",
          "data": {
            "text/plain": [
              "\u001b[38;2;255;255;255;48;2;57;59;121m                                                  \u001b[0m\n",
              "\u001b[38;2;255;255;255;48;2;57;59;121m                                                  \u001b[0m\n",
              "\u001b[38;2;255;255;255;48;2;57;59;121m                   \u001b[0m\u001b[38;2;255;255;255;48;2;57;59;121mCPU 0,1,2,3\u001b[0m\u001b[38;2;255;255;255;48;2;57;59;121m                    \u001b[0m\n",
              "\u001b[38;2;255;255;255;48;2;57;59;121m                                                  \u001b[0m\n",
              "\u001b[38;2;255;255;255;48;2;57;59;121m                                                  \u001b[0m\n",
              "\u001b[38;2;255;255;255;48;2;57;59;121m                                                  \u001b[0m\n",
              "\u001b[38;2;255;255;255;48;2;57;59;121m                                                  \u001b[0m\n",
              "\u001b[38;2;255;255;255;48;2;57;59;121m                                                  \u001b[0m\n",
              "\u001b[38;2;255;255;255;48;2;57;59;121m                   \u001b[0m\u001b[38;2;255;255;255;48;2;57;59;121mCPU 4,5,6,7\u001b[0m\u001b[38;2;255;255;255;48;2;57;59;121m                    \u001b[0m\n",
              "\u001b[38;2;255;255;255;48;2;57;59;121m                                                  \u001b[0m\n",
              "\u001b[38;2;255;255;255;48;2;57;59;121m                                                  \u001b[0m\n",
              "\u001b[38;2;255;255;255;48;2;57;59;121m                                                  \u001b[0m\n"
            ],
            "text/html": [
              "<pre style=\"white-space:pre;overflow-x:auto;line-height:normal;font-family:Menlo,'DejaVu Sans Mono',consolas,'Courier New',monospace\"><span style=\"color: #ffffff; text-decoration-color: #ffffff; background-color: #393b79\">                                                  </span>\n",
              "<span style=\"color: #ffffff; text-decoration-color: #ffffff; background-color: #393b79\">                                                  </span>\n",
              "<span style=\"color: #ffffff; text-decoration-color: #ffffff; background-color: #393b79\">                   CPU 0,1,2,3                    </span>\n",
              "<span style=\"color: #ffffff; text-decoration-color: #ffffff; background-color: #393b79\">                                                  </span>\n",
              "<span style=\"color: #ffffff; text-decoration-color: #ffffff; background-color: #393b79\">                                                  </span>\n",
              "<span style=\"color: #ffffff; text-decoration-color: #ffffff; background-color: #393b79\">                                                  </span>\n",
              "<span style=\"color: #ffffff; text-decoration-color: #ffffff; background-color: #393b79\">                                                  </span>\n",
              "<span style=\"color: #ffffff; text-decoration-color: #ffffff; background-color: #393b79\">                                                  </span>\n",
              "<span style=\"color: #ffffff; text-decoration-color: #ffffff; background-color: #393b79\">                   CPU 4,5,6,7                    </span>\n",
              "<span style=\"color: #ffffff; text-decoration-color: #ffffff; background-color: #393b79\">                                                  </span>\n",
              "<span style=\"color: #ffffff; text-decoration-color: #ffffff; background-color: #393b79\">                                                  </span>\n",
              "<span style=\"color: #ffffff; text-decoration-color: #ffffff; background-color: #393b79\">                                                  </span>\n",
              "</pre>\n"
            ]
          },
          "metadata": {}
        },
        {
          "output_type": "stream",
          "name": "stdout",
          "text": [
            "w1\n"
          ]
        },
        {
          "output_type": "display_data",
          "data": {
            "text/plain": [
              "\u001b[38;2;255;255;255;48;2;57;59;121m                    \u001b[0m\u001b[38;2;255;255;255;48;2;222;158;214m                    \u001b[0m\u001b[38;2;255;255;255;48;2;173;73;74m                    \u001b[0m\u001b[38;2;0;0;0;48;2;181;207;107m                    \u001b[0m\n",
              "\u001b[38;2;255;255;255;48;2;57;59;121m                    \u001b[0m\u001b[38;2;255;255;255;48;2;222;158;214m                    \u001b[0m\u001b[38;2;255;255;255;48;2;173;73;74m                    \u001b[0m\u001b[38;2;0;0;0;48;2;181;207;107m                    \u001b[0m\n",
              "\u001b[38;2;255;255;255;48;2;57;59;121m                    \u001b[0m\u001b[38;2;255;255;255;48;2;222;158;214m                    \u001b[0m\u001b[38;2;255;255;255;48;2;173;73;74m                    \u001b[0m\u001b[38;2;0;0;0;48;2;181;207;107m                    \u001b[0m\n",
              "\u001b[38;2;255;255;255;48;2;57;59;121m                    \u001b[0m\u001b[38;2;255;255;255;48;2;222;158;214m                    \u001b[0m\u001b[38;2;255;255;255;48;2;173;73;74m                    \u001b[0m\u001b[38;2;0;0;0;48;2;181;207;107m                    \u001b[0m\n",
              "\u001b[38;2;255;255;255;48;2;57;59;121m                    \u001b[0m\u001b[38;2;255;255;255;48;2;222;158;214m                    \u001b[0m\u001b[38;2;255;255;255;48;2;173;73;74m                    \u001b[0m\u001b[38;2;0;0;0;48;2;181;207;107m                    \u001b[0m\n",
              "\u001b[38;2;255;255;255;48;2;57;59;121m         \u001b[0m\u001b[38;2;255;255;255;48;2;57;59;121mC…\u001b[0m\u001b[38;2;255;255;255;48;2;57;59;121m         \u001b[0m\u001b[38;2;255;255;255;48;2;222;158;214m         \u001b[0m\u001b[38;2;255;255;255;48;2;222;158;214mC…\u001b[0m\u001b[38;2;255;255;255;48;2;222;158;214m         \u001b[0m\u001b[38;2;255;255;255;48;2;173;73;74m         \u001b[0m\u001b[38;2;255;255;255;48;2;173;73;74mC…\u001b[0m\u001b[38;2;255;255;255;48;2;173;73;74m         \u001b[0m\u001b[38;2;0;0;0;48;2;181;207;107m         \u001b[0m\u001b[38;2;0;0;0;48;2;181;207;107mC…\u001b[0m\u001b[38;2;0;0;0;48;2;181;207;107m         \u001b[0m\n",
              "\u001b[38;2;255;255;255;48;2;57;59;121m         \u001b[0m\u001b[38;2;255;255;255;48;2;57;59;121m0…\u001b[0m\u001b[38;2;255;255;255;48;2;57;59;121m         \u001b[0m\u001b[38;2;255;255;255;48;2;222;158;214m         \u001b[0m\u001b[38;2;255;255;255;48;2;222;158;214m1…\u001b[0m\u001b[38;2;255;255;255;48;2;222;158;214m         \u001b[0m\u001b[38;2;255;255;255;48;2;173;73;74m         \u001b[0m\u001b[38;2;255;255;255;48;2;173;73;74m2…\u001b[0m\u001b[38;2;255;255;255;48;2;173;73;74m         \u001b[0m\u001b[38;2;0;0;0;48;2;181;207;107m         \u001b[0m\u001b[38;2;0;0;0;48;2;181;207;107m3…\u001b[0m\u001b[38;2;0;0;0;48;2;181;207;107m         \u001b[0m\n",
              "\u001b[38;2;255;255;255;48;2;57;59;121m                    \u001b[0m\u001b[38;2;255;255;255;48;2;222;158;214m                    \u001b[0m\u001b[38;2;255;255;255;48;2;173;73;74m                    \u001b[0m\u001b[38;2;0;0;0;48;2;181;207;107m                    \u001b[0m\n",
              "\u001b[38;2;255;255;255;48;2;57;59;121m                    \u001b[0m\u001b[38;2;255;255;255;48;2;222;158;214m                    \u001b[0m\u001b[38;2;255;255;255;48;2;173;73;74m                    \u001b[0m\u001b[38;2;0;0;0;48;2;181;207;107m                    \u001b[0m\n",
              "\u001b[38;2;255;255;255;48;2;57;59;121m                    \u001b[0m\u001b[38;2;255;255;255;48;2;222;158;214m                    \u001b[0m\u001b[38;2;255;255;255;48;2;173;73;74m                    \u001b[0m\u001b[38;2;0;0;0;48;2;181;207;107m                    \u001b[0m\n",
              "\u001b[38;2;255;255;255;48;2;57;59;121m                    \u001b[0m\u001b[38;2;255;255;255;48;2;222;158;214m                    \u001b[0m\u001b[38;2;255;255;255;48;2;173;73;74m                    \u001b[0m\u001b[38;2;0;0;0;48;2;181;207;107m                    \u001b[0m\n",
              "\u001b[38;2;255;255;255;48;2;57;59;121m                    \u001b[0m\u001b[38;2;255;255;255;48;2;222;158;214m                    \u001b[0m\u001b[38;2;255;255;255;48;2;173;73;74m                    \u001b[0m\u001b[38;2;0;0;0;48;2;181;207;107m                    \u001b[0m\n"
            ],
            "text/html": [
              "<pre style=\"white-space:pre;overflow-x:auto;line-height:normal;font-family:Menlo,'DejaVu Sans Mono',consolas,'Courier New',monospace\"><span style=\"color: #ffffff; text-decoration-color: #ffffff; background-color: #393b79\">                    </span><span style=\"color: #ffffff; text-decoration-color: #ffffff; background-color: #de9ed6\">                    </span><span style=\"color: #ffffff; text-decoration-color: #ffffff; background-color: #ad494a\">                    </span><span style=\"color: #000000; text-decoration-color: #000000; background-color: #b5cf6b\">                    </span>\n",
              "<span style=\"color: #ffffff; text-decoration-color: #ffffff; background-color: #393b79\">                    </span><span style=\"color: #ffffff; text-decoration-color: #ffffff; background-color: #de9ed6\">                    </span><span style=\"color: #ffffff; text-decoration-color: #ffffff; background-color: #ad494a\">                    </span><span style=\"color: #000000; text-decoration-color: #000000; background-color: #b5cf6b\">                    </span>\n",
              "<span style=\"color: #ffffff; text-decoration-color: #ffffff; background-color: #393b79\">                    </span><span style=\"color: #ffffff; text-decoration-color: #ffffff; background-color: #de9ed6\">                    </span><span style=\"color: #ffffff; text-decoration-color: #ffffff; background-color: #ad494a\">                    </span><span style=\"color: #000000; text-decoration-color: #000000; background-color: #b5cf6b\">                    </span>\n",
              "<span style=\"color: #ffffff; text-decoration-color: #ffffff; background-color: #393b79\">                    </span><span style=\"color: #ffffff; text-decoration-color: #ffffff; background-color: #de9ed6\">                    </span><span style=\"color: #ffffff; text-decoration-color: #ffffff; background-color: #ad494a\">                    </span><span style=\"color: #000000; text-decoration-color: #000000; background-color: #b5cf6b\">                    </span>\n",
              "<span style=\"color: #ffffff; text-decoration-color: #ffffff; background-color: #393b79\">                    </span><span style=\"color: #ffffff; text-decoration-color: #ffffff; background-color: #de9ed6\">                    </span><span style=\"color: #ffffff; text-decoration-color: #ffffff; background-color: #ad494a\">                    </span><span style=\"color: #000000; text-decoration-color: #000000; background-color: #b5cf6b\">                    </span>\n",
              "<span style=\"color: #ffffff; text-decoration-color: #ffffff; background-color: #393b79\">         C…         </span><span style=\"color: #ffffff; text-decoration-color: #ffffff; background-color: #de9ed6\">         C…         </span><span style=\"color: #ffffff; text-decoration-color: #ffffff; background-color: #ad494a\">         C…         </span><span style=\"color: #000000; text-decoration-color: #000000; background-color: #b5cf6b\">         C…         </span>\n",
              "<span style=\"color: #ffffff; text-decoration-color: #ffffff; background-color: #393b79\">         0…         </span><span style=\"color: #ffffff; text-decoration-color: #ffffff; background-color: #de9ed6\">         1…         </span><span style=\"color: #ffffff; text-decoration-color: #ffffff; background-color: #ad494a\">         2…         </span><span style=\"color: #000000; text-decoration-color: #000000; background-color: #b5cf6b\">         3…         </span>\n",
              "<span style=\"color: #ffffff; text-decoration-color: #ffffff; background-color: #393b79\">                    </span><span style=\"color: #ffffff; text-decoration-color: #ffffff; background-color: #de9ed6\">                    </span><span style=\"color: #ffffff; text-decoration-color: #ffffff; background-color: #ad494a\">                    </span><span style=\"color: #000000; text-decoration-color: #000000; background-color: #b5cf6b\">                    </span>\n",
              "<span style=\"color: #ffffff; text-decoration-color: #ffffff; background-color: #393b79\">                    </span><span style=\"color: #ffffff; text-decoration-color: #ffffff; background-color: #de9ed6\">                    </span><span style=\"color: #ffffff; text-decoration-color: #ffffff; background-color: #ad494a\">                    </span><span style=\"color: #000000; text-decoration-color: #000000; background-color: #b5cf6b\">                    </span>\n",
              "<span style=\"color: #ffffff; text-decoration-color: #ffffff; background-color: #393b79\">                    </span><span style=\"color: #ffffff; text-decoration-color: #ffffff; background-color: #de9ed6\">                    </span><span style=\"color: #ffffff; text-decoration-color: #ffffff; background-color: #ad494a\">                    </span><span style=\"color: #000000; text-decoration-color: #000000; background-color: #b5cf6b\">                    </span>\n",
              "<span style=\"color: #ffffff; text-decoration-color: #ffffff; background-color: #393b79\">                    </span><span style=\"color: #ffffff; text-decoration-color: #ffffff; background-color: #de9ed6\">                    </span><span style=\"color: #ffffff; text-decoration-color: #ffffff; background-color: #ad494a\">                    </span><span style=\"color: #000000; text-decoration-color: #000000; background-color: #b5cf6b\">                    </span>\n",
              "<span style=\"color: #ffffff; text-decoration-color: #ffffff; background-color: #393b79\">                    </span><span style=\"color: #ffffff; text-decoration-color: #ffffff; background-color: #de9ed6\">                    </span><span style=\"color: #ffffff; text-decoration-color: #ffffff; background-color: #ad494a\">                    </span><span style=\"color: #000000; text-decoration-color: #000000; background-color: #b5cf6b\">                    </span>\n",
              "</pre>\n"
            ]
          },
          "metadata": {}
        },
        {
          "output_type": "stream",
          "name": "stdout",
          "text": [
            "y\n"
          ]
        },
        {
          "output_type": "display_data",
          "data": {
            "text/plain": [
              "\u001b[38;2;255;255;255;48;2;57;59;121m                    \u001b[0m\u001b[38;2;255;255;255;48;2;214;97;107m                    \u001b[0m\u001b[38;2;255;255;255;48;2;140;162;82m                    \u001b[0m\u001b[38;2;255;255;255;48;2;222;158;214m                    \u001b[0m\n",
              "\u001b[38;2;255;255;255;48;2;57;59;121m                    \u001b[0m\u001b[38;2;255;255;255;48;2;214;97;107m                    \u001b[0m\u001b[38;2;255;255;255;48;2;140;162;82m                    \u001b[0m\u001b[38;2;255;255;255;48;2;222;158;214m                    \u001b[0m\n",
              "\u001b[38;2;255;255;255;48;2;57;59;121m                    \u001b[0m\u001b[38;2;255;255;255;48;2;214;97;107m                    \u001b[0m\u001b[38;2;255;255;255;48;2;140;162;82m                    \u001b[0m\u001b[38;2;255;255;255;48;2;222;158;214m                    \u001b[0m\n",
              "\u001b[38;2;255;255;255;48;2;57;59;121m                    \u001b[0m\u001b[38;2;255;255;255;48;2;214;97;107m                    \u001b[0m\u001b[38;2;255;255;255;48;2;140;162;82m                    \u001b[0m\u001b[38;2;255;255;255;48;2;222;158;214m                    \u001b[0m\n",
              "\u001b[38;2;255;255;255;48;2;57;59;121m                    \u001b[0m\u001b[38;2;255;255;255;48;2;214;97;107m                    \u001b[0m\u001b[38;2;255;255;255;48;2;140;162;82m                    \u001b[0m\u001b[38;2;255;255;255;48;2;222;158;214m                    \u001b[0m\n",
              "\u001b[38;2;0;0;0;48;2;231;203;148m                    \u001b[0m\u001b[38;2;255;255;255;48;2;107;110;207m                    \u001b[0m\u001b[38;2;255;255;255;48;2;165;81;148m                    \u001b[0m\u001b[38;2;255;255;255;48;2;140;109;49m                    \u001b[0m\n",
              "\u001b[38;2;0;0;0;48;2;231;203;148m                    \u001b[0m\u001b[38;2;255;255;255;48;2;107;110;207m                    \u001b[0m\u001b[38;2;255;255;255;48;2;165;81;148m                    \u001b[0m\u001b[38;2;255;255;255;48;2;140;109;49m                    \u001b[0m\n",
              "\u001b[38;2;0;0;0;48;2;231;203;148m                    \u001b[0m\u001b[38;2;255;255;255;48;2;107;110;207m                    \u001b[0m\u001b[38;2;255;255;255;48;2;165;81;148m                    \u001b[0m\u001b[38;2;255;255;255;48;2;140;109;49m                    \u001b[0m\n",
              "\u001b[38;2;0;0;0;48;2;231;203;148m                    \u001b[0m\u001b[38;2;255;255;255;48;2;107;110;207m                    \u001b[0m\u001b[38;2;255;255;255;48;2;165;81;148m                    \u001b[0m\u001b[38;2;255;255;255;48;2;140;109;49m                    \u001b[0m\n",
              "\u001b[38;2;0;0;0;48;2;231;203;148m                    \u001b[0m\u001b[38;2;255;255;255;48;2;107;110;207m                    \u001b[0m\u001b[38;2;255;255;255;48;2;165;81;148m                    \u001b[0m\u001b[38;2;255;255;255;48;2;140;109;49m                    \u001b[0m\n"
            ],
            "text/html": [
              "<pre style=\"white-space:pre;overflow-x:auto;line-height:normal;font-family:Menlo,'DejaVu Sans Mono',consolas,'Courier New',monospace\"><span style=\"color: #ffffff; text-decoration-color: #ffffff; background-color: #393b79\">                    </span><span style=\"color: #ffffff; text-decoration-color: #ffffff; background-color: #d6616b\">                    </span><span style=\"color: #ffffff; text-decoration-color: #ffffff; background-color: #8ca252\">                    </span><span style=\"color: #ffffff; text-decoration-color: #ffffff; background-color: #de9ed6\">                    </span>\n",
              "<span style=\"color: #ffffff; text-decoration-color: #ffffff; background-color: #393b79\">                    </span><span style=\"color: #ffffff; text-decoration-color: #ffffff; background-color: #d6616b\">                    </span><span style=\"color: #ffffff; text-decoration-color: #ffffff; background-color: #8ca252\">                    </span><span style=\"color: #ffffff; text-decoration-color: #ffffff; background-color: #de9ed6\">                    </span>\n",
              "<span style=\"color: #ffffff; text-decoration-color: #ffffff; background-color: #393b79\">                    </span><span style=\"color: #ffffff; text-decoration-color: #ffffff; background-color: #d6616b\">                    </span><span style=\"color: #ffffff; text-decoration-color: #ffffff; background-color: #8ca252\">                    </span><span style=\"color: #ffffff; text-decoration-color: #ffffff; background-color: #de9ed6\">                    </span>\n",
              "<span style=\"color: #ffffff; text-decoration-color: #ffffff; background-color: #393b79\">                    </span><span style=\"color: #ffffff; text-decoration-color: #ffffff; background-color: #d6616b\">                    </span><span style=\"color: #ffffff; text-decoration-color: #ffffff; background-color: #8ca252\">                    </span><span style=\"color: #ffffff; text-decoration-color: #ffffff; background-color: #de9ed6\">                    </span>\n",
              "<span style=\"color: #ffffff; text-decoration-color: #ffffff; background-color: #393b79\">                    </span><span style=\"color: #ffffff; text-decoration-color: #ffffff; background-color: #d6616b\">                    </span><span style=\"color: #ffffff; text-decoration-color: #ffffff; background-color: #8ca252\">                    </span><span style=\"color: #ffffff; text-decoration-color: #ffffff; background-color: #de9ed6\">                    </span>\n",
              "<span style=\"color: #000000; text-decoration-color: #000000; background-color: #e7cb94\">                    </span><span style=\"color: #ffffff; text-decoration-color: #ffffff; background-color: #6b6ecf\">                    </span><span style=\"color: #ffffff; text-decoration-color: #ffffff; background-color: #a55194\">                    </span><span style=\"color: #ffffff; text-decoration-color: #ffffff; background-color: #8c6d31\">                    </span>\n",
              "<span style=\"color: #000000; text-decoration-color: #000000; background-color: #e7cb94\">                    </span><span style=\"color: #ffffff; text-decoration-color: #ffffff; background-color: #6b6ecf\">                    </span><span style=\"color: #ffffff; text-decoration-color: #ffffff; background-color: #a55194\">                    </span><span style=\"color: #ffffff; text-decoration-color: #ffffff; background-color: #8c6d31\">                    </span>\n",
              "<span style=\"color: #000000; text-decoration-color: #000000; background-color: #e7cb94\">                    </span><span style=\"color: #ffffff; text-decoration-color: #ffffff; background-color: #6b6ecf\">                    </span><span style=\"color: #ffffff; text-decoration-color: #ffffff; background-color: #a55194\">                    </span><span style=\"color: #ffffff; text-decoration-color: #ffffff; background-color: #8c6d31\">                    </span>\n",
              "<span style=\"color: #000000; text-decoration-color: #000000; background-color: #e7cb94\">                    </span><span style=\"color: #ffffff; text-decoration-color: #ffffff; background-color: #6b6ecf\">                    </span><span style=\"color: #ffffff; text-decoration-color: #ffffff; background-color: #a55194\">                    </span><span style=\"color: #ffffff; text-decoration-color: #ffffff; background-color: #8c6d31\">                    </span>\n",
              "<span style=\"color: #000000; text-decoration-color: #000000; background-color: #e7cb94\">                    </span><span style=\"color: #ffffff; text-decoration-color: #ffffff; background-color: #6b6ecf\">                    </span><span style=\"color: #ffffff; text-decoration-color: #ffffff; background-color: #a55194\">                    </span><span style=\"color: #ffffff; text-decoration-color: #ffffff; background-color: #8c6d31\">                    </span>\n",
              "</pre>\n"
            ]
          },
          "metadata": {}
        },
        {
          "output_type": "stream",
          "name": "stdout",
          "text": [
            "w2\n"
          ]
        },
        {
          "output_type": "display_data",
          "data": {
            "text/plain": [
              "\u001b[38;2;255;255;255;48;2;57;59;121m         \u001b[0m\n",
              "\u001b[38;2;255;255;255;48;2;57;59;121m \u001b[0m\u001b[38;2;255;255;255;48;2;57;59;121mCPU 0,4\u001b[0m\u001b[38;2;255;255;255;48;2;57;59;121m \u001b[0m\n",
              "\u001b[38;2;255;255;255;48;2;57;59;121m         \u001b[0m\n",
              "\u001b[38;2;255;255;255;48;2;222;158;214m         \u001b[0m\n",
              "\u001b[38;2;255;255;255;48;2;222;158;214m \u001b[0m\u001b[38;2;255;255;255;48;2;222;158;214mCPU 1,5\u001b[0m\u001b[38;2;255;255;255;48;2;222;158;214m \u001b[0m\n",
              "\u001b[38;2;255;255;255;48;2;222;158;214m         \u001b[0m\n",
              "\u001b[38;2;255;255;255;48;2;173;73;74m         \u001b[0m\n",
              "\u001b[38;2;255;255;255;48;2;173;73;74m \u001b[0m\u001b[38;2;255;255;255;48;2;173;73;74mCPU 2,6\u001b[0m\u001b[38;2;255;255;255;48;2;173;73;74m \u001b[0m\n",
              "\u001b[38;2;255;255;255;48;2;173;73;74m         \u001b[0m\n",
              "\u001b[38;2;0;0;0;48;2;181;207;107m         \u001b[0m\n",
              "\u001b[38;2;0;0;0;48;2;181;207;107m \u001b[0m\u001b[38;2;0;0;0;48;2;181;207;107mCPU 3,7\u001b[0m\u001b[38;2;0;0;0;48;2;181;207;107m \u001b[0m\n",
              "\u001b[38;2;0;0;0;48;2;181;207;107m         \u001b[0m\n"
            ],
            "text/html": [
              "<pre style=\"white-space:pre;overflow-x:auto;line-height:normal;font-family:Menlo,'DejaVu Sans Mono',consolas,'Courier New',monospace\"><span style=\"color: #ffffff; text-decoration-color: #ffffff; background-color: #393b79\">         </span>\n",
              "<span style=\"color: #ffffff; text-decoration-color: #ffffff; background-color: #393b79\"> CPU 0,4 </span>\n",
              "<span style=\"color: #ffffff; text-decoration-color: #ffffff; background-color: #393b79\">         </span>\n",
              "<span style=\"color: #ffffff; text-decoration-color: #ffffff; background-color: #de9ed6\">         </span>\n",
              "<span style=\"color: #ffffff; text-decoration-color: #ffffff; background-color: #de9ed6\"> CPU 1,5 </span>\n",
              "<span style=\"color: #ffffff; text-decoration-color: #ffffff; background-color: #de9ed6\">         </span>\n",
              "<span style=\"color: #ffffff; text-decoration-color: #ffffff; background-color: #ad494a\">         </span>\n",
              "<span style=\"color: #ffffff; text-decoration-color: #ffffff; background-color: #ad494a\"> CPU 2,6 </span>\n",
              "<span style=\"color: #ffffff; text-decoration-color: #ffffff; background-color: #ad494a\">         </span>\n",
              "<span style=\"color: #000000; text-decoration-color: #000000; background-color: #b5cf6b\">         </span>\n",
              "<span style=\"color: #000000; text-decoration-color: #000000; background-color: #b5cf6b\"> CPU 3,7 </span>\n",
              "<span style=\"color: #000000; text-decoration-color: #000000; background-color: #b5cf6b\">         </span>\n",
              "</pre>\n"
            ]
          },
          "metadata": {}
        },
        {
          "output_type": "stream",
          "name": "stdout",
          "text": [
            "z\n"
          ]
        },
        {
          "output_type": "display_data",
          "data": {
            "text/plain": [
              "\u001b[38;2;255;255;255;48;2;57;59;121m                                                  \u001b[0m\n",
              "\u001b[38;2;255;255;255;48;2;57;59;121m                                                  \u001b[0m\n",
              "\u001b[38;2;255;255;255;48;2;57;59;121m                   \u001b[0m\u001b[38;2;255;255;255;48;2;57;59;121mCPU 0,1,2,3\u001b[0m\u001b[38;2;255;255;255;48;2;57;59;121m                    \u001b[0m\n",
              "\u001b[38;2;255;255;255;48;2;57;59;121m                                                  \u001b[0m\n",
              "\u001b[38;2;255;255;255;48;2;57;59;121m                                                  \u001b[0m\n",
              "\u001b[38;2;255;255;255;48;2;57;59;121m                                                  \u001b[0m\n",
              "\u001b[38;2;255;255;255;48;2;57;59;121m                                                  \u001b[0m\n",
              "\u001b[38;2;255;255;255;48;2;57;59;121m                                                  \u001b[0m\n",
              "\u001b[38;2;255;255;255;48;2;57;59;121m                   \u001b[0m\u001b[38;2;255;255;255;48;2;57;59;121mCPU 4,5,6,7\u001b[0m\u001b[38;2;255;255;255;48;2;57;59;121m                    \u001b[0m\n",
              "\u001b[38;2;255;255;255;48;2;57;59;121m                                                  \u001b[0m\n",
              "\u001b[38;2;255;255;255;48;2;57;59;121m                                                  \u001b[0m\n",
              "\u001b[38;2;255;255;255;48;2;57;59;121m                                                  \u001b[0m\n"
            ],
            "text/html": [
              "<pre style=\"white-space:pre;overflow-x:auto;line-height:normal;font-family:Menlo,'DejaVu Sans Mono',consolas,'Courier New',monospace\"><span style=\"color: #ffffff; text-decoration-color: #ffffff; background-color: #393b79\">                                                  </span>\n",
              "<span style=\"color: #ffffff; text-decoration-color: #ffffff; background-color: #393b79\">                                                  </span>\n",
              "<span style=\"color: #ffffff; text-decoration-color: #ffffff; background-color: #393b79\">                   CPU 0,1,2,3                    </span>\n",
              "<span style=\"color: #ffffff; text-decoration-color: #ffffff; background-color: #393b79\">                                                  </span>\n",
              "<span style=\"color: #ffffff; text-decoration-color: #ffffff; background-color: #393b79\">                                                  </span>\n",
              "<span style=\"color: #ffffff; text-decoration-color: #ffffff; background-color: #393b79\">                                                  </span>\n",
              "<span style=\"color: #ffffff; text-decoration-color: #ffffff; background-color: #393b79\">                                                  </span>\n",
              "<span style=\"color: #ffffff; text-decoration-color: #ffffff; background-color: #393b79\">                                                  </span>\n",
              "<span style=\"color: #ffffff; text-decoration-color: #ffffff; background-color: #393b79\">                   CPU 4,5,6,7                    </span>\n",
              "<span style=\"color: #ffffff; text-decoration-color: #ffffff; background-color: #393b79\">                                                  </span>\n",
              "<span style=\"color: #ffffff; text-decoration-color: #ffffff; background-color: #393b79\">                                                  </span>\n",
              "<span style=\"color: #ffffff; text-decoration-color: #ffffff; background-color: #393b79\">                                                  </span>\n",
              "</pre>\n"
            ]
          },
          "metadata": {}
        },
        {
          "output_type": "stream",
          "name": "stdout",
          "text": [
            "\n",
            "Visualize final sharding\n",
            "params\n"
          ]
        },
        {
          "output_type": "display_data",
          "data": {
            "text/plain": [
              "\u001b[38;2;255;255;255;48;2;57;59;121m                    \u001b[0m\u001b[38;2;255;255;255;48;2;222;158;214m                    \u001b[0m\u001b[38;2;255;255;255;48;2;173;73;74m                    \u001b[0m\u001b[38;2;0;0;0;48;2;181;207;107m                    \u001b[0m\n",
              "\u001b[38;2;255;255;255;48;2;57;59;121m                    \u001b[0m\u001b[38;2;255;255;255;48;2;222;158;214m                    \u001b[0m\u001b[38;2;255;255;255;48;2;173;73;74m                    \u001b[0m\u001b[38;2;0;0;0;48;2;181;207;107m                    \u001b[0m\n",
              "\u001b[38;2;255;255;255;48;2;57;59;121m                    \u001b[0m\u001b[38;2;255;255;255;48;2;222;158;214m                    \u001b[0m\u001b[38;2;255;255;255;48;2;173;73;74m                    \u001b[0m\u001b[38;2;0;0;0;48;2;181;207;107m                    \u001b[0m\n",
              "\u001b[38;2;255;255;255;48;2;57;59;121m                    \u001b[0m\u001b[38;2;255;255;255;48;2;222;158;214m                    \u001b[0m\u001b[38;2;255;255;255;48;2;173;73;74m                    \u001b[0m\u001b[38;2;0;0;0;48;2;181;207;107m                    \u001b[0m\n",
              "\u001b[38;2;255;255;255;48;2;57;59;121m                    \u001b[0m\u001b[38;2;255;255;255;48;2;222;158;214m                    \u001b[0m\u001b[38;2;255;255;255;48;2;173;73;74m                    \u001b[0m\u001b[38;2;0;0;0;48;2;181;207;107m                    \u001b[0m\n",
              "\u001b[38;2;255;255;255;48;2;57;59;121m         \u001b[0m\u001b[38;2;255;255;255;48;2;57;59;121mC…\u001b[0m\u001b[38;2;255;255;255;48;2;57;59;121m         \u001b[0m\u001b[38;2;255;255;255;48;2;222;158;214m         \u001b[0m\u001b[38;2;255;255;255;48;2;222;158;214mC…\u001b[0m\u001b[38;2;255;255;255;48;2;222;158;214m         \u001b[0m\u001b[38;2;255;255;255;48;2;173;73;74m         \u001b[0m\u001b[38;2;255;255;255;48;2;173;73;74mC…\u001b[0m\u001b[38;2;255;255;255;48;2;173;73;74m         \u001b[0m\u001b[38;2;0;0;0;48;2;181;207;107m         \u001b[0m\u001b[38;2;0;0;0;48;2;181;207;107mC…\u001b[0m\u001b[38;2;0;0;0;48;2;181;207;107m         \u001b[0m\n",
              "\u001b[38;2;255;255;255;48;2;57;59;121m         \u001b[0m\u001b[38;2;255;255;255;48;2;57;59;121m0…\u001b[0m\u001b[38;2;255;255;255;48;2;57;59;121m         \u001b[0m\u001b[38;2;255;255;255;48;2;222;158;214m         \u001b[0m\u001b[38;2;255;255;255;48;2;222;158;214m1…\u001b[0m\u001b[38;2;255;255;255;48;2;222;158;214m         \u001b[0m\u001b[38;2;255;255;255;48;2;173;73;74m         \u001b[0m\u001b[38;2;255;255;255;48;2;173;73;74m2…\u001b[0m\u001b[38;2;255;255;255;48;2;173;73;74m         \u001b[0m\u001b[38;2;0;0;0;48;2;181;207;107m         \u001b[0m\u001b[38;2;0;0;0;48;2;181;207;107m3…\u001b[0m\u001b[38;2;0;0;0;48;2;181;207;107m         \u001b[0m\n",
              "\u001b[38;2;255;255;255;48;2;57;59;121m                    \u001b[0m\u001b[38;2;255;255;255;48;2;222;158;214m                    \u001b[0m\u001b[38;2;255;255;255;48;2;173;73;74m                    \u001b[0m\u001b[38;2;0;0;0;48;2;181;207;107m                    \u001b[0m\n",
              "\u001b[38;2;255;255;255;48;2;57;59;121m                    \u001b[0m\u001b[38;2;255;255;255;48;2;222;158;214m                    \u001b[0m\u001b[38;2;255;255;255;48;2;173;73;74m                    \u001b[0m\u001b[38;2;0;0;0;48;2;181;207;107m                    \u001b[0m\n",
              "\u001b[38;2;255;255;255;48;2;57;59;121m                    \u001b[0m\u001b[38;2;255;255;255;48;2;222;158;214m                    \u001b[0m\u001b[38;2;255;255;255;48;2;173;73;74m                    \u001b[0m\u001b[38;2;0;0;0;48;2;181;207;107m                    \u001b[0m\n",
              "\u001b[38;2;255;255;255;48;2;57;59;121m                    \u001b[0m\u001b[38;2;255;255;255;48;2;222;158;214m                    \u001b[0m\u001b[38;2;255;255;255;48;2;173;73;74m                    \u001b[0m\u001b[38;2;0;0;0;48;2;181;207;107m                    \u001b[0m\n",
              "\u001b[38;2;255;255;255;48;2;57;59;121m                    \u001b[0m\u001b[38;2;255;255;255;48;2;222;158;214m                    \u001b[0m\u001b[38;2;255;255;255;48;2;173;73;74m                    \u001b[0m\u001b[38;2;0;0;0;48;2;181;207;107m                    \u001b[0m\n"
            ],
            "text/html": [
              "<pre style=\"white-space:pre;overflow-x:auto;line-height:normal;font-family:Menlo,'DejaVu Sans Mono',consolas,'Courier New',monospace\"><span style=\"color: #ffffff; text-decoration-color: #ffffff; background-color: #393b79\">                    </span><span style=\"color: #ffffff; text-decoration-color: #ffffff; background-color: #de9ed6\">                    </span><span style=\"color: #ffffff; text-decoration-color: #ffffff; background-color: #ad494a\">                    </span><span style=\"color: #000000; text-decoration-color: #000000; background-color: #b5cf6b\">                    </span>\n",
              "<span style=\"color: #ffffff; text-decoration-color: #ffffff; background-color: #393b79\">                    </span><span style=\"color: #ffffff; text-decoration-color: #ffffff; background-color: #de9ed6\">                    </span><span style=\"color: #ffffff; text-decoration-color: #ffffff; background-color: #ad494a\">                    </span><span style=\"color: #000000; text-decoration-color: #000000; background-color: #b5cf6b\">                    </span>\n",
              "<span style=\"color: #ffffff; text-decoration-color: #ffffff; background-color: #393b79\">                    </span><span style=\"color: #ffffff; text-decoration-color: #ffffff; background-color: #de9ed6\">                    </span><span style=\"color: #ffffff; text-decoration-color: #ffffff; background-color: #ad494a\">                    </span><span style=\"color: #000000; text-decoration-color: #000000; background-color: #b5cf6b\">                    </span>\n",
              "<span style=\"color: #ffffff; text-decoration-color: #ffffff; background-color: #393b79\">                    </span><span style=\"color: #ffffff; text-decoration-color: #ffffff; background-color: #de9ed6\">                    </span><span style=\"color: #ffffff; text-decoration-color: #ffffff; background-color: #ad494a\">                    </span><span style=\"color: #000000; text-decoration-color: #000000; background-color: #b5cf6b\">                    </span>\n",
              "<span style=\"color: #ffffff; text-decoration-color: #ffffff; background-color: #393b79\">                    </span><span style=\"color: #ffffff; text-decoration-color: #ffffff; background-color: #de9ed6\">                    </span><span style=\"color: #ffffff; text-decoration-color: #ffffff; background-color: #ad494a\">                    </span><span style=\"color: #000000; text-decoration-color: #000000; background-color: #b5cf6b\">                    </span>\n",
              "<span style=\"color: #ffffff; text-decoration-color: #ffffff; background-color: #393b79\">         C…         </span><span style=\"color: #ffffff; text-decoration-color: #ffffff; background-color: #de9ed6\">         C…         </span><span style=\"color: #ffffff; text-decoration-color: #ffffff; background-color: #ad494a\">         C…         </span><span style=\"color: #000000; text-decoration-color: #000000; background-color: #b5cf6b\">         C…         </span>\n",
              "<span style=\"color: #ffffff; text-decoration-color: #ffffff; background-color: #393b79\">         0…         </span><span style=\"color: #ffffff; text-decoration-color: #ffffff; background-color: #de9ed6\">         1…         </span><span style=\"color: #ffffff; text-decoration-color: #ffffff; background-color: #ad494a\">         2…         </span><span style=\"color: #000000; text-decoration-color: #000000; background-color: #b5cf6b\">         3…         </span>\n",
              "<span style=\"color: #ffffff; text-decoration-color: #ffffff; background-color: #393b79\">                    </span><span style=\"color: #ffffff; text-decoration-color: #ffffff; background-color: #de9ed6\">                    </span><span style=\"color: #ffffff; text-decoration-color: #ffffff; background-color: #ad494a\">                    </span><span style=\"color: #000000; text-decoration-color: #000000; background-color: #b5cf6b\">                    </span>\n",
              "<span style=\"color: #ffffff; text-decoration-color: #ffffff; background-color: #393b79\">                    </span><span style=\"color: #ffffff; text-decoration-color: #ffffff; background-color: #de9ed6\">                    </span><span style=\"color: #ffffff; text-decoration-color: #ffffff; background-color: #ad494a\">                    </span><span style=\"color: #000000; text-decoration-color: #000000; background-color: #b5cf6b\">                    </span>\n",
              "<span style=\"color: #ffffff; text-decoration-color: #ffffff; background-color: #393b79\">                    </span><span style=\"color: #ffffff; text-decoration-color: #ffffff; background-color: #de9ed6\">                    </span><span style=\"color: #ffffff; text-decoration-color: #ffffff; background-color: #ad494a\">                    </span><span style=\"color: #000000; text-decoration-color: #000000; background-color: #b5cf6b\">                    </span>\n",
              "<span style=\"color: #ffffff; text-decoration-color: #ffffff; background-color: #393b79\">                    </span><span style=\"color: #ffffff; text-decoration-color: #ffffff; background-color: #de9ed6\">                    </span><span style=\"color: #ffffff; text-decoration-color: #ffffff; background-color: #ad494a\">                    </span><span style=\"color: #000000; text-decoration-color: #000000; background-color: #b5cf6b\">                    </span>\n",
              "<span style=\"color: #ffffff; text-decoration-color: #ffffff; background-color: #393b79\">                    </span><span style=\"color: #ffffff; text-decoration-color: #ffffff; background-color: #de9ed6\">                    </span><span style=\"color: #ffffff; text-decoration-color: #ffffff; background-color: #ad494a\">                    </span><span style=\"color: #000000; text-decoration-color: #000000; background-color: #b5cf6b\">                    </span>\n",
              "</pre>\n"
            ]
          },
          "metadata": {}
        },
        {
          "output_type": "stream",
          "name": "stdout",
          "text": [
            "opt_state\n"
          ]
        },
        {
          "output_type": "display_data",
          "data": {
            "text/plain": [
              "\u001b[38;2;255;255;255;48;2;57;59;121m                    \u001b[0m\u001b[38;2;255;255;255;48;2;222;158;214m                    \u001b[0m\u001b[38;2;255;255;255;48;2;173;73;74m                    \u001b[0m\u001b[38;2;0;0;0;48;2;181;207;107m                    \u001b[0m\n",
              "\u001b[38;2;255;255;255;48;2;57;59;121m                    \u001b[0m\u001b[38;2;255;255;255;48;2;222;158;214m                    \u001b[0m\u001b[38;2;255;255;255;48;2;173;73;74m                    \u001b[0m\u001b[38;2;0;0;0;48;2;181;207;107m                    \u001b[0m\n",
              "\u001b[38;2;255;255;255;48;2;57;59;121m                    \u001b[0m\u001b[38;2;255;255;255;48;2;222;158;214m                    \u001b[0m\u001b[38;2;255;255;255;48;2;173;73;74m                    \u001b[0m\u001b[38;2;0;0;0;48;2;181;207;107m                    \u001b[0m\n",
              "\u001b[38;2;255;255;255;48;2;57;59;121m                    \u001b[0m\u001b[38;2;255;255;255;48;2;222;158;214m                    \u001b[0m\u001b[38;2;255;255;255;48;2;173;73;74m                    \u001b[0m\u001b[38;2;0;0;0;48;2;181;207;107m                    \u001b[0m\n",
              "\u001b[38;2;255;255;255;48;2;57;59;121m                    \u001b[0m\u001b[38;2;255;255;255;48;2;222;158;214m                    \u001b[0m\u001b[38;2;255;255;255;48;2;173;73;74m                    \u001b[0m\u001b[38;2;0;0;0;48;2;181;207;107m                    \u001b[0m\n",
              "\u001b[38;2;255;255;255;48;2;57;59;121m         \u001b[0m\u001b[38;2;255;255;255;48;2;57;59;121mC…\u001b[0m\u001b[38;2;255;255;255;48;2;57;59;121m         \u001b[0m\u001b[38;2;255;255;255;48;2;222;158;214m         \u001b[0m\u001b[38;2;255;255;255;48;2;222;158;214mC…\u001b[0m\u001b[38;2;255;255;255;48;2;222;158;214m         \u001b[0m\u001b[38;2;255;255;255;48;2;173;73;74m         \u001b[0m\u001b[38;2;255;255;255;48;2;173;73;74mC…\u001b[0m\u001b[38;2;255;255;255;48;2;173;73;74m         \u001b[0m\u001b[38;2;0;0;0;48;2;181;207;107m         \u001b[0m\u001b[38;2;0;0;0;48;2;181;207;107mC…\u001b[0m\u001b[38;2;0;0;0;48;2;181;207;107m         \u001b[0m\n",
              "\u001b[38;2;255;255;255;48;2;57;59;121m         \u001b[0m\u001b[38;2;255;255;255;48;2;57;59;121m0…\u001b[0m\u001b[38;2;255;255;255;48;2;57;59;121m         \u001b[0m\u001b[38;2;255;255;255;48;2;222;158;214m         \u001b[0m\u001b[38;2;255;255;255;48;2;222;158;214m1…\u001b[0m\u001b[38;2;255;255;255;48;2;222;158;214m         \u001b[0m\u001b[38;2;255;255;255;48;2;173;73;74m         \u001b[0m\u001b[38;2;255;255;255;48;2;173;73;74m2…\u001b[0m\u001b[38;2;255;255;255;48;2;173;73;74m         \u001b[0m\u001b[38;2;0;0;0;48;2;181;207;107m         \u001b[0m\u001b[38;2;0;0;0;48;2;181;207;107m3…\u001b[0m\u001b[38;2;0;0;0;48;2;181;207;107m         \u001b[0m\n",
              "\u001b[38;2;255;255;255;48;2;57;59;121m                    \u001b[0m\u001b[38;2;255;255;255;48;2;222;158;214m                    \u001b[0m\u001b[38;2;255;255;255;48;2;173;73;74m                    \u001b[0m\u001b[38;2;0;0;0;48;2;181;207;107m                    \u001b[0m\n",
              "\u001b[38;2;255;255;255;48;2;57;59;121m                    \u001b[0m\u001b[38;2;255;255;255;48;2;222;158;214m                    \u001b[0m\u001b[38;2;255;255;255;48;2;173;73;74m                    \u001b[0m\u001b[38;2;0;0;0;48;2;181;207;107m                    \u001b[0m\n",
              "\u001b[38;2;255;255;255;48;2;57;59;121m                    \u001b[0m\u001b[38;2;255;255;255;48;2;222;158;214m                    \u001b[0m\u001b[38;2;255;255;255;48;2;173;73;74m                    \u001b[0m\u001b[38;2;0;0;0;48;2;181;207;107m                    \u001b[0m\n",
              "\u001b[38;2;255;255;255;48;2;57;59;121m                    \u001b[0m\u001b[38;2;255;255;255;48;2;222;158;214m                    \u001b[0m\u001b[38;2;255;255;255;48;2;173;73;74m                    \u001b[0m\u001b[38;2;0;0;0;48;2;181;207;107m                    \u001b[0m\n",
              "\u001b[38;2;255;255;255;48;2;57;59;121m                    \u001b[0m\u001b[38;2;255;255;255;48;2;222;158;214m                    \u001b[0m\u001b[38;2;255;255;255;48;2;173;73;74m                    \u001b[0m\u001b[38;2;0;0;0;48;2;181;207;107m                    \u001b[0m\n"
            ],
            "text/html": [
              "<pre style=\"white-space:pre;overflow-x:auto;line-height:normal;font-family:Menlo,'DejaVu Sans Mono',consolas,'Courier New',monospace\"><span style=\"color: #ffffff; text-decoration-color: #ffffff; background-color: #393b79\">                    </span><span style=\"color: #ffffff; text-decoration-color: #ffffff; background-color: #de9ed6\">                    </span><span style=\"color: #ffffff; text-decoration-color: #ffffff; background-color: #ad494a\">                    </span><span style=\"color: #000000; text-decoration-color: #000000; background-color: #b5cf6b\">                    </span>\n",
              "<span style=\"color: #ffffff; text-decoration-color: #ffffff; background-color: #393b79\">                    </span><span style=\"color: #ffffff; text-decoration-color: #ffffff; background-color: #de9ed6\">                    </span><span style=\"color: #ffffff; text-decoration-color: #ffffff; background-color: #ad494a\">                    </span><span style=\"color: #000000; text-decoration-color: #000000; background-color: #b5cf6b\">                    </span>\n",
              "<span style=\"color: #ffffff; text-decoration-color: #ffffff; background-color: #393b79\">                    </span><span style=\"color: #ffffff; text-decoration-color: #ffffff; background-color: #de9ed6\">                    </span><span style=\"color: #ffffff; text-decoration-color: #ffffff; background-color: #ad494a\">                    </span><span style=\"color: #000000; text-decoration-color: #000000; background-color: #b5cf6b\">                    </span>\n",
              "<span style=\"color: #ffffff; text-decoration-color: #ffffff; background-color: #393b79\">                    </span><span style=\"color: #ffffff; text-decoration-color: #ffffff; background-color: #de9ed6\">                    </span><span style=\"color: #ffffff; text-decoration-color: #ffffff; background-color: #ad494a\">                    </span><span style=\"color: #000000; text-decoration-color: #000000; background-color: #b5cf6b\">                    </span>\n",
              "<span style=\"color: #ffffff; text-decoration-color: #ffffff; background-color: #393b79\">                    </span><span style=\"color: #ffffff; text-decoration-color: #ffffff; background-color: #de9ed6\">                    </span><span style=\"color: #ffffff; text-decoration-color: #ffffff; background-color: #ad494a\">                    </span><span style=\"color: #000000; text-decoration-color: #000000; background-color: #b5cf6b\">                    </span>\n",
              "<span style=\"color: #ffffff; text-decoration-color: #ffffff; background-color: #393b79\">         C…         </span><span style=\"color: #ffffff; text-decoration-color: #ffffff; background-color: #de9ed6\">         C…         </span><span style=\"color: #ffffff; text-decoration-color: #ffffff; background-color: #ad494a\">         C…         </span><span style=\"color: #000000; text-decoration-color: #000000; background-color: #b5cf6b\">         C…         </span>\n",
              "<span style=\"color: #ffffff; text-decoration-color: #ffffff; background-color: #393b79\">         0…         </span><span style=\"color: #ffffff; text-decoration-color: #ffffff; background-color: #de9ed6\">         1…         </span><span style=\"color: #ffffff; text-decoration-color: #ffffff; background-color: #ad494a\">         2…         </span><span style=\"color: #000000; text-decoration-color: #000000; background-color: #b5cf6b\">         3…         </span>\n",
              "<span style=\"color: #ffffff; text-decoration-color: #ffffff; background-color: #393b79\">                    </span><span style=\"color: #ffffff; text-decoration-color: #ffffff; background-color: #de9ed6\">                    </span><span style=\"color: #ffffff; text-decoration-color: #ffffff; background-color: #ad494a\">                    </span><span style=\"color: #000000; text-decoration-color: #000000; background-color: #b5cf6b\">                    </span>\n",
              "<span style=\"color: #ffffff; text-decoration-color: #ffffff; background-color: #393b79\">                    </span><span style=\"color: #ffffff; text-decoration-color: #ffffff; background-color: #de9ed6\">                    </span><span style=\"color: #ffffff; text-decoration-color: #ffffff; background-color: #ad494a\">                    </span><span style=\"color: #000000; text-decoration-color: #000000; background-color: #b5cf6b\">                    </span>\n",
              "<span style=\"color: #ffffff; text-decoration-color: #ffffff; background-color: #393b79\">                    </span><span style=\"color: #ffffff; text-decoration-color: #ffffff; background-color: #de9ed6\">                    </span><span style=\"color: #ffffff; text-decoration-color: #ffffff; background-color: #ad494a\">                    </span><span style=\"color: #000000; text-decoration-color: #000000; background-color: #b5cf6b\">                    </span>\n",
              "<span style=\"color: #ffffff; text-decoration-color: #ffffff; background-color: #393b79\">                    </span><span style=\"color: #ffffff; text-decoration-color: #ffffff; background-color: #de9ed6\">                    </span><span style=\"color: #ffffff; text-decoration-color: #ffffff; background-color: #ad494a\">                    </span><span style=\"color: #000000; text-decoration-color: #000000; background-color: #b5cf6b\">                    </span>\n",
              "<span style=\"color: #ffffff; text-decoration-color: #ffffff; background-color: #393b79\">                    </span><span style=\"color: #ffffff; text-decoration-color: #ffffff; background-color: #de9ed6\">                    </span><span style=\"color: #ffffff; text-decoration-color: #ffffff; background-color: #ad494a\">                    </span><span style=\"color: #000000; text-decoration-color: #000000; background-color: #b5cf6b\">                    </span>\n",
              "</pre>\n"
            ]
          },
          "metadata": {}
        }
      ]
    },
    {
      "cell_type": "code",
      "source": [],
      "metadata": {
        "id": "3WdFva4P4CXa"
      },
      "execution_count": null,
      "outputs": []
    }
  ]
}